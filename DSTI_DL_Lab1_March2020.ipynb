{
 "cells": [
  {
   "cell_type": "markdown",
   "metadata": {
    "colab_type": "text",
    "id": "mYjIe2Y5gC9e"
   },
   "source": [
    "# Torch basics"
   ]
  },
  {
   "cell_type": "code",
   "execution_count": 1,
   "metadata": {
    "colab": {},
    "colab_type": "code",
    "id": "Hh6cps5cgC9g"
   },
   "outputs": [],
   "source": [
    "import matplotlib.pyplot as plt\n",
    "%matplotlib inline\n",
    "import torch\n",
    "import numpy as np"
   ]
  },
  {
   "cell_type": "code",
   "execution_count": 2,
   "metadata": {
    "colab": {
     "base_uri": "https://localhost:8080/",
     "height": 34
    },
    "colab_type": "code",
    "id": "Pe1KgPFqgC9m",
    "outputId": "2b321f37-9c1a-454d-9849-e305546cf9e4"
   },
   "outputs": [
    {
     "data": {
      "text/plain": [
       "'1.4.0'"
      ]
     },
     "execution_count": 2,
     "metadata": {},
     "output_type": "execute_result"
    }
   ],
   "source": [
    "torch.__version__"
   ]
  },
  {
   "cell_type": "markdown",
   "metadata": {
    "colab_type": "text",
    "id": "lMn2UjdXgC9r"
   },
   "source": [
    "Largely inspired from the tutorial [What is PyTorch?](https://pytorch.org/tutorials/beginner/former_torchies/tensor_tutorial.html)\n",
    "\n",
    "Tensors are used to encode the signal to process, but also the internal states and parameters of models.\n",
    "\n",
    "Manipulating data through this constrained structure allows to use CPUs and GPUs at peak performance.\n",
    "\n"
   ]
  },
  {
   "cell_type": "markdown",
   "metadata": {
    "colab_type": "text",
    "id": "loUAlh7dyVpN"
   },
   "source": [
    "## Tensors"
   ]
  },
  {
   "cell_type": "markdown",
   "metadata": {
    "colab_type": "text",
    "id": "hlUFi857xt6Q"
   },
   "source": [
    "Construct a 3x5 matrix, uninitialized:"
   ]
  },
  {
   "cell_type": "code",
   "execution_count": 3,
   "metadata": {
    "colab": {},
    "colab_type": "code",
    "id": "2kLcNt8IgC9r"
   },
   "outputs": [],
   "source": [
    "# Sets the default floating point dtype. \n",
    "# This type will be used as default floating point type for type inference in torch.tensor().\n",
    "torch.set_default_tensor_type('torch.FloatTensor') "
   ]
  },
  {
   "cell_type": "code",
   "execution_count": 4,
   "metadata": {
    "colab": {
     "base_uri": "https://localhost:8080/",
     "height": 85
    },
    "colab_type": "code",
    "id": "RjUhHCJMgC9u",
    "outputId": "89b354e6-60d1-4841-fd2c-4c38513bfb9f"
   },
   "outputs": [
    {
     "name": "stdout",
     "output_type": "stream",
     "text": [
      "torch.FloatTensor\n",
      "tensor([[9.2755e-39, 1.0561e-38, 8.9082e-39, 1.0010e-38, 1.0102e-38],\n",
      "        [4.2246e-39, 1.0286e-38, 1.0653e-38, 1.0194e-38, 8.4490e-39],\n",
      "        [1.0469e-38, 9.3674e-39, 9.9184e-39, 8.7245e-39, 9.2755e-39]])\n"
     ]
    }
   ],
   "source": [
    "x = torch.empty(3,5)\n",
    "print(x.type())\n",
    "print(x)"
   ]
  },
  {
   "cell_type": "code",
   "execution_count": 5,
   "metadata": {
    "colab": {
     "base_uri": "https://localhost:8080/",
     "height": 70
    },
    "colab_type": "code",
    "id": "MnRsrLh5gC9w",
    "outputId": "105b1b82-1cc3-4268-cb27-8578d2eda765"
   },
   "outputs": [
    {
     "name": "stdout",
     "output_type": "stream",
     "text": [
      "tensor([[-2.6455, -1.9476,  0.1374,  0.7903,  1.4549],\n",
      "        [-0.2350,  0.8606,  0.7629,  1.0894,  0.7429],\n",
      "        [ 1.2098,  0.1521, -0.0515, -0.9144,  0.7884]])\n"
     ]
    }
   ],
   "source": [
    "x = torch.randn(3,5)\n",
    "print(x)"
   ]
  },
  {
   "cell_type": "code",
   "execution_count": 6,
   "metadata": {
    "colab": {
     "base_uri": "https://localhost:8080/",
     "height": 34
    },
    "colab_type": "code",
    "id": "lfgpO7kUgC9z",
    "outputId": "352108bc-ea92-4a42-861e-2fd72914d09d"
   },
   "outputs": [
    {
     "name": "stdout",
     "output_type": "stream",
     "text": [
      "torch.Size([3, 5])\n"
     ]
    }
   ],
   "source": [
    "print(x.size())"
   ]
  },
  {
   "cell_type": "markdown",
   "metadata": {
    "colab_type": "text",
    "id": "NNLzvVKigC92"
   },
   "source": [
    "torch.Size is in fact a [tuple](https://docs.python.org/3/tutorial/datastructures.html#tuples-and-sequences), so it supports the same operations."
   ]
  },
  {
   "cell_type": "code",
   "execution_count": 7,
   "metadata": {
    "colab": {
     "base_uri": "https://localhost:8080/",
     "height": 34
    },
    "colab_type": "code",
    "id": "W-o3sFH3gC92",
    "outputId": "00f48a18-e2aa-45ec-8680-2aba08da52be"
   },
   "outputs": [
    {
     "data": {
      "text/plain": [
       "5"
      ]
     },
     "execution_count": 7,
     "metadata": {},
     "output_type": "execute_result"
    }
   ],
   "source": [
    "x.size()[1]"
   ]
  },
  {
   "cell_type": "code",
   "execution_count": 8,
   "metadata": {
    "colab": {
     "base_uri": "https://localhost:8080/",
     "height": 34
    },
    "colab_type": "code",
    "id": "LkQAasgtgC95",
    "outputId": "64a27822-23fe-4b34-da97-bd5cb8c89cd1"
   },
   "outputs": [
    {
     "data": {
      "text/plain": [
       "True"
      ]
     },
     "execution_count": 8,
     "metadata": {},
     "output_type": "execute_result"
    }
   ],
   "source": [
    "x.size() == (3,5)"
   ]
  },
  {
   "cell_type": "markdown",
   "metadata": {
    "colab_type": "text",
    "id": "GDufwT0Kstxv"
   },
   "source": [
    "Importance of the brackets when defining a tensor"
   ]
  },
  {
   "cell_type": "code",
   "execution_count": 9,
   "metadata": {
    "colab": {
     "base_uri": "https://localhost:8080/",
     "height": 119
    },
    "colab_type": "code",
    "id": "wa9IPaaqsaPg",
    "outputId": "ef8cd0a6-7f1c-4445-b838-eb9c4f5ad373"
   },
   "outputs": [
    {
     "name": "stdout",
     "output_type": "stream",
     "text": [
      "<class 'torch.Tensor'>\n",
      "torch.float32\n",
      "torch.Size([1])\n",
      "<class 'torch.Tensor'>\n",
      "torch.float32\n",
      "torch.Size([])\n"
     ]
    }
   ],
   "source": [
    "a = torch.tensor([2.0])\n",
    "print(type(a))\n",
    "print(a.dtype)\n",
    "print(a.size())\n",
    "\n",
    "b = torch.tensor(2.0)\n",
    "print(type(b))\n",
    "print(b.dtype)\n",
    "print(b.size())"
   ]
  },
  {
   "cell_type": "markdown",
   "metadata": {
    "colab_type": "text",
    "id": "XeAg1TcMhyf4"
   },
   "source": [
    "Select some columns"
   ]
  },
  {
   "cell_type": "code",
   "execution_count": 10,
   "metadata": {
    "colab": {
     "base_uri": "https://localhost:8080/",
     "height": 102
    },
    "colab_type": "code",
    "id": "DZaC-fXlgY6G",
    "outputId": "1435844e-eda6-45c4-9891-6b241c709e20"
   },
   "outputs": [
    {
     "name": "stdout",
     "output_type": "stream",
     "text": [
      "tensor([False, False, False, False, False])\n",
      "tensor([False,  True, False, False,  True])\n",
      "tensor([[-1.9476,  1.4549],\n",
      "        [ 0.8606,  0.7429],\n",
      "        [ 0.1521,  0.7884]])\n"
     ]
    }
   ],
   "source": [
    "cols = torch.zeros(5, dtype=torch.bool)\n",
    "print(cols)\n",
    "cols[1] = True\n",
    "cols[4] = True\n",
    "print(cols)\n",
    "c = x[:, cols]  # selects all rows, 4th column and  5th column from a\n",
    "print(c)"
   ]
  },
  {
   "cell_type": "markdown",
   "metadata": {
    "colab_type": "text",
    "id": "t9v3syrRf-13"
   },
   "source": [
    "All operations on the tensor that operate in-place on it will have an _ postfix. "
   ]
  },
  {
   "cell_type": "code",
   "execution_count": 11,
   "metadata": {
    "colab": {
     "base_uri": "https://localhost:8080/",
     "height": 68
    },
    "colab_type": "code",
    "id": "zr3PP5oVf1SV",
    "outputId": "7d56bdb2-df08-4ca2-b0ea-f9465e2028a2"
   },
   "outputs": [
    {
     "name": "stdout",
     "output_type": "stream",
     "text": [
      "tensor([[3.5000, 3.5000, 3.5000, 3.5000, 3.5000],\n",
      "        [3.5000, 3.5000, 3.5000, 3.5000, 3.5000],\n",
      "        [3.5000, 3.5000, 3.5000, 3.5000, 3.5000]])\n"
     ]
    }
   ],
   "source": [
    "# x will be filled with the value 3.5\n",
    "x.fill_(3.5)\n",
    "print(x)"
   ]
  },
  {
   "cell_type": "markdown",
   "metadata": {
    "colab_type": "text",
    "id": "SXPtlUXsgC96"
   },
   "source": [
    "## Bridge to numpy"
   ]
  },
  {
   "cell_type": "code",
   "execution_count": 12,
   "metadata": {
    "colab": {
     "base_uri": "https://localhost:8080/",
     "height": 68
    },
    "colab_type": "code",
    "id": "61srdUzCgC97",
    "outputId": "01a20866-322d-4452-d7c1-23fe6aa11856"
   },
   "outputs": [
    {
     "name": "stdout",
     "output_type": "stream",
     "text": [
      "[[3.5 3.5 3.5 3.5 3.5]\n",
      " [3.5 3.5 3.5 3.5 3.5]\n",
      " [3.5 3.5 3.5 3.5 3.5]]\n"
     ]
    }
   ],
   "source": [
    "y = x.numpy()\n",
    "print(y)"
   ]
  },
  {
   "cell_type": "code",
   "execution_count": 13,
   "metadata": {
    "colab": {
     "base_uri": "https://localhost:8080/",
     "height": 34
    },
    "colab_type": "code",
    "id": "tFv5BzYsgC99",
    "outputId": "3827f068-c271-4bc8-a19e-46c08a35598d"
   },
   "outputs": [
    {
     "name": "stdout",
     "output_type": "stream",
     "text": [
      "tensor([1., 1., 1., 1., 1.], dtype=torch.float64)\n"
     ]
    }
   ],
   "source": [
    "a = np.ones(5)\n",
    "b = torch.from_numpy(a)\n",
    "print(b)\n",
    " "
   ]
  },
  {
   "cell_type": "code",
   "execution_count": 14,
   "metadata": {
    "colab": {
     "base_uri": "https://localhost:8080/",
     "height": 85
    },
    "colab_type": "code",
    "id": "lfpk2tfpgC9-",
    "outputId": "0aa12a28-1c0b-462d-946e-ba7be28ddc11"
   },
   "outputs": [
    {
     "name": "stdout",
     "output_type": "stream",
     "text": [
      "tensor([[ 2.4528,  0.0787, -0.5681,  0.3849,  0.3821],\n",
      "        [-0.4056,  0.3582, -0.0649,  0.5569,  0.8859],\n",
      "        [ 1.6414, -0.7598,  1.7208, -1.1214,  0.2724]])\n",
      "tensor([1, 1, 1, 1, 1], dtype=torch.int32)\n"
     ]
    }
   ],
   "source": [
    "xr = torch.randn(3, 5)\n",
    "a = np.ones(5).astype(int)\n",
    "b = torch.from_numpy(a)\n",
    "print(xr)\n",
    "print(b)"
   ]
  },
  {
   "cell_type": "markdown",
   "metadata": {
    "colab_type": "text",
    "id": "C6sKTTlZ0RmP"
   },
   "source": [
    "### Question: print the type of the content (data) of variables a, b and xr"
   ]
  },
  {
   "cell_type": "code",
   "execution_count": 15,
   "metadata": {
    "colab": {
     "base_uri": "https://localhost:8080/",
     "height": 68
    },
    "colab_type": "code",
    "id": "k07dBWLRxARt",
    "outputId": "2e9011d0-3245-481f-92d3-bb56733dd097"
   },
   "outputs": [
    {
     "name": "stdout",
     "output_type": "stream",
     "text": [
      "int32\n",
      "torch.int32\n",
      "torch.float32\n"
     ]
    }
   ],
   "source": [
    "# COMPLETE THE CELL\n",
    "# ...\n",
    "print(a.dtype)\n",
    "print(b.dtype)\n",
    "print(xr.dtype)"
   ]
  },
  {
   "cell_type": "markdown",
   "metadata": {
    "colab_type": "text",
    "id": "7fwWdAYjUuiN"
   },
   "source": [
    "## Operations\n",
    "\n",
    "There are multiple syntaxes for operations. In the following\n",
    "example, we will take a look at the addition operation.\n",
    "\n",
    "Addition: syntax 1"
   ]
  },
  {
   "cell_type": "code",
   "execution_count": 16,
   "metadata": {
    "colab": {
     "base_uri": "https://localhost:8080/",
     "height": 102
    },
    "colab_type": "code",
    "id": "4iASmmTAUxG0",
    "outputId": "61b7e31a-6a77-4b04-fe7a-54c07bfd90b6"
   },
   "outputs": [
    {
     "name": "stdout",
     "output_type": "stream",
     "text": [
      "tensor([[1.0991, 0.5605, 1.5937],\n",
      "        [1.3075, 0.5289, 1.6312],\n",
      "        [1.4710, 1.2071, 0.4278],\n",
      "        [1.3425, 1.5236, 0.3544],\n",
      "        [0.9410, 1.7669, 1.0342]])\n"
     ]
    }
   ],
   "source": [
    "x = torch.rand(5, 3) \n",
    "y = torch.rand(5, 3)\n",
    "print(x + y)"
   ]
  },
  {
   "cell_type": "markdown",
   "metadata": {
    "colab_type": "text",
    "id": "H5NxjdPhVQP8"
   },
   "source": [
    "Addition: syntax 2"
   ]
  },
  {
   "cell_type": "code",
   "execution_count": 17,
   "metadata": {
    "colab": {
     "base_uri": "https://localhost:8080/",
     "height": 102
    },
    "colab_type": "code",
    "id": "GwCo8DOcVRHq",
    "outputId": "b527c7f4-3ee2-4fbf-f788-fe7362258e3c"
   },
   "outputs": [
    {
     "name": "stdout",
     "output_type": "stream",
     "text": [
      "tensor([[1.0991, 0.5605, 1.5937],\n",
      "        [1.3075, 0.5289, 1.6312],\n",
      "        [1.4710, 1.2071, 0.4278],\n",
      "        [1.3425, 1.5236, 0.3544],\n",
      "        [0.9410, 1.7669, 1.0342]])\n"
     ]
    }
   ],
   "source": [
    "print(torch.add(x, y))"
   ]
  },
  {
   "cell_type": "markdown",
   "metadata": {
    "colab_type": "text",
    "id": "wNuL3H61VZvS"
   },
   "source": [
    "Addition: providing an output tensor as argument"
   ]
  },
  {
   "cell_type": "code",
   "execution_count": 18,
   "metadata": {
    "colab": {
     "base_uri": "https://localhost:8080/",
     "height": 102
    },
    "colab_type": "code",
    "id": "hX1ffSunVail",
    "outputId": "d901a542-0c72-425e-8dc7-bfb7809f3174"
   },
   "outputs": [
    {
     "name": "stdout",
     "output_type": "stream",
     "text": [
      "tensor([[1.0991, 0.5605, 1.5937],\n",
      "        [1.3075, 0.5289, 1.6312],\n",
      "        [1.4710, 1.2071, 0.4278],\n",
      "        [1.3425, 1.5236, 0.3544],\n",
      "        [0.9410, 1.7669, 1.0342]])\n"
     ]
    }
   ],
   "source": [
    "result = torch.empty(5, 3)\n",
    "torch.add(x, y, out=result)\n",
    "print(result)"
   ]
  },
  {
   "cell_type": "markdown",
   "metadata": {
    "colab_type": "text",
    "id": "-VK0_f0rVejB"
   },
   "source": [
    "Addition: in-place"
   ]
  },
  {
   "cell_type": "code",
   "execution_count": 19,
   "metadata": {
    "colab": {
     "base_uri": "https://localhost:8080/",
     "height": 102
    },
    "colab_type": "code",
    "id": "rj0GKMgSVlGV",
    "outputId": "08833d0d-a134-45c3-a347-93956e9efc9b"
   },
   "outputs": [
    {
     "name": "stdout",
     "output_type": "stream",
     "text": [
      "tensor([[1.0991, 0.5605, 1.5937],\n",
      "        [1.3075, 0.5289, 1.6312],\n",
      "        [1.4710, 1.2071, 0.4278],\n",
      "        [1.3425, 1.5236, 0.3544],\n",
      "        [0.9410, 1.7669, 1.0342]])\n"
     ]
    }
   ],
   "source": [
    "# adds x to y\n",
    "y.add_(x)\n",
    "print(y)"
   ]
  },
  {
   "cell_type": "markdown",
   "metadata": {
    "colab_type": "text",
    "id": "EgNBadgeVscS"
   },
   "source": [
    "**Note:** Any operation that mutates a tensor in-place is post-fixed with an ``_``.\n",
    "    For example: ``x.copy_(y)``, ``x.t_()``, will change ``x``.\n",
    "\n"
   ]
  },
  {
   "cell_type": "markdown",
   "metadata": {
    "colab_type": "text",
    "id": "kOPtMoOkgC-G"
   },
   "source": [
    "Any operation that mutates a tensor in-place is post-fixed with an ```_```\n",
    "\n",
    "For example: ```x.copy_(y)```, ```x.t_()```, will change ```x```."
   ]
  },
  {
   "cell_type": "code",
   "execution_count": 20,
   "metadata": {
    "colab": {
     "base_uri": "https://localhost:8080/",
     "height": 70
    },
    "colab_type": "code",
    "id": "hrOV0mQIgC-G",
    "outputId": "ac794776-f513-4fe2-ef04-ddf5295fa30f"
   },
   "outputs": [
    {
     "name": "stdout",
     "output_type": "stream",
     "text": [
      "tensor([[0.5418, 0.4652, 0.5594, 0.7155, 0.7166],\n",
      "        [0.5250, 0.1787, 0.4225, 0.8119, 0.8904],\n",
      "        [0.7210, 0.7038, 0.1867, 0.1744, 0.8184]])\n"
     ]
    }
   ],
   "source": [
    "print(x.t())"
   ]
  },
  {
   "cell_type": "code",
   "execution_count": 21,
   "metadata": {
    "colab": {
     "base_uri": "https://localhost:8080/",
     "height": 102
    },
    "colab_type": "code",
    "id": "LfNnD4vSgC-H",
    "outputId": "93d1e0c5-4c1e-4550-a7bb-9b9dd7a950b1"
   },
   "outputs": [
    {
     "name": "stdout",
     "output_type": "stream",
     "text": [
      "tensor([[0.5418, 0.5250, 0.7210],\n",
      "        [0.4652, 0.1787, 0.7038],\n",
      "        [0.5594, 0.4225, 0.1867],\n",
      "        [0.7155, 0.8119, 0.1744],\n",
      "        [0.7166, 0.8904, 0.8184]])\n"
     ]
    }
   ],
   "source": [
    "print(x)"
   ]
  },
  {
   "cell_type": "code",
   "execution_count": 22,
   "metadata": {
    "colab": {
     "base_uri": "https://localhost:8080/",
     "height": 68
    },
    "colab_type": "code",
    "id": "5YdHeI8lgC-I",
    "outputId": "03bfd2fa-66ce-4b23-f4bf-f26b5100db59"
   },
   "outputs": [
    {
     "name": "stdout",
     "output_type": "stream",
     "text": [
      "tensor([[0.5418, 0.4652, 0.5594, 0.7155, 0.7166],\n",
      "        [0.5250, 0.1787, 0.4225, 0.8119, 0.8904],\n",
      "        [0.7210, 0.7038, 0.1867, 0.1744, 0.8184]])\n"
     ]
    }
   ],
   "source": [
    "x.t_()\n",
    "print(x)"
   ]
  },
  {
   "cell_type": "markdown",
   "metadata": {
    "colab_type": "text",
    "id": "UfxHIL-mWyZl"
   },
   "source": [
    "You can use standard NumPy-like indexing with all bells and whistles!"
   ]
  },
  {
   "cell_type": "code",
   "execution_count": 23,
   "metadata": {
    "colab": {
     "base_uri": "https://localhost:8080/",
     "height": 34
    },
    "colab_type": "code",
    "id": "Cz4M97B2Wtyu",
    "outputId": "20123622-f7b8-42aa-a780-a50a7b8eaf31"
   },
   "outputs": [
    {
     "name": "stdout",
     "output_type": "stream",
     "text": [
      "tensor([0.4652, 0.1787, 0.7038])\n"
     ]
    }
   ],
   "source": [
    "print(x[:, 1])"
   ]
  },
  {
   "cell_type": "markdown",
   "metadata": {
    "colab_type": "text",
    "id": "M6tsVH8zW8yB"
   },
   "source": [
    "Resizing (very useful): If you want to resize/reshape tensor, you can use ``torch.view``:"
   ]
  },
  {
   "cell_type": "code",
   "execution_count": 24,
   "metadata": {
    "colab": {
     "base_uri": "https://localhost:8080/",
     "height": 34
    },
    "colab_type": "code",
    "id": "k0qjaFPDW_3I",
    "outputId": "16c527fa-861d-4c93-d4d7-cbe813eef4a9"
   },
   "outputs": [
    {
     "name": "stdout",
     "output_type": "stream",
     "text": [
      "torch.Size([4, 4]) torch.Size([16]) torch.Size([2, 8])\n"
     ]
    }
   ],
   "source": [
    "x = torch.randn(4, 4)\n",
    "y = x.view(16)\n",
    "z = x.view(-1, 8)  # the size -1 is inferred from other dimensions\n",
    "print(x.size(), y.size(), z.size())"
   ]
  },
  {
   "cell_type": "markdown",
   "metadata": {
    "colab_type": "text",
    "id": "fP8sTTCgXRak"
   },
   "source": [
    "If you have a one element tensor, use ``.item()`` to get the value as a\n",
    "Python number"
   ]
  },
  {
   "cell_type": "code",
   "execution_count": 25,
   "metadata": {
    "colab": {
     "base_uri": "https://localhost:8080/",
     "height": 51
    },
    "colab_type": "code",
    "id": "zaG9x6SHXSPw",
    "outputId": "4bddf9ee-a5ff-4e6b-d296-68a17a9ff86f"
   },
   "outputs": [
    {
     "name": "stdout",
     "output_type": "stream",
     "text": [
      "tensor([1.3416])\n",
      "1.3416409492492676\n"
     ]
    }
   ],
   "source": [
    "x = torch.randn(1)\n",
    "print(x)\n",
    "print(x.item())"
   ]
  },
  {
   "cell_type": "markdown",
   "metadata": {
    "colab_type": "text",
    "id": "mqCvPrp-XmZQ"
   },
   "source": [
    "**Read later:**\n",
    "\n",
    "\n",
    "  100+ Tensor operations, including transposing, indexing, slicing,\n",
    "  mathematical operations, linear algebra, random numbers, etc.,\n",
    "  are described\n",
    "  [here](https://pytorch.org/docs/torch)."
   ]
  },
  {
   "cell_type": "markdown",
   "metadata": {
    "colab_type": "text",
    "id": "8Jk-JGYpeCNz"
   },
   "source": [
    "## 3D Tensors"
   ]
  },
  {
   "cell_type": "markdown",
   "metadata": {
    "colab_type": "text",
    "id": "RTGbU2E-eLWF"
   },
   "source": [
    "### Question: What is the size of the following tensor?"
   ]
  },
  {
   "cell_type": "code",
   "execution_count": 26,
   "metadata": {
    "colab": {
     "base_uri": "https://localhost:8080/",
     "height": 153
    },
    "colab_type": "code",
    "id": "d-Dg4nyOeD4f",
    "outputId": "697da773-71df-4d33-aaee-9a4eca095068"
   },
   "outputs": [
    {
     "name": "stdout",
     "output_type": "stream",
     "text": [
      "tensor([[[1, 2, 3],\n",
      "         [4, 5, 6]],\n",
      "\n",
      "        [[1, 2, 3],\n",
      "         [4, 5, 6]],\n",
      "\n",
      "        [[1, 2, 3],\n",
      "         [4, 5, 6]]])\n"
     ]
    }
   ],
   "source": [
    "y = torch.tensor([\n",
    "     [\n",
    "       [1, 2, 3],\n",
    "       [4, 5, 6]\n",
    "     ],\n",
    "     [\n",
    "       [1, 2, 3],\n",
    "       [4, 5, 6]\n",
    "     ],\n",
    "     [\n",
    "       [1, 2, 3],\n",
    "       [4, 5, 6]\n",
    "     ]\n",
    "   ])\n",
    "print(y)"
   ]
  },
  {
   "cell_type": "code",
   "execution_count": 27,
   "metadata": {
    "colab": {
     "base_uri": "https://localhost:8080/",
     "height": 34
    },
    "colab_type": "code",
    "id": "2gBU82BTe0_y",
    "outputId": "1f79cad1-7a56-4d08-9e75-09437f9a6a7e"
   },
   "outputs": [
    {
     "data": {
      "text/plain": [
       "torch.Size([3, 2, 3])"
      ]
     },
     "execution_count": 27,
     "metadata": {},
     "output_type": "execute_result"
    }
   ],
   "source": [
    "# COMPLETE THE CELL\n",
    "# ...\n",
    "y.size()"
   ]
  },
  {
   "cell_type": "markdown",
   "metadata": {
    "colab_type": "text",
    "id": "dOUGbVEUe9DC"
   },
   "source": [
    "### Question: Explain the result of the next cell"
   ]
  },
  {
   "cell_type": "code",
   "execution_count": 28,
   "metadata": {
    "colab": {
     "base_uri": "https://localhost:8080/",
     "height": 51
    },
    "colab_type": "code",
    "id": "14O04VMTe9eg",
    "outputId": "97575b04-f842-4603-c823-1f4ef679524a"
   },
   "outputs": [
    {
     "data": {
      "text/plain": [
       "tensor([[ 3,  6,  9],\n",
       "        [12, 15, 18]])"
      ]
     },
     "execution_count": 28,
     "metadata": {},
     "output_type": "execute_result"
    }
   ],
   "source": [
    "torch.sum(y, dim=0)"
   ]
  },
  {
   "cell_type": "markdown",
   "metadata": {
    "colab_type": "text",
    "id": "Y1DrPXKBD1BY"
   },
   "source": []
  },
  {
   "cell_type": "markdown",
   "metadata": {
    "colab_type": "text",
    "id": "Ev68h5j1ZUNH"
   },
   "source": [
    "## Broadcasting semantics\n",
    "\n",
    "In short, if a PyTorch operation supports broadcast, then its Tensor arguments can be automatically expanded to be of equal sizes (without making copies of the data).\n",
    "\n",
    "Two tensors are “broadcastable” if the following rules hold:\n",
    "\n",
    "*   Each tensor has at least one dimension.\n",
    "*   When iterating over the dimension sizes, **starting at the trailing dimension**, the dimension sizes must either be equal, one of them is 1, or one of them does not exist.\n",
    "\n",
    "If two tensors x, y are “broadcastable”, the resulting tensor size is calculated as follows:\n",
    "* If the number of dimensions of x and y are not equal, prepend 1 to the dimensions of the tensor with fewer dimensions to make them equal length.\n",
    "* Then, for each dimension size, the resulting dimension size is the max of the sizes of x and y along that dimension.\n",
    "\n",
    "More details [here](https://pytorch.org/docs/stable/notes/broadcasting.html)\n",
    "\n"
   ]
  },
  {
   "cell_type": "code",
   "execution_count": 29,
   "metadata": {
    "colab": {
     "base_uri": "https://localhost:8080/",
     "height": 34
    },
    "colab_type": "code",
    "id": "P3f9hXLxZXQa",
    "outputId": "387cdcf8-e76d-4513-9099-8556eeb5e01d"
   },
   "outputs": [
    {
     "name": "stdout",
     "output_type": "stream",
     "text": [
      "torch.Size([5, 3, 4, 1])\n"
     ]
    }
   ],
   "source": [
    "# can line up trailing dimensions to make reading easier\n",
    "x=torch.empty(5,1,4,1)\n",
    "y=torch.empty(  3,1,1)\n",
    "print((x+y).size())\n",
    "\n"
   ]
  },
  {
   "cell_type": "code",
   "execution_count": 30,
   "metadata": {
    "colab": {
     "base_uri": "https://localhost:8080/",
     "height": 34
    },
    "colab_type": "code",
    "id": "LsYo7aBqaJ5F",
    "outputId": "cc7129b3-cdab-4c92-9551-c918f4d13600"
   },
   "outputs": [
    {
     "name": "stdout",
     "output_type": "stream",
     "text": [
      "torch.Size([3, 1, 7])\n"
     ]
    }
   ],
   "source": [
    "# but not necessary:\n",
    "x=torch.empty(1)\n",
    "y=torch.empty(3,1,7)\n",
    "print((x+y).size())\n",
    "\n"
   ]
  },
  {
   "cell_type": "markdown",
   "metadata": {
    "colab_type": "text",
    "id": "0n_Y_hY6fxeL"
   },
   "source": [
    "### Question: The following command does not work. Why?\n",
    "\n"
   ]
  },
  {
   "cell_type": "code",
   "execution_count": 31,
   "metadata": {
    "colab": {
     "base_uri": "https://localhost:8080/",
     "height": 198
    },
    "colab_type": "code",
    "id": "Vq3SqanjaO6U",
    "outputId": "884ac66a-2955-4c0b-e0dd-9a875888a590"
   },
   "outputs": [],
   "source": [
    "# x=torch.empty(5,2,4,1)\n",
    "# y=torch.empty(  3,1,1)\n",
    "# print((x+y).size())\n"
   ]
  },
  {
   "cell_type": "markdown",
   "metadata": {
    "colab_type": "text",
    "id": "B5O4WnUcFyIt"
   },
   "source": [
    "3rd dimension is not empty neither 1 in both tensors. could work if like below"
   ]
  },
  {
   "cell_type": "code",
   "execution_count": 32,
   "metadata": {
    "colab": {
     "base_uri": "https://localhost:8080/",
     "height": 34
    },
    "colab_type": "code",
    "id": "CIlbHFeBF813",
    "outputId": "7c4c6d6b-d4e8-44c2-c609-cdc17bf0d296"
   },
   "outputs": [
    {
     "name": "stdout",
     "output_type": "stream",
     "text": [
      "torch.Size([5, 3, 4, 1])\n"
     ]
    }
   ],
   "source": [
    "x=torch.empty(5,1,4,1)\n",
    "y=torch.empty(  3,1,1)\n",
    "print((x+y).size())"
   ]
  },
  {
   "cell_type": "code",
   "execution_count": 33,
   "metadata": {
    "colab": {
     "base_uri": "https://localhost:8080/",
     "height": 323
    },
    "colab_type": "code",
    "id": "ha4-WRJ0g4l9",
    "outputId": "621def13-cc82-48ad-f336-a568840e93c1"
   },
   "outputs": [
    {
     "name": "stdout",
     "output_type": "stream",
     "text": [
      "x: tensor([[2., 2., 2., 2.],\n",
      "        [2., 2., 2., 2.]])\n",
      "y: tensor([[[1., 1., 1., 1.],\n",
      "         [1., 1., 1., 1.]],\n",
      "\n",
      "        [[1., 1., 1., 1.],\n",
      "         [1., 1., 1., 1.]],\n",
      "\n",
      "        [[1., 1., 1., 1.],\n",
      "         [1., 1., 1., 1.]]])\n",
      "x+y: tensor([[[3., 3., 3., 3.],\n",
      "         [3., 3., 3., 3.]],\n",
      "\n",
      "        [[3., 3., 3., 3.],\n",
      "         [3., 3., 3., 3.]],\n",
      "\n",
      "        [[3., 3., 3., 3.],\n",
      "         [3., 3., 3., 3.]]])\n"
     ]
    }
   ],
   "source": [
    "x=2*torch.ones(  2,4)\n",
    "print(\"x:\",x)\n",
    "y=torch.ones(3,2,4)\n",
    "print(\"y:\",y)\n",
    "print(\"x+y:\",x+y)"
   ]
  },
  {
   "cell_type": "markdown",
   "metadata": {
    "colab_type": "text",
    "id": "Afol8pk8VPUn"
   },
   "source": [
    "### Question: What is the diffence between \"x = xr\" and \"x = xr.clone()\"? "
   ]
  },
  {
   "cell_type": "code",
   "execution_count": 34,
   "metadata": {
    "colab": {
     "base_uri": "https://localhost:8080/",
     "height": 119
    },
    "colab_type": "code",
    "id": "ROIvJcOngC-E",
    "outputId": "6ade0028-4340-4629-d566-bb041b87e11c"
   },
   "outputs": [
    {
     "name": "stdout",
     "output_type": "stream",
     "text": [
      "tensor([[0., 0., 0., 0., 0.],\n",
      "        [0., 0., 0., 0., 0.],\n",
      "        [0., 0., 0., 0., 0.]])\n",
      "tensor([[ 2.4528,  0.0787, -0.5681,  0.3849,  0.3821],\n",
      "        [-0.4056,  0.3582, -0.0649,  0.5569,  0.8859],\n",
      "        [ 1.6414, -0.7598,  1.7208, -1.1214,  0.2724]])\n"
     ]
    }
   ],
   "source": [
    "x = xr.clone()\n",
    "x.add_(-xr)\n",
    "print(x)\n",
    "print(xr)"
   ]
  },
  {
   "cell_type": "code",
   "execution_count": 35,
   "metadata": {
    "colab": {
     "base_uri": "https://localhost:8080/",
     "height": 119
    },
    "colab_type": "code",
    "id": "3nKwJTcpHSk0",
    "outputId": "2b29ce15-a417-4f8d-8c81-212996e9e19c"
   },
   "outputs": [
    {
     "name": "stdout",
     "output_type": "stream",
     "text": [
      "tensor([[0., 0., 0., 0., 0.],\n",
      "        [0., 0., 0., 0., 0.],\n",
      "        [0., 0., 0., 0., 0.]])\n",
      "tensor([[0., 0., 0., 0., 0.],\n",
      "        [0., 0., 0., 0., 0.],\n",
      "        [0., 0., 0., 0., 0.]])\n"
     ]
    }
   ],
   "source": [
    "x = xr\n",
    "x.add_(-xr)\n",
    "print(x)\n",
    "print(xr)"
   ]
  },
  {
   "cell_type": "markdown",
   "metadata": {
    "colab_type": "text",
    "id": "UWxZLzMrgC-J"
   },
   "source": [
    "Also be careful, changing the torch tensor modify the numpy array and vice-versa..."
   ]
  },
  {
   "cell_type": "code",
   "execution_count": 36,
   "metadata": {
    "colab": {
     "base_uri": "https://localhost:8080/",
     "height": 87
    },
    "colab_type": "code",
    "id": "lkcW43iugC-J",
    "outputId": "45513f38-ae00-4d1e-cad1-f56e54851055"
   },
   "outputs": [
    {
     "name": "stdout",
     "output_type": "stream",
     "text": [
      "tensor([[1., 1., 1., 1.],\n",
      "        [1., 1., 1., 1.]])\n",
      "[[1. 1. 1. 1.]\n",
      " [1. 1. 1. 1.]]\n"
     ]
    }
   ],
   "source": [
    "y=torch.ones(2,4)\n",
    "print(y)\n",
    "z = y.numpy()\n",
    "print(z)"
   ]
  },
  {
   "cell_type": "code",
   "execution_count": 37,
   "metadata": {
    "colab": {
     "base_uri": "https://localhost:8080/",
     "height": 170
    },
    "colab_type": "code",
    "id": "qvRrtvz1gC-K",
    "outputId": "476483f0-63f5-41cb-8915-7fd7f8565d24"
   },
   "outputs": [
    {
     "name": "stdout",
     "output_type": "stream",
     "text": [
      "z= [[2. 2. 2. 2.]\n",
      " [2. 2. 2. 2.]]\n",
      "y= tensor([[2., 2., 2., 2.],\n",
      "        [2., 2., 2., 2.]]) \n",
      "\n",
      "z= [[-2. -2. -2. -2.]\n",
      " [-2. -2. -2. -2.]]\n",
      "y= tensor([[-2., -2., -2., -2.],\n",
      "        [-2., -2., -2., -2.]])\n"
     ]
    }
   ],
   "source": [
    "np.add(z, 1, out=z)\n",
    "print(\"z=\", z)\n",
    "print(\"y=\", y,\"\\n\")\n",
    "torch.add(y, -4, out=y)\n",
    "print(\"z=\",z)\n",
    "print(\"y=\",y)"
   ]
  },
  {
   "cell_type": "markdown",
   "metadata": {
    "colab_type": "text",
    "id": "AmGizC3pMbm8"
   },
   "source": [
    "## Computational graphs"
   ]
  },
  {
   "cell_type": "code",
   "execution_count": 38,
   "metadata": {
    "colab": {},
    "colab_type": "code",
    "id": "O5Kw7MQpMxWB"
   },
   "outputs": [],
   "source": [
    "import matplotlib.pyplot as plt\n",
    "%matplotlib inline\n",
    "import torch"
   ]
  },
  {
   "cell_type": "code",
   "execution_count": 41,
   "metadata": {
    "colab": {
     "base_uri": "https://localhost:8080/",
     "height": 221
    },
    "colab_type": "code",
    "id": "2Gza10WeM10G",
    "outputId": "2c4f1c41-308e-43a8-b7bd-b35160279bfe"
   },
   "outputs": [],
   "source": [
    "# !conda install -c anaconda pydot\n",
    "# !pip install torchviz\n",
    "import os\n",
    "os.environ[\"PATH\"] += os.pathsep + 'C:/MY_SOFTS/DEV/OTHERS/GraphViz/bin/'"
   ]
  },
  {
   "cell_type": "code",
   "execution_count": 42,
   "metadata": {
    "colab": {},
    "colab_type": "code",
    "id": "1nEbmC7TM1mw"
   },
   "outputs": [],
   "source": [
    "import torchviz"
   ]
  },
  {
   "cell_type": "code",
   "execution_count": 43,
   "metadata": {
    "colab": {
     "base_uri": "https://localhost:8080/",
     "height": 315
    },
    "colab_type": "code",
    "id": "5Z2dMtEOMuWb",
    "outputId": "0e162770-0dcc-4fd4-b513-23aa41f718d8"
   },
   "outputs": [
    {
     "name": "stdout",
     "output_type": "stream",
     "text": [
      "tensor([[1., 1.],\n",
      "        [1., 1.]], requires_grad=True)\n",
      "tensor([[0.1914]], requires_grad=True)\n",
      "tensor([[2.1914, 2.1914],\n",
      "        [2.1914, 2.1914]], grad_fn=<AddBackward0>)\n"
     ]
    },
    {
     "data": {
      "image/svg+xml": [
       "<?xml version=\"1.0\" encoding=\"UTF-8\" standalone=\"no\"?>\r\n",
       "<!DOCTYPE svg PUBLIC \"-//W3C//DTD SVG 1.1//EN\"\r\n",
       " \"http://www.w3.org/Graphics/SVG/1.1/DTD/svg11.dtd\">\r\n",
       "<!-- Generated by graphviz version 2.38.0 (20140413.2041)\r\n",
       " -->\r\n",
       "<!-- Title: %3 Pages: 1 -->\r\n",
       "<svg width=\"134pt\" height=\"157pt\"\r\n",
       " viewBox=\"0.00 0.00 134.00 157.00\" xmlns=\"http://www.w3.org/2000/svg\" xmlns:xlink=\"http://www.w3.org/1999/xlink\">\r\n",
       "<g id=\"graph0\" class=\"graph\" transform=\"scale(1 1) rotate(0) translate(4 153)\">\r\n",
       "<title>%3</title>\r\n",
       "<polygon fill=\"white\" stroke=\"none\" points=\"-4,4 -4,-153 130,-153 130,4 -4,4\"/>\r\n",
       "<!-- 2029480381320 -->\r\n",
       "<g id=\"node1\" class=\"node\"><title>2029480381320</title>\r\n",
       "<polygon fill=\"#caff70\" stroke=\"black\" points=\"108,-21 18,-21 18,-0 108,-0 108,-21\"/>\r\n",
       "<text text-anchor=\"middle\" x=\"63\" y=\"-7.4\" font-family=\"Times New Roman,serif\" font-size=\"12.00\">AddBackward0</text>\r\n",
       "</g>\r\n",
       "<!-- 2029480380552 -->\r\n",
       "<g id=\"node2\" class=\"node\"><title>2029480380552</title>\r\n",
       "<polygon fill=\"lightgrey\" stroke=\"black\" points=\"107,-78 19,-78 19,-57 107,-57 107,-78\"/>\r\n",
       "<text text-anchor=\"middle\" x=\"63\" y=\"-64.4\" font-family=\"Times New Roman,serif\" font-size=\"12.00\">MulBackward0</text>\r\n",
       "</g>\r\n",
       "<!-- 2029480380552&#45;&gt;2029480381320 -->\r\n",
       "<g id=\"edge1\" class=\"edge\"><title>2029480380552&#45;&gt;2029480381320</title>\r\n",
       "<path fill=\"none\" stroke=\"black\" d=\"M63,-56.9197C63,-49.9083 63,-40.1442 63,-31.4652\"/>\r\n",
       "<polygon fill=\"black\" stroke=\"black\" points=\"66.5001,-31.3408 63,-21.3408 59.5001,-31.3409 66.5001,-31.3408\"/>\r\n",
       "</g>\r\n",
       "<!-- 2029475458376 -->\r\n",
       "<g id=\"node3\" class=\"node\"><title>2029475458376</title>\r\n",
       "<polygon fill=\"lightblue\" stroke=\"black\" points=\"54,-149 0,-149 0,-114 54,-114 54,-149\"/>\r\n",
       "<text text-anchor=\"middle\" x=\"27\" y=\"-121.4\" font-family=\"Times New Roman,serif\" font-size=\"12.00\"> (1, 1)</text>\r\n",
       "</g>\r\n",
       "<!-- 2029475458376&#45;&gt;2029480380552 -->\r\n",
       "<g id=\"edge2\" class=\"edge\"><title>2029475458376&#45;&gt;2029480380552</title>\r\n",
       "<path fill=\"none\" stroke=\"black\" d=\"M36.6473,-113.885C41.4897,-105.545 47.3684,-95.4212 52.3436,-86.8527\"/>\r\n",
       "<polygon fill=\"black\" stroke=\"black\" points=\"55.4789,-88.4232 57.4736,-78.0178 49.4254,-84.9082 55.4789,-88.4232\"/>\r\n",
       "</g>\r\n",
       "<!-- 2029475461000 -->\r\n",
       "<g id=\"node4\" class=\"node\"><title>2029475461000</title>\r\n",
       "<polygon fill=\"lightblue\" stroke=\"black\" points=\"126,-149 72,-149 72,-114 126,-114 126,-149\"/>\r\n",
       "<text text-anchor=\"middle\" x=\"99\" y=\"-121.4\" font-family=\"Times New Roman,serif\" font-size=\"12.00\"> (2, 2)</text>\r\n",
       "</g>\r\n",
       "<!-- 2029475461000&#45;&gt;2029480380552 -->\r\n",
       "<g id=\"edge3\" class=\"edge\"><title>2029475461000&#45;&gt;2029480380552</title>\r\n",
       "<path fill=\"none\" stroke=\"black\" d=\"M89.3527,-113.885C84.5103,-105.545 78.6316,-95.4212 73.6564,-86.8527\"/>\r\n",
       "<polygon fill=\"black\" stroke=\"black\" points=\"76.5746,-84.9082 68.5264,-78.0178 70.5211,-88.4232 76.5746,-84.9082\"/>\r\n",
       "</g>\r\n",
       "</g>\r\n",
       "</svg>\r\n"
      ],
      "text/plain": [
       "<graphviz.dot.Digraph at 0x1d881108508>"
      ]
     },
     "execution_count": 43,
     "metadata": {},
     "output_type": "execute_result"
    }
   ],
   "source": [
    "x = torch.ones(2, 2, requires_grad=True)\n",
    "w = torch.rand(1, 1, requires_grad=True)\n",
    "print(x)\n",
    "print(w)\n",
    "y = w * x + 2\n",
    "print(y)\n",
    "torchviz.make_dot(y)"
   ]
  },
  {
   "cell_type": "markdown",
   "metadata": {
    "colab_type": "text",
    "id": "uSvS2bdKidcc"
   },
   "source": [
    "\n",
    "## Playing with pytorch: linear regression"
   ]
  },
  {
   "cell_type": "markdown",
   "metadata": {
    "colab_type": "text",
    "id": "UzjNRT-OSCzL"
   },
   "source": [
    "Code for plotting the surface"
   ]
  },
  {
   "cell_type": "code",
   "execution_count": 44,
   "metadata": {
    "colab": {},
    "colab_type": "code",
    "id": "KhuyxIm1Rd0W"
   },
   "outputs": [],
   "source": [
    "import matplotlib.pyplot as plt\n",
    "import numpy as np\n",
    "from mpl_toolkits.mplot3d import Axes3D\n",
    "\n",
    "def plot_figs(fig_num, elev, azim, x, y, weights, bias):\n",
    "    fig = plt.figure(fig_num, figsize=(4, 3))\n",
    "    plt.clf()\n",
    "    ax = Axes3D(fig, elev=elev, azim=azim)\n",
    "    ax.scatter(x[:, 0], x[:, 1], y)\n",
    "    ax.plot_surface(np.array([[0, 0], [1, 1]]),\n",
    "                    np.array([[0, 1], [0, 1]]),\n",
    "                    (np.dot(np.array([[0, 0, 1, 1],\n",
    "                                          [0, 1, 0, 1]]).T, weights) + bias).reshape((2, 2)),\n",
    "                    alpha=.5)\n",
    "    ax.set_xlabel('x_1')\n",
    "    ax.set_ylabel('x_2')\n",
    "    ax.set_zlabel('y')\n",
    "    \n",
    "def plot_views(x, y, w, b):\n",
    "    # Generate the different figures from different views\n",
    "    elev = 43.5\n",
    "    azim = -110\n",
    "    plot_figs(1, elev, azim, x, y, w, b[0])\n",
    "\n",
    "    plt.show()"
   ]
  },
  {
   "cell_type": "markdown",
   "metadata": {
    "colab_type": "text",
    "id": "Bkt2h0X6SFmR"
   },
   "source": [
    "Code for generating the 2D points"
   ]
  },
  {
   "cell_type": "code",
   "execution_count": 45,
   "metadata": {
    "colab": {
     "base_uri": "https://localhost:8080/",
     "height": 85
    },
    "colab_type": "code",
    "id": "14tvkKCyMwYD",
    "outputId": "60debaf0-6c65-4a19-923e-3cc9b9486659"
   },
   "outputs": [
    {
     "name": "stdout",
     "output_type": "stream",
     "text": [
      "torch.Size([30, 2])\n",
      "torch.Size([2, 1])\n",
      "torch.Size([1])\n",
      "torch.Size([30, 1])\n"
     ]
    }
   ],
   "source": [
    "#Data generation (2D points)\n",
    "w_source = torch.tensor([2., -3.], dtype=torch.float).view(-1,1)\n",
    "b_source  = torch.tensor([1.], dtype=torch.float)\n",
    "\n",
    "x = torch.empty(30, 2).uniform_(0, 1) # input of the regression model\n",
    "\n",
    "print(x.shape)\n",
    "print(w_source.shape)\n",
    "print(b_source.shape)\n",
    "\n",
    "y = torch.matmul(x,w_source)+b_source # output of the regression model\n",
    "print(y.shape)"
   ]
  },
  {
   "cell_type": "markdown",
   "metadata": {
    "colab_type": "text",
    "id": "KW6YMS6tSMVr"
   },
   "source": [
    "Plot the dataset"
   ]
  },
  {
   "cell_type": "code",
   "execution_count": 46,
   "metadata": {
    "colab": {
     "base_uri": "https://localhost:8080/",
     "height": 247
    },
    "colab_type": "code",
    "id": "rMRbqdZaRjCz",
    "outputId": "b8550bee-8607-44c7-9b4b-b27e8ac0f7cd"
   },
   "outputs": [
    {
     "data": {
      "image/png": "[encoded data removed]",
      "text/plain": [
       "<Figure size 288x216 with 1 Axes>"
      ]
     },
     "metadata": {
      "needs_background": "light"
     },
     "output_type": "display_data"
    }
   ],
   "source": [
    "plot_views(x.numpy(), y.numpy(), w_source.numpy(), b_source.numpy())"
   ]
  },
  {
   "cell_type": "code",
   "execution_count": 68,
   "metadata": {
    "colab": {
     "base_uri": "https://localhost:8080/",
     "height": 85
    },
    "colab_type": "code",
    "id": "bsGaEFPRiduc",
    "outputId": "cbe59565-1a63-4fea-c45b-205c4d28a9b0"
   },
   "outputs": [
    {
     "name": "stdout",
     "output_type": "stream",
     "text": [
      "Initial values of the parameters:\n",
      "tensor([[-0.5175],\n",
      "        [ 0.6793]])\n",
      "tensor([[0.3471]])\n"
     ]
    }
   ],
   "source": [
    "# randomly initialize learnable weights and bias\n",
    "w_t_init = torch.empty(2, 1).uniform_(-1, 1) \n",
    "b_t_init = torch.empty(1, 1).uniform_(-1, 1)\n",
    "\n",
    "print(\"Initial values of the parameters:\")\n",
    "print(w_t_init) \n",
    "print(b_t_init)\n",
    "\n"
   ]
  },
  {
   "cell_type": "markdown",
   "metadata": {
    "colab_type": "text",
    "id": "y2GD_KIBUTgS"
   },
   "source": [
    "### Question: calculate the gradient of the loss and code it."
   ]
  },
  {
   "cell_type": "code",
   "execution_count": 119,
   "metadata": {
    "colab": {},
    "colab_type": "code",
    "id": "xSwsgVkpPE2i"
   },
   "outputs": [],
   "source": [
    "# our model forward pass\n",
    "def forward_t(x):\n",
    "    return x.mm(w_t)+b_t\n",
    "\n",
    "# Loss function - mean square error\n",
    "def loss_t(x, y):\n",
    "    y_pred = forward_t(x)\n",
    "    return (y_pred - y).pow(2).sum()\n",
    "\n",
    "# compute gradient\n",
    "def gradient_t(x, y):  # d_loss/d_w, d_loss/d_c\n",
    "    # COMPLETE THE CELL FROM HERE\n",
    "    # ...\n",
    "    y_pred = forward_t(x)\n",
    "    grad_w = 2 * (x.t().mm(y-y_pred)) \n",
    "    grad_b = 2 * torch.ones(1,30).mm(y-y_pred)\n",
    "    \n",
    "    return grad_w, grad_b\n"
   ]
  },
  {
   "cell_type": "markdown",
   "metadata": {
    "colab_type": "text",
    "id": "7x8wNpUISp88"
   },
   "source": [
    "Main loop for computing the estimate (gradient descent)"
   ]
  },
  {
   "cell_type": "markdown",
   "metadata": {
    "colab_type": "text",
    "id": "pAAxsXCqUSuR"
   },
   "source": [
    "### Question: code the gradient descent algorithm within the main loop."
   ]
  },
  {
   "cell_type": "code",
   "execution_count": 131,
   "metadata": {
    "colab": {
     "base_uri": "https://localhost:8080/",
     "height": 266
    },
    "colab_type": "code",
    "id": "zmh-_IHaidxp",
    "outputId": "653c470c-b4c7-42e0-c452-e7cedd84757c",
    "scrolled": true
   },
   "outputs": [
    {
     "name": "stdout",
     "output_type": "stream",
     "text": [
      "w_t: torch.Size([2, 1]) tensor([[-0.5175],\n",
      "        [ 0.6793]])\n",
      "b_t: torch.Size([1, 1]) tensor([[0.3471]])\n",
      "grad_w: torch.Size([2, 1]) tensor([[ 10.1624],\n",
      "        [-15.4098]])\n",
      "grad_b: torch.Size([1, 1]) tensor([[-6.1189]])\n",
      "***********************************************\n",
      "progress: epoch: 0 loss tensor(39.1436)\n",
      "w_t: torch.Size([2, 1]) tensor([[-0.6191],\n",
      "        [ 0.8334]])\n",
      "b_t: torch.Size([1, 1]) tensor([[0.4083]])\n",
      "grad_w: torch.Size([2, 1]) tensor([[  8.0626],\n",
      "        [-18.8813]])\n",
      "grad_b: torch.Size([1, 1]) tensor([[-11.7929]])\n",
      "***********************************************\n",
      "progress: epoch: 1 loss tensor(43.2597)\n",
      "w_t: torch.Size([2, 1]) tensor([[-0.6998],\n",
      "        [ 1.0222]])\n",
      "b_t: torch.Size([1, 1]) tensor([[0.5263]])\n",
      "grad_w: torch.Size([2, 1]) tensor([[  3.5175],\n",
      "        [-25.1079]])\n",
      "grad_b: torch.Size([1, 1]) tensor([[-22.5411]])\n",
      "***********************************************\n",
      "progress: epoch: 2 loss tensor(49.9039)\n",
      "w_t: torch.Size([2, 1]) tensor([[-0.7349],\n",
      "        [ 1.2733]])\n",
      "b_t: torch.Size([1, 1]) tensor([[0.7517]])\n",
      "grad_w: torch.Size([2, 1]) tensor([[ -5.7104],\n",
      "        [-36.5668]])\n",
      "grad_b: torch.Size([1, 1]) tensor([[-42.9491]])\n",
      "***********************************************\n",
      "progress: epoch: 3 loss tensor(64.9891)\n",
      "w_t: torch.Size([2, 1]) tensor([[-0.6778],\n",
      "        [ 1.6390]])\n",
      "b_t: torch.Size([1, 1]) tensor([[1.1812]])\n",
      "grad_w: torch.Size([2, 1]) tensor([[-23.8840],\n",
      "        [-57.9748]])\n",
      "grad_b: torch.Size([1, 1]) tensor([[-81.7506]])\n",
      "***********************************************\n",
      "progress: epoch: 4 loss tensor(109.8981)\n",
      "w_t: torch.Size([2, 1]) tensor([[-0.4390],\n",
      "        [ 2.2187]])\n",
      "b_t: torch.Size([1, 1]) tensor([[1.9987]])\n",
      "grad_w: torch.Size([2, 1]) tensor([[-59.1232],\n",
      "        [-98.3149]])\n",
      "grad_b: torch.Size([1, 1]) tensor([[-155.5796]])\n",
      "***********************************************\n",
      "progress: epoch: 5 loss tensor(262.1246)\n",
      "w_t: torch.Size([2, 1]) tensor([[0.1522],\n",
      "        [3.2019]])\n",
      "b_t: torch.Size([1, 1]) tensor([[3.5545]])\n",
      "grad_w: torch.Size([2, 1]) tensor([[-126.8947],\n",
      "        [-174.6955]])\n",
      "grad_b: torch.Size([1, 1]) tensor([[-296.1166]])\n",
      "***********************************************\n",
      "progress: epoch: 6 loss tensor(802.6930)\n",
      "w_t: torch.Size([2, 1]) tensor([[1.4212],\n",
      "        [4.9488]])\n",
      "b_t: torch.Size([1, 1]) tensor([[6.5156]])\n",
      "grad_w: torch.Size([2, 1]) tensor([[-256.6573],\n",
      "        [-319.7001]])\n",
      "grad_b: torch.Size([1, 1]) tensor([[-563.6995]])\n",
      "***********************************************\n",
      "progress: epoch: 7 loss tensor(2750.9189)\n",
      "w_t: torch.Size([2, 1]) tensor([[3.9877],\n",
      "        [8.1458]])\n",
      "b_t: torch.Size([1, 1]) tensor([[12.1526]])\n",
      "grad_w: torch.Size([2, 1]) tensor([[-504.5195],\n",
      "        [-595.3857]])\n",
      "grad_b: torch.Size([1, 1]) tensor([[-1073.2467]])\n",
      "***********************************************\n",
      "progress: epoch: 8 loss tensor(9804.2207)\n",
      "w_t: torch.Size([2, 1]) tensor([[ 9.0329],\n",
      "        [14.0997]])\n",
      "b_t: torch.Size([1, 1]) tensor([[22.8851]])\n",
      "grad_w: torch.Size([2, 1]) tensor([[ -977.3455],\n",
      "        [-1119.9447]])\n",
      "grad_b: torch.Size([1, 1]) tensor([[-2043.6296]])\n",
      "***********************************************\n",
      "progress: epoch: 9 loss tensor(35374.6680)\n"
     ]
    }
   ],
   "source": [
    "learning_rate = 1e-2\n",
    "\n",
    "w_t = w_t_init.clone()\n",
    "b_t = b_t_init.clone()\n",
    "\n",
    "\n",
    "for epoch in range(10):\n",
    "    l = loss_t(x,y)\n",
    "    \n",
    "    grad_w, grad_b = gradient_t(x,y)\n",
    "    print(\"w_t:\",w_t.size(),w_t)\n",
    "    print(\"b_t:\",b_t.size(),b_t)\n",
    "    print(\"grad_w:\",grad_w.size(),grad_w)\n",
    "    print(\"grad_b:\",grad_b.size(),grad_b)\n",
    "    \n",
    "    # COMPLETE THE CELL FROM HERE\n",
    "    # ...\n",
    "    w_t -= learning_rate * grad_w\n",
    "    b_t -= learning_rate * grad_b\n",
    "    print(\"***********************************************\")\n",
    "    print(\"progress:\", \"epoch:\", epoch, \"loss\",l)"
   ]
  },
  {
   "cell_type": "code",
   "execution_count": 130,
   "metadata": {
    "colab": {
     "base_uri": "https://localhost:8080/",
     "height": 85
    },
    "colab_type": "code",
    "id": "87XspCGIid0t",
    "outputId": "e892c4fc-b319-447e-fdd7-450a1806f9eb"
   },
   "outputs": [
    {
     "name": "stdout",
     "output_type": "stream",
     "text": [
      "Estimation of the parameters:\n",
      "tensor([[-0.5176],\n",
      "        [ 0.6795]])\n",
      "tensor([[0.3472]])\n"
     ]
    }
   ],
   "source": [
    "# After training\n",
    "print(\"Estimation of the parameters:\")\n",
    "print(w_t)\n",
    "print(b_t)"
   ]
  },
  {
   "cell_type": "markdown",
   "metadata": {
    "colab_type": "text",
    "id": "sceg1L15TqSy"
   },
   "source": [
    "### Question: Test a higger learning rate (e.g., learning_rate = 1). Explain what you observe."
   ]
  },
  {
   "cell_type": "markdown",
   "metadata": {
    "colab_type": "text",
    "id": "gqWJFYZSTX_m"
   },
   "source": [
    "### Question: How to improve the quality of the estimate?"
   ]
  }
 ],
 "metadata": {
  "accelerator": "GPU",
  "colab": {
   "collapsed_sections": [],
   "name": "DSTI_DL_Lab1_March2020.ipynb",
   "provenance": [],
   "toc_visible": true
  },
  "kernelspec": {
   "display_name": "Python [conda env:test]",
   "language": "python",
   "name": "conda-env-test-py"
  },
  "language_info": {
   "codemirror_mode": {
    "name": "ipython",
    "version": 3
   },
   "file_extension": ".py",
   "mimetype": "text/x-python",
   "name": "python",
   "nbconvert_exporter": "python",
   "pygments_lexer": "ipython3",
   "version": "3.7.6"
  }
 },
 "nbformat": 4,
 "nbformat_minor": 1
}
