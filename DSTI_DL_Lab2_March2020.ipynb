{
 "cells": [
  {
   "cell_type": "markdown",
   "metadata": {
    "colab_type": "text",
    "id": "Zt3nY3xZgC-Q"
   },
   "source": [
    "# Autograd: automatic differentiation\n",
    "\n",
    "When executing tensor operations, PyTorch can automatically construct on-the-fly the graph of operations to compute the gradient of any quantity with respect to any tensor involved.\n",
    "\n",
    "More information on autotomatic differentiation in Pytorch [here](https://pytorch.org/tutorials/beginner/blitz/autograd_tutorial.html#sphx-glr-beginner-blitz-autograd-tutorial-py)"
   ]
  },
  {
   "cell_type": "markdown",
   "metadata": {
    "colab_type": "text",
    "id": "FznlXGW9NvPq"
   },
   "source": [
    "## Visualizing the computational graph"
   ]
  },
  {
   "cell_type": "code",
   "execution_count": 0,
   "metadata": {
    "colab": {},
    "colab_type": "code",
    "id": "Hh6cps5cgC9g"
   },
   "outputs": [],
   "source": [
    "import matplotlib.pyplot as plt\n",
    "%matplotlib inline\n",
    "import torch"
   ]
  },
  {
   "cell_type": "markdown",
   "metadata": {
    "colab_type": "text",
    "id": "UUvKk98Snblr"
   },
   "source": [
    "PyTorchViz is a small package to create visualizations of PyTorch execution graphs and traces."
   ]
  },
  {
   "cell_type": "code",
   "execution_count": 0,
   "metadata": {
    "colab": {
     "base_uri": "https://localhost:8080/",
     "height": 241
    },
    "colab_type": "code",
    "id": "_V6Sd1VEnKxQ",
    "outputId": "f4e06d66-6c4c-4b31-9fe4-063587f615ab"
   },
   "outputs": [
    {
     "name": "stdout",
     "output_type": "stream",
     "text": [
      "Collecting torchviz\n",
      "\u001b[?25l  Downloading https://files.pythonhosted.org/packages/8f/8e/a9630c7786b846d08b47714dd363a051f5e37b4ea0e534460d8cdfc1644b/torchviz-0.0.1.tar.gz (41kB)\n",
      "\r",
      "\u001b[K     |████████                        | 10kB 23.6MB/s eta 0:00:01\r",
      "\u001b[K     |████████████████                | 20kB 28.2MB/s eta 0:00:01\r",
      "\u001b[K     |███████████████████████▉        | 30kB 18.6MB/s eta 0:00:01\r",
      "\u001b[K     |███████████████████████████████▉| 40kB 15.3MB/s eta 0:00:01\r",
      "\u001b[K     |████████████████████████████████| 51kB 6.7MB/s \n",
      "\u001b[?25hRequirement already satisfied: torch in /usr/local/lib/python3.6/dist-packages (from torchviz) (1.4.0)\n",
      "Requirement already satisfied: graphviz in /usr/local/lib/python3.6/dist-packages (from torchviz) (0.10.1)\n",
      "Building wheels for collected packages: torchviz\n",
      "  Building wheel for torchviz (setup.py) ... \u001b[?25l\u001b[?25hdone\n",
      "  Created wheel for torchviz: filename=torchviz-0.0.1-cp36-none-any.whl size=3523 sha256=34842fec7e206c99e61c7e0f4e3125196ec09808201f7be7fbacb2d63856f733\n",
      "  Stored in directory: /root/.cache/pip/wheels/2a/c2/c5/b8b4d0f7992c735f6db5bfa3c5f354cf36502037ca2b585667\n",
      "Successfully built torchviz\n",
      "Installing collected packages: torchviz\n",
      "Successfully installed torchviz-0.0.1\n"
     ]
    }
   ],
   "source": [
    "!pip install torchviz\n"
   ]
  },
  {
   "cell_type": "code",
   "execution_count": 0,
   "metadata": {
    "colab": {},
    "colab_type": "code",
    "id": "Htgg-1C1ChI1"
   },
   "outputs": [],
   "source": [
    "import torchviz"
   ]
  },
  {
   "cell_type": "markdown",
   "metadata": {
    "colab_type": "text",
    "id": "wYsJ94KYrquH"
   },
   "source": [
    "Inn order to enable automatic differentiation, PyTorch keeps track of all operations involving tensors for which the gradient may need to be computed (i.e., require_grad is True). The operations are recorded as a directed graph. \n",
    "\n",
    "Torch tensors are recalled [here](https://pytorch.org/docs/stable/tensors.html) \n",
    "\n"
   ]
  },
  {
   "cell_type": "code",
   "execution_count": 0,
   "metadata": {
    "colab": {
     "base_uri": "https://localhost:8080/",
     "height": 51
    },
    "colab_type": "code",
    "id": "xJQfkBHxsPLF",
    "outputId": "e30fbd8f-8031-4932-eea4-e4b40dfae913"
   },
   "outputs": [
    {
     "name": "stdout",
     "output_type": "stream",
     "text": [
      "tensor([[1., 1.],\n",
      "        [1., 1.]])\n"
     ]
    }
   ],
   "source": [
    "x = torch.ones(2, 2)\n",
    "print(x)"
   ]
  },
  {
   "cell_type": "markdown",
   "metadata": {
    "colab_type": "text",
    "id": "onirJsB5gC-R"
   },
   "source": [
    "A Tensor has a Boolean field *requires_grad*, set to False by default, which states if PyTorch should build the graph of operations so that gradients wrt to it can be computed."
   ]
  },
  {
   "cell_type": "code",
   "execution_count": 0,
   "metadata": {
    "colab": {
     "base_uri": "https://localhost:8080/",
     "height": 34
    },
    "colab_type": "code",
    "id": "7KOHka8fgC-R",
    "outputId": "eb8fd4ce-0a68-44bd-ce52-522f689037c4"
   },
   "outputs": [
    {
     "data": {
      "text/plain": [
       "False"
      ]
     },
     "execution_count": 5,
     "metadata": {
      "tags": []
     },
     "output_type": "execute_result"
    }
   ],
   "source": [
    "x.requires_grad"
   ]
  },
  {
   "cell_type": "code",
   "execution_count": 0,
   "metadata": {
    "colab": {
     "base_uri": "https://localhost:8080/",
     "height": 51
    },
    "colab_type": "code",
    "id": "qCupY_tygC-S",
    "outputId": "be86e453-f11d-4905-bc40-25acc1e4864b"
   },
   "outputs": [
    {
     "data": {
      "text/plain": [
       "array([[1., 1.],\n",
       "       [1., 1.]], dtype=float32)"
      ]
     },
     "execution_count": 6,
     "metadata": {
      "tags": []
     },
     "output_type": "execute_result"
    }
   ],
   "source": [
    "x.numpy()"
   ]
  },
  {
   "cell_type": "code",
   "execution_count": 0,
   "metadata": {
    "colab": {
     "base_uri": "https://localhost:8080/",
     "height": 34
    },
    "colab_type": "code",
    "id": "hWF-cjdugC-T",
    "outputId": "dc490ad5-6cf1-4d7d-80f5-d14bb9470e15"
   },
   "outputs": [
    {
     "data": {
      "text/plain": [
       "True"
      ]
     },
     "execution_count": 7,
     "metadata": {
      "tags": []
     },
     "output_type": "execute_result"
    }
   ],
   "source": [
    "x.requires_grad_(True)\n",
    "x.requires_grad"
   ]
  },
  {
   "cell_type": "markdown",
   "metadata": {
    "colab_type": "text",
    "id": "E8UvVzIDsgy-"
   },
   "source": [
    "### Question: The following cell gives an error. Why?"
   ]
  },
  {
   "cell_type": "code",
   "execution_count": 0,
   "metadata": {
    "colab": {
     "base_uri": "https://localhost:8080/",
     "height": 164
    },
    "colab_type": "code",
    "id": "-3hhJbzSsbKT",
    "outputId": "25399bd0-a96f-408d-b58b-c1c530dcf3a6"
   },
   "outputs": [
    {
     "ename": "RuntimeError",
     "evalue": "ignored",
     "output_type": "error",
     "traceback": [
      "\u001b[0;31m---------------------------------------------------------------------------\u001b[0m",
      "\u001b[0;31mRuntimeError\u001b[0m                              Traceback (most recent call last)",
      "\u001b[0;32m<ipython-input-8-2527552080a3>\u001b[0m in \u001b[0;36m<module>\u001b[0;34m()\u001b[0m\n\u001b[0;32m----> 1\u001b[0;31m \u001b[0mx\u001b[0m\u001b[0;34m.\u001b[0m\u001b[0mnumpy\u001b[0m\u001b[0;34m(\u001b[0m\u001b[0;34m)\u001b[0m\u001b[0;34m\u001b[0m\u001b[0;34m\u001b[0m\u001b[0m\n\u001b[0m",
      "\u001b[0;31mRuntimeError\u001b[0m: Can't call numpy() on Variable that requires grad. Use var.detach().numpy() instead."
     ]
    }
   ],
   "source": [
    "x.numpy()"
   ]
  },
  {
   "cell_type": "markdown",
   "metadata": {
    "colab_type": "text",
    "id": "ZbK4X5CFr0f2"
   },
   "source": [
    "The detach() method constructs a new view on a tensor which is declared not to need gradients, i.e., it is to be excluded from further tracking of operations, and therefore the subgraph involving this view is not recorded."
   ]
  },
  {
   "cell_type": "code",
   "execution_count": 0,
   "metadata": {
    "colab": {
     "base_uri": "https://localhost:8080/",
     "height": 51
    },
    "colab_type": "code",
    "id": "4tbWCPc5gC-T",
    "outputId": "9b276e70-72ed-4dcd-cd49-96e2a5cd93a5"
   },
   "outputs": [
    {
     "data": {
      "text/plain": [
       "array([[1., 1.],\n",
       "       [1., 1.]], dtype=float32)"
      ]
     },
     "execution_count": 9,
     "metadata": {
      "tags": []
     },
     "output_type": "execute_result"
    }
   ],
   "source": [
    "x.detach().numpy()"
   ]
  },
  {
   "cell_type": "code",
   "execution_count": 0,
   "metadata": {
    "colab": {
     "base_uri": "https://localhost:8080/",
     "height": 51
    },
    "colab_type": "code",
    "id": "raHZBNwMgC-U",
    "outputId": "4bd59273-8cbd-44da-f888-71820c500cb9"
   },
   "outputs": [
    {
     "data": {
      "text/plain": [
       "array([[1., 1.],\n",
       "       [1., 1.]], dtype=float32)"
      ]
     },
     "execution_count": 10,
     "metadata": {
      "tags": []
     },
     "output_type": "execute_result"
    }
   ],
   "source": [
    "x.data.numpy() # Torch.data returns the \"data\" (array_like) stored in the tensor"
   ]
  },
  {
   "cell_type": "code",
   "execution_count": 0,
   "metadata": {
    "colab": {
     "base_uri": "https://localhost:8080/",
     "height": 34
    },
    "colab_type": "code",
    "id": "6TWE8h-ygC-V",
    "outputId": "2cadc552-ebb0-4528-92b8-f47f9ea92390"
   },
   "outputs": [
    {
     "data": {
      "text/plain": [
       "True"
      ]
     },
     "execution_count": 11,
     "metadata": {
      "tags": []
     },
     "output_type": "execute_result"
    }
   ],
   "source": [
    "x.requires_grad"
   ]
  },
  {
   "cell_type": "code",
   "execution_count": 0,
   "metadata": {
    "colab": {
     "base_uri": "https://localhost:8080/",
     "height": 188
    },
    "colab_type": "code",
    "id": "gACeHMOegC-W",
    "outputId": "1259d764-2d47-44cb-ead9-20ebfc7d618d"
   },
   "outputs": [
    {
     "name": "stdout",
     "output_type": "stream",
     "text": [
      "tensor([[3., 3.],\n",
      "        [3., 3.]], grad_fn=<AddBackward0>)\n"
     ]
    },
    {
     "data": {
      "image/svg+xml": [
       "<?xml version=\"1.0\" encoding=\"UTF-8\" standalone=\"no\"?>\n",
       "<!DOCTYPE svg PUBLIC \"-//W3C//DTD SVG 1.1//EN\"\n",
       " \"http://www.w3.org/Graphics/SVG/1.1/DTD/svg11.dtd\">\n",
       "<!-- Generated by graphviz version 2.40.1 (20161225.0304)\n",
       " -->\n",
       "<!-- Title: %3 Pages: 1 -->\n",
       "<svg width=\"100pt\" height=\"100pt\"\n",
       " viewBox=\"0.00 0.00 100.00 100.00\" xmlns=\"http://www.w3.org/2000/svg\" xmlns:xlink=\"http://www.w3.org/1999/xlink\">\n",
       "<g id=\"graph0\" class=\"graph\" transform=\"scale(1 1) rotate(0) translate(4 96)\">\n",
       "<title>%3</title>\n",
       "<polygon fill=\"#ffffff\" stroke=\"transparent\" points=\"-4,4 -4,-96 96,-96 96,4 -4,4\"/>\n",
       "<!-- 140280228277720 -->\n",
       "<g id=\"node1\" class=\"node\">\n",
       "<title>140280228277720</title>\n",
       "<polygon fill=\"#caff70\" stroke=\"#000000\" points=\"92,-21 0,-21 0,0 92,0 92,-21\"/>\n",
       "<text text-anchor=\"middle\" x=\"46\" y=\"-7.4\" font-family=\"Times,serif\" font-size=\"12.00\" fill=\"#000000\">AddBackward0</text>\n",
       "</g>\n",
       "<!-- 140280228277496 -->\n",
       "<g id=\"node2\" class=\"node\">\n",
       "<title>140280228277496</title>\n",
       "<polygon fill=\"#add8e6\" stroke=\"#000000\" points=\"73,-92 19,-92 19,-57 73,-57 73,-92\"/>\n",
       "<text text-anchor=\"middle\" x=\"46\" y=\"-64.4\" font-family=\"Times,serif\" font-size=\"12.00\" fill=\"#000000\"> (2, 2)</text>\n",
       "</g>\n",
       "<!-- 140280228277496&#45;&gt;140280228277720 -->\n",
       "<g id=\"edge1\" class=\"edge\">\n",
       "<title>140280228277496&#45;&gt;140280228277720</title>\n",
       "<path fill=\"none\" stroke=\"#000000\" d=\"M46,-56.6724C46,-48.8405 46,-39.5893 46,-31.4323\"/>\n",
       "<polygon fill=\"#000000\" stroke=\"#000000\" points=\"49.5001,-31.2234 46,-21.2234 42.5001,-31.2235 49.5001,-31.2234\"/>\n",
       "</g>\n",
       "</g>\n",
       "</svg>\n"
      ],
      "text/plain": [
       "<graphviz.dot.Digraph at 0x7f95892ce048>"
      ]
     },
     "execution_count": 12,
     "metadata": {
      "tags": []
     },
     "output_type": "execute_result"
    }
   ],
   "source": [
    "y = x + 2\n",
    "print(y)\n",
    "torchviz.make_dot(y)"
   ]
  },
  {
   "cell_type": "markdown",
   "metadata": {
    "colab_type": "text",
    "id": "GnSYGWNcgC-W"
   },
   "source": [
    "**Broadcasting**\n",
    "\n",
    "Recall: Broadcasting **automatically** expands dimensions by replicating coefficients, when it is necessary to perform operations.\n",
    "\n",
    "1. If one of the tensors has fewer dimensions than the other, it is reshaped by adding as many dimensions of size 1 as necessary in the front; then\n",
    "2. for every mismatch, if one of the two tensor is of size one, it is expanded along this axis by replicating  coefficients.\n",
    "\n",
    "If there is a tensor size mismatch for one of the dimension and neither of them is one, the operation fails."
   ]
  },
  {
   "cell_type": "code",
   "execution_count": 0,
   "metadata": {
    "colab": {
     "base_uri": "https://localhost:8080/",
     "height": 204
    },
    "colab_type": "code",
    "id": "2CtszgyZgC-X",
    "outputId": "d098f7d8-d942-4b50-92da-6500a603c5e8"
   },
   "outputs": [
    {
     "name": "stdout",
     "output_type": "stream",
     "text": [
      "torch.Size([4, 1])\n",
      "tensor([[1.],\n",
      "        [2.],\n",
      "        [3.],\n",
      "        [4.]])\n",
      "torch.Size([1, 5])\n",
      "tensor([[ 5., -5.,  5., -5.,  5.]])\n",
      "tensor([[ 6., -4.,  6., -4.,  6.],\n",
      "        [ 7., -3.,  7., -3.,  7.],\n",
      "        [ 8., -2.,  8., -2.,  8.],\n",
      "        [ 9., -1.,  9., -1.,  9.]])\n"
     ]
    }
   ],
   "source": [
    "A = torch.tensor([[1.], [2.], [3.], [4.]])\n",
    "print(A.size())\n",
    "print(A)\n",
    "B = torch.tensor([[5., -5., 5., -5., 5.]])\n",
    "print(B.size())\n",
    "print(B)\n",
    "C = A + B\n",
    "print(C)"
   ]
  },
  {
   "cell_type": "markdown",
   "metadata": {
    "colab_type": "text",
    "id": "cVCkQQeRgC-Y"
   },
   "source": [
    "Back to Autograd!"
   ]
  },
  {
   "cell_type": "code",
   "execution_count": 0,
   "metadata": {
    "colab": {
     "base_uri": "https://localhost:8080/",
     "height": 51
    },
    "colab_type": "code",
    "id": "hja6OM24gC-b",
    "outputId": "f1a7aeb9-34d3-4cda-fc7f-97e651076d97"
   },
   "outputs": [
    {
     "name": "stdout",
     "output_type": "stream",
     "text": [
      "tensor([[3., 3.],\n",
      "        [3., 3.]], grad_fn=<AddBackward0>)\n"
     ]
    }
   ],
   "source": [
    "x = torch.ones(2, 2)\n",
    "x.requires_grad_(True)\n",
    "y = x+2\n",
    "print(y)"
   ]
  },
  {
   "cell_type": "code",
   "execution_count": 0,
   "metadata": {
    "colab": {
     "base_uri": "https://localhost:8080/",
     "height": 34
    },
    "colab_type": "code",
    "id": "NI3ikwlogC-Y",
    "outputId": "c3c98c40-7af6-4e22-9f1a-b4430bfec6ed"
   },
   "outputs": [
    {
     "data": {
      "text/plain": [
       "True"
      ]
     },
     "execution_count": 15,
     "metadata": {
      "tags": []
     },
     "output_type": "execute_result"
    }
   ],
   "source": [
    "y.requires_grad"
   ]
  },
  {
   "cell_type": "markdown",
   "metadata": {
    "colab_type": "text",
    "id": "w5XJD5O13vPw"
   },
   "source": [
    "Tensor and Function are interconnected and build up an acyclic graph, that encodes a complete history of computation. \n",
    "\n",
    "Each tensor has a .grad_fn attribute that references a Function that has created the Tensor (except for Tensors created by the user - their grad_fn is None)."
   ]
  },
  {
   "cell_type": "code",
   "execution_count": 0,
   "metadata": {
    "colab": {
     "base_uri": "https://localhost:8080/",
     "height": 256
    },
    "colab_type": "code",
    "id": "EOt8d0S0gC-Z",
    "outputId": "6726f680-f994-4172-b43f-ff35822b9527"
   },
   "outputs": [
    {
     "name": "stdout",
     "output_type": "stream",
     "text": [
      "tensor([[1., 1.],\n",
      "        [1., 1.]], requires_grad=True)\n",
      "None\n",
      "tensor([[3., 3.],\n",
      "        [3., 3.]], grad_fn=<AddBackward0>)\n",
      "<AddBackward0 object at 0x7f95892d91d0>\n"
     ]
    },
    {
     "data": {
      "image/svg+xml": [
       "<?xml version=\"1.0\" encoding=\"UTF-8\" standalone=\"no\"?>\n",
       "<!DOCTYPE svg PUBLIC \"-//W3C//DTD SVG 1.1//EN\"\n",
       " \"http://www.w3.org/Graphics/SVG/1.1/DTD/svg11.dtd\">\n",
       "<!-- Generated by graphviz version 2.40.1 (20161225.0304)\n",
       " -->\n",
       "<!-- Title: %3 Pages: 1 -->\n",
       "<svg width=\"100pt\" height=\"100pt\"\n",
       " viewBox=\"0.00 0.00 100.00 100.00\" xmlns=\"http://www.w3.org/2000/svg\" xmlns:xlink=\"http://www.w3.org/1999/xlink\">\n",
       "<g id=\"graph0\" class=\"graph\" transform=\"scale(1 1) rotate(0) translate(4 96)\">\n",
       "<title>%3</title>\n",
       "<polygon fill=\"#ffffff\" stroke=\"transparent\" points=\"-4,4 -4,-96 96,-96 96,4 -4,4\"/>\n",
       "<!-- 140280228319640 -->\n",
       "<g id=\"node1\" class=\"node\">\n",
       "<title>140280228319640</title>\n",
       "<polygon fill=\"#caff70\" stroke=\"#000000\" points=\"92,-21 0,-21 0,0 92,0 92,-21\"/>\n",
       "<text text-anchor=\"middle\" x=\"46\" y=\"-7.4\" font-family=\"Times,serif\" font-size=\"12.00\" fill=\"#000000\">AddBackward0</text>\n",
       "</g>\n",
       "<!-- 140280228319808 -->\n",
       "<g id=\"node2\" class=\"node\">\n",
       "<title>140280228319808</title>\n",
       "<polygon fill=\"#add8e6\" stroke=\"#000000\" points=\"73,-92 19,-92 19,-57 73,-57 73,-92\"/>\n",
       "<text text-anchor=\"middle\" x=\"46\" y=\"-64.4\" font-family=\"Times,serif\" font-size=\"12.00\" fill=\"#000000\"> (2, 2)</text>\n",
       "</g>\n",
       "<!-- 140280228319808&#45;&gt;140280228319640 -->\n",
       "<g id=\"edge1\" class=\"edge\">\n",
       "<title>140280228319808&#45;&gt;140280228319640</title>\n",
       "<path fill=\"none\" stroke=\"#000000\" d=\"M46,-56.6724C46,-48.8405 46,-39.5893 46,-31.4323\"/>\n",
       "<polygon fill=\"#000000\" stroke=\"#000000\" points=\"49.5001,-31.2234 46,-21.2234 42.5001,-31.2235 49.5001,-31.2234\"/>\n",
       "</g>\n",
       "</g>\n",
       "</svg>\n"
      ],
      "text/plain": [
       "<graphviz.dot.Digraph at 0x7f95892d9208>"
      ]
     },
     "execution_count": 16,
     "metadata": {
      "tags": []
     },
     "output_type": "execute_result"
    }
   ],
   "source": [
    "print(x)\n",
    "print(x.grad_fn)\n",
    "print(y)\n",
    "print(y.grad_fn)\n",
    "torchviz.make_dot(y) "
   ]
  },
  {
   "cell_type": "code",
   "execution_count": 0,
   "metadata": {
    "colab": {
     "base_uri": "https://localhost:8080/",
     "height": 340
    },
    "colab_type": "code",
    "id": "x5vVEet32cC_",
    "outputId": "bba2f76a-2a29-4705-9a8b-73ce645e562c"
   },
   "outputs": [
    {
     "name": "stdout",
     "output_type": "stream",
     "text": [
      "tensor([[27., 27.],\n",
      "        [27., 27.]], grad_fn=<MulBackward0>)\n"
     ]
    },
    {
     "data": {
      "image/svg+xml": [
       "<?xml version=\"1.0\" encoding=\"UTF-8\" standalone=\"no\"?>\n",
       "<!DOCTYPE svg PUBLIC \"-//W3C//DTD SVG 1.1//EN\"\n",
       " \"http://www.w3.org/Graphics/SVG/1.1/DTD/svg11.dtd\">\n",
       "<!-- Generated by graphviz version 2.40.1 (20161225.0304)\n",
       " -->\n",
       "<!-- Title: %3 Pages: 1 -->\n",
       "<svg width=\"100pt\" height=\"214pt\"\n",
       " viewBox=\"0.00 0.00 100.00 214.00\" xmlns=\"http://www.w3.org/2000/svg\" xmlns:xlink=\"http://www.w3.org/1999/xlink\">\n",
       "<g id=\"graph0\" class=\"graph\" transform=\"scale(1 1) rotate(0) translate(4 210)\">\n",
       "<title>%3</title>\n",
       "<polygon fill=\"#ffffff\" stroke=\"transparent\" points=\"-4,4 -4,-210 96,-210 96,4 -4,4\"/>\n",
       "<!-- 140280228275312 -->\n",
       "<g id=\"node1\" class=\"node\">\n",
       "<title>140280228275312</title>\n",
       "<polygon fill=\"#caff70\" stroke=\"#000000\" points=\"91.5,-21 .5,-21 .5,0 91.5,0 91.5,-21\"/>\n",
       "<text text-anchor=\"middle\" x=\"46\" y=\"-7.4\" font-family=\"Times,serif\" font-size=\"12.00\" fill=\"#000000\">MulBackward0</text>\n",
       "</g>\n",
       "<!-- 140280228319304 -->\n",
       "<g id=\"node2\" class=\"node\">\n",
       "<title>140280228319304</title>\n",
       "<polygon fill=\"#d3d3d3\" stroke=\"#000000\" points=\"91.5,-78 .5,-78 .5,-57 91.5,-57 91.5,-78\"/>\n",
       "<text text-anchor=\"middle\" x=\"46\" y=\"-64.4\" font-family=\"Times,serif\" font-size=\"12.00\" fill=\"#000000\">MulBackward0</text>\n",
       "</g>\n",
       "<!-- 140280228319304&#45;&gt;140280228275312 -->\n",
       "<g id=\"edge1\" class=\"edge\">\n",
       "<title>140280228319304&#45;&gt;140280228275312</title>\n",
       "<path fill=\"none\" stroke=\"#000000\" d=\"M46,-56.7787C46,-49.6134 46,-39.9517 46,-31.3097\"/>\n",
       "<polygon fill=\"#000000\" stroke=\"#000000\" points=\"49.5001,-31.1732 46,-21.1732 42.5001,-31.1732 49.5001,-31.1732\"/>\n",
       "</g>\n",
       "<!-- 140280228319640 -->\n",
       "<g id=\"node3\" class=\"node\">\n",
       "<title>140280228319640</title>\n",
       "<polygon fill=\"#d3d3d3\" stroke=\"#000000\" points=\"92,-135 0,-135 0,-114 92,-114 92,-135\"/>\n",
       "<text text-anchor=\"middle\" x=\"46\" y=\"-121.4\" font-family=\"Times,serif\" font-size=\"12.00\" fill=\"#000000\">AddBackward0</text>\n",
       "</g>\n",
       "<!-- 140280228319640&#45;&gt;140280228319304 -->\n",
       "<g id=\"edge2\" class=\"edge\">\n",
       "<title>140280228319640&#45;&gt;140280228319304</title>\n",
       "<path fill=\"none\" stroke=\"#000000\" d=\"M40.5885,-113.7787C39.3317,-106.6134 38.9599,-96.9517 39.4733,-88.3097\"/>\n",
       "<polygon fill=\"#000000\" stroke=\"#000000\" points=\"42.9738,-88.498 40.597,-78.1732 36.0164,-87.7267 42.9738,-88.498\"/>\n",
       "</g>\n",
       "<!-- 140280228319640&#45;&gt;140280228319304 -->\n",
       "<g id=\"edge4\" class=\"edge\">\n",
       "<title>140280228319640&#45;&gt;140280228319304</title>\n",
       "<path fill=\"none\" stroke=\"#000000\" d=\"M51.4115,-113.7787C52.6683,-106.6134 53.0401,-96.9517 52.5267,-88.3097\"/>\n",
       "<polygon fill=\"#000000\" stroke=\"#000000\" points=\"55.9836,-87.7267 51.403,-78.1732 49.0262,-88.498 55.9836,-87.7267\"/>\n",
       "</g>\n",
       "<!-- 140280228319808 -->\n",
       "<g id=\"node4\" class=\"node\">\n",
       "<title>140280228319808</title>\n",
       "<polygon fill=\"#add8e6\" stroke=\"#000000\" points=\"73,-206 19,-206 19,-171 73,-171 73,-206\"/>\n",
       "<text text-anchor=\"middle\" x=\"46\" y=\"-178.4\" font-family=\"Times,serif\" font-size=\"12.00\" fill=\"#000000\"> (2, 2)</text>\n",
       "</g>\n",
       "<!-- 140280228319808&#45;&gt;140280228319640 -->\n",
       "<g id=\"edge3\" class=\"edge\">\n",
       "<title>140280228319808&#45;&gt;140280228319640</title>\n",
       "<path fill=\"none\" stroke=\"#000000\" d=\"M46,-170.6724C46,-162.8405 46,-153.5893 46,-145.4323\"/>\n",
       "<polygon fill=\"#000000\" stroke=\"#000000\" points=\"49.5001,-145.2234 46,-135.2234 42.5001,-145.2235 49.5001,-145.2234\"/>\n",
       "</g>\n",
       "</g>\n",
       "</svg>\n"
      ],
      "text/plain": [
       "<graphviz.dot.Digraph at 0x7f9589763eb8>"
      ]
     },
     "execution_count": 17,
     "metadata": {
      "tags": []
     },
     "output_type": "execute_result"
    }
   ],
   "source": [
    "z = y * y * 3\n",
    "print(z)\n",
    "torchviz.make_dot(z) "
   ]
  },
  {
   "cell_type": "code",
   "execution_count": 0,
   "metadata": {
    "colab": {
     "base_uri": "https://localhost:8080/",
     "height": 399
    },
    "colab_type": "code",
    "id": "kQlr3Z-HgC-b",
    "outputId": "a7bca083-a385-491f-8000-d95df00faaf2"
   },
   "outputs": [
    {
     "name": "stdout",
     "output_type": "stream",
     "text": [
      "tensor(27., grad_fn=<MeanBackward0>)\n"
     ]
    },
    {
     "data": {
      "image/svg+xml": [
       "<?xml version=\"1.0\" encoding=\"UTF-8\" standalone=\"no\"?>\n",
       "<!DOCTYPE svg PUBLIC \"-//W3C//DTD SVG 1.1//EN\"\n",
       " \"http://www.w3.org/Graphics/SVG/1.1/DTD/svg11.dtd\">\n",
       "<!-- Generated by graphviz version 2.40.1 (20161225.0304)\n",
       " -->\n",
       "<!-- Title: %3 Pages: 1 -->\n",
       "<svg width=\"106pt\" height=\"271pt\"\n",
       " viewBox=\"0.00 0.00 106.00 271.00\" xmlns=\"http://www.w3.org/2000/svg\" xmlns:xlink=\"http://www.w3.org/1999/xlink\">\n",
       "<g id=\"graph0\" class=\"graph\" transform=\"scale(1 1) rotate(0) translate(4 267)\">\n",
       "<title>%3</title>\n",
       "<polygon fill=\"#ffffff\" stroke=\"transparent\" points=\"-4,4 -4,-267 102,-267 102,4 -4,4\"/>\n",
       "<!-- 140280228319696 -->\n",
       "<g id=\"node1\" class=\"node\">\n",
       "<title>140280228319696</title>\n",
       "<polygon fill=\"#caff70\" stroke=\"#000000\" points=\"98,-21 0,-21 0,0 98,0 98,-21\"/>\n",
       "<text text-anchor=\"middle\" x=\"49\" y=\"-7.4\" font-family=\"Times,serif\" font-size=\"12.00\" fill=\"#000000\">MeanBackward0</text>\n",
       "</g>\n",
       "<!-- 140280228275312 -->\n",
       "<g id=\"node2\" class=\"node\">\n",
       "<title>140280228275312</title>\n",
       "<polygon fill=\"#d3d3d3\" stroke=\"#000000\" points=\"94.5,-78 3.5,-78 3.5,-57 94.5,-57 94.5,-78\"/>\n",
       "<text text-anchor=\"middle\" x=\"49\" y=\"-64.4\" font-family=\"Times,serif\" font-size=\"12.00\" fill=\"#000000\">MulBackward0</text>\n",
       "</g>\n",
       "<!-- 140280228275312&#45;&gt;140280228319696 -->\n",
       "<g id=\"edge1\" class=\"edge\">\n",
       "<title>140280228275312&#45;&gt;140280228319696</title>\n",
       "<path fill=\"none\" stroke=\"#000000\" d=\"M49,-56.7787C49,-49.6134 49,-39.9517 49,-31.3097\"/>\n",
       "<polygon fill=\"#000000\" stroke=\"#000000\" points=\"52.5001,-31.1732 49,-21.1732 45.5001,-31.1732 52.5001,-31.1732\"/>\n",
       "</g>\n",
       "<!-- 140280228319304 -->\n",
       "<g id=\"node3\" class=\"node\">\n",
       "<title>140280228319304</title>\n",
       "<polygon fill=\"#d3d3d3\" stroke=\"#000000\" points=\"94.5,-135 3.5,-135 3.5,-114 94.5,-114 94.5,-135\"/>\n",
       "<text text-anchor=\"middle\" x=\"49\" y=\"-121.4\" font-family=\"Times,serif\" font-size=\"12.00\" fill=\"#000000\">MulBackward0</text>\n",
       "</g>\n",
       "<!-- 140280228319304&#45;&gt;140280228275312 -->\n",
       "<g id=\"edge2\" class=\"edge\">\n",
       "<title>140280228319304&#45;&gt;140280228275312</title>\n",
       "<path fill=\"none\" stroke=\"#000000\" d=\"M49,-113.7787C49,-106.6134 49,-96.9517 49,-88.3097\"/>\n",
       "<polygon fill=\"#000000\" stroke=\"#000000\" points=\"52.5001,-88.1732 49,-78.1732 45.5001,-88.1732 52.5001,-88.1732\"/>\n",
       "</g>\n",
       "<!-- 140280228319640 -->\n",
       "<g id=\"node4\" class=\"node\">\n",
       "<title>140280228319640</title>\n",
       "<polygon fill=\"#d3d3d3\" stroke=\"#000000\" points=\"95,-192 3,-192 3,-171 95,-171 95,-192\"/>\n",
       "<text text-anchor=\"middle\" x=\"49\" y=\"-178.4\" font-family=\"Times,serif\" font-size=\"12.00\" fill=\"#000000\">AddBackward0</text>\n",
       "</g>\n",
       "<!-- 140280228319640&#45;&gt;140280228319304 -->\n",
       "<g id=\"edge3\" class=\"edge\">\n",
       "<title>140280228319640&#45;&gt;140280228319304</title>\n",
       "<path fill=\"none\" stroke=\"#000000\" d=\"M43.5885,-170.7787C42.3317,-163.6134 41.9599,-153.9517 42.4733,-145.3097\"/>\n",
       "<polygon fill=\"#000000\" stroke=\"#000000\" points=\"45.9738,-145.498 43.597,-135.1732 39.0164,-144.7267 45.9738,-145.498\"/>\n",
       "</g>\n",
       "<!-- 140280228319640&#45;&gt;140280228319304 -->\n",
       "<g id=\"edge5\" class=\"edge\">\n",
       "<title>140280228319640&#45;&gt;140280228319304</title>\n",
       "<path fill=\"none\" stroke=\"#000000\" d=\"M54.4115,-170.7787C55.6683,-163.6134 56.0401,-153.9517 55.5267,-145.3097\"/>\n",
       "<polygon fill=\"#000000\" stroke=\"#000000\" points=\"58.9836,-144.7267 54.403,-135.1732 52.0262,-145.498 58.9836,-144.7267\"/>\n",
       "</g>\n",
       "<!-- 140280228319808 -->\n",
       "<g id=\"node5\" class=\"node\">\n",
       "<title>140280228319808</title>\n",
       "<polygon fill=\"#add8e6\" stroke=\"#000000\" points=\"76,-263 22,-263 22,-228 76,-228 76,-263\"/>\n",
       "<text text-anchor=\"middle\" x=\"49\" y=\"-235.4\" font-family=\"Times,serif\" font-size=\"12.00\" fill=\"#000000\"> (2, 2)</text>\n",
       "</g>\n",
       "<!-- 140280228319808&#45;&gt;140280228319640 -->\n",
       "<g id=\"edge4\" class=\"edge\">\n",
       "<title>140280228319808&#45;&gt;140280228319640</title>\n",
       "<path fill=\"none\" stroke=\"#000000\" d=\"M49,-227.6724C49,-219.8405 49,-210.5893 49,-202.4323\"/>\n",
       "<polygon fill=\"#000000\" stroke=\"#000000\" points=\"52.5001,-202.2234 49,-192.2234 45.5001,-202.2235 52.5001,-202.2234\"/>\n",
       "</g>\n",
       "</g>\n",
       "</svg>\n"
      ],
      "text/plain": [
       "<graphviz.dot.Digraph at 0x7f95892cef98>"
      ]
     },
     "execution_count": 18,
     "metadata": {
      "tags": []
     },
     "output_type": "execute_result"
    }
   ],
   "source": [
    "out = z.mean()\n",
    "print(out)\n",
    "torchviz.make_dot(out) "
   ]
  },
  {
   "cell_type": "markdown",
   "metadata": {
    "colab_type": "text",
    "id": "mrBx5oslgC-c"
   },
   "source": [
    "After the computation is finished, i.e. _forward pass_, you can call ```.backward()``` and have all the gradients computed automatically."
   ]
  },
  {
   "cell_type": "code",
   "execution_count": 0,
   "metadata": {
    "colab": {},
    "colab_type": "code",
    "id": "g5AzQ3qV5oti"
   },
   "outputs": [],
   "source": [
    "out.backward()"
   ]
  },
  {
   "cell_type": "markdown",
   "metadata": {
    "colab_type": "text",
    "id": "niaze4W4gC-d"
   },
   "source": [
    "The gradients w.r.t. this variable is accumulated into ```.grad```."
   ]
  },
  {
   "cell_type": "code",
   "execution_count": 0,
   "metadata": {
    "colab": {
     "base_uri": "https://localhost:8080/",
     "height": 51
    },
    "colab_type": "code",
    "id": "OiDnd1jXgC-d",
    "outputId": "f3c75122-87bc-49dc-9f4c-02c7a9edd02b"
   },
   "outputs": [
    {
     "name": "stdout",
     "output_type": "stream",
     "text": [
      "tensor([[4.5000, 4.5000],\n",
      "        [4.5000, 4.5000]])\n"
     ]
    }
   ],
   "source": [
    "print(x.grad)"
   ]
  },
  {
   "cell_type": "markdown",
   "metadata": {
    "colab_type": "text",
    "id": "7kJrfEsF29yh"
   },
   "source": [
    "### Question: Explain mathematically the value of \"x.grad\"\n"
   ]
  },
  {
   "cell_type": "markdown",
   "metadata": {
    "colab_type": "text",
    "id": "UwJCU8Uo4ZvD"
   },
   "source": [
    "[Why can I not see .grad of an intermediate variable?](https://discuss.pytorch.org/t/why-cant-i-see-grad-of-an-intermediate-variable/94)\n",
    "\n",
    "Gradients are only retained for leaf variables. \n",
    "\n",
    "Non-leaf variables’ gradients are not retained to be inspected later. This was done by design, to save memory."
   ]
  },
  {
   "cell_type": "code",
   "execution_count": 0,
   "metadata": {
    "colab": {
     "base_uri": "https://localhost:8080/",
     "height": 51
    },
    "colab_type": "code",
    "id": "16KkidoigC-e",
    "outputId": "e065d7eb-d702-4312-f038-789745d3859b"
   },
   "outputs": [
    {
     "name": "stdout",
     "output_type": "stream",
     "text": [
      "None\n",
      "None\n"
     ]
    }
   ],
   "source": [
    "print(y.grad)\n",
    "print(out.grad)"
   ]
  },
  {
   "cell_type": "code",
   "execution_count": 0,
   "metadata": {
    "colab": {
     "base_uri": "https://localhost:8080/",
     "height": 433
    },
    "colab_type": "code",
    "id": "YSb96GMy5IdW",
    "outputId": "359b31a9-815b-4fcc-9db3-892c712446e4"
   },
   "outputs": [
    {
     "name": "stdout",
     "output_type": "stream",
     "text": [
      "tensor([[2., 2.],\n",
      "        [2., 2.]])\n",
      "tensor(10., grad_fn=<MeanBackward0>)\n"
     ]
    },
    {
     "data": {
      "image/svg+xml": [
       "<?xml version=\"1.0\" encoding=\"UTF-8\" standalone=\"no\"?>\n",
       "<!DOCTYPE svg PUBLIC \"-//W3C//DTD SVG 1.1//EN\"\n",
       " \"http://www.w3.org/Graphics/SVG/1.1/DTD/svg11.dtd\">\n",
       "<!-- Generated by graphviz version 2.40.1 (20161225.0304)\n",
       " -->\n",
       "<!-- Title: %3 Pages: 1 -->\n",
       "<svg width=\"140pt\" height=\"271pt\"\n",
       " viewBox=\"0.00 0.00 139.50 271.00\" xmlns=\"http://www.w3.org/2000/svg\" xmlns:xlink=\"http://www.w3.org/1999/xlink\">\n",
       "<g id=\"graph0\" class=\"graph\" transform=\"scale(1 1) rotate(0) translate(4 267)\">\n",
       "<title>%3</title>\n",
       "<polygon fill=\"#ffffff\" stroke=\"transparent\" points=\"-4,4 -4,-267 135.5,-267 135.5,4 -4,4\"/>\n",
       "<!-- 140280228321656 -->\n",
       "<g id=\"node1\" class=\"node\">\n",
       "<title>140280228321656</title>\n",
       "<polygon fill=\"#caff70\" stroke=\"#000000\" points=\"98,-21 0,-21 0,0 98,0 98,-21\"/>\n",
       "<text text-anchor=\"middle\" x=\"49\" y=\"-7.4\" font-family=\"Times,serif\" font-size=\"12.00\" fill=\"#000000\">MeanBackward0</text>\n",
       "</g>\n",
       "<!-- 140280228321488 -->\n",
       "<g id=\"node2\" class=\"node\">\n",
       "<title>140280228321488</title>\n",
       "<polygon fill=\"#d3d3d3\" stroke=\"#000000\" points=\"95,-78 3,-78 3,-57 95,-57 95,-78\"/>\n",
       "<text text-anchor=\"middle\" x=\"49\" y=\"-64.4\" font-family=\"Times,serif\" font-size=\"12.00\" fill=\"#000000\">AddBackward0</text>\n",
       "</g>\n",
       "<!-- 140280228321488&#45;&gt;140280228321656 -->\n",
       "<g id=\"edge1\" class=\"edge\">\n",
       "<title>140280228321488&#45;&gt;140280228321656</title>\n",
       "<path fill=\"none\" stroke=\"#000000\" d=\"M49,-56.7787C49,-49.6134 49,-39.9517 49,-31.3097\"/>\n",
       "<polygon fill=\"#000000\" stroke=\"#000000\" points=\"52.5001,-31.1732 49,-21.1732 45.5001,-31.1732 52.5001,-31.1732\"/>\n",
       "</g>\n",
       "<!-- 140280228321600 -->\n",
       "<g id=\"node3\" class=\"node\">\n",
       "<title>140280228321600</title>\n",
       "<polygon fill=\"#d3d3d3\" stroke=\"#000000\" points=\"94.5,-135 3.5,-135 3.5,-114 94.5,-114 94.5,-135\"/>\n",
       "<text text-anchor=\"middle\" x=\"49\" y=\"-121.4\" font-family=\"Times,serif\" font-size=\"12.00\" fill=\"#000000\">MulBackward0</text>\n",
       "</g>\n",
       "<!-- 140280228321600&#45;&gt;140280228321488 -->\n",
       "<g id=\"edge2\" class=\"edge\">\n",
       "<title>140280228321600&#45;&gt;140280228321488</title>\n",
       "<path fill=\"none\" stroke=\"#000000\" d=\"M49,-113.7787C49,-106.6134 49,-96.9517 49,-88.3097\"/>\n",
       "<polygon fill=\"#000000\" stroke=\"#000000\" points=\"52.5001,-88.1732 49,-78.1732 45.5001,-88.1732 52.5001,-88.1732\"/>\n",
       "</g>\n",
       "<!-- 140280228321824 -->\n",
       "<g id=\"node4\" class=\"node\">\n",
       "<title>140280228321824</title>\n",
       "<polygon fill=\"#d3d3d3\" stroke=\"#000000\" points=\"131.5,-192 40.5,-192 40.5,-171 131.5,-171 131.5,-192\"/>\n",
       "<text text-anchor=\"middle\" x=\"86\" y=\"-178.4\" font-family=\"Times,serif\" font-size=\"12.00\" fill=\"#000000\">MulBackward0</text>\n",
       "</g>\n",
       "<!-- 140280228321824&#45;&gt;140280228321600 -->\n",
       "<g id=\"edge3\" class=\"edge\">\n",
       "<title>140280228321824&#45;&gt;140280228321600</title>\n",
       "<path fill=\"none\" stroke=\"#000000\" d=\"M79.0406,-170.7787C74.0793,-163.1357 67.2744,-152.6524 61.3956,-143.596\"/>\n",
       "<polygon fill=\"#000000\" stroke=\"#000000\" points=\"64.3087,-141.6553 55.9282,-135.1732 58.4372,-145.4667 64.3087,-141.6553\"/>\n",
       "</g>\n",
       "<!-- 140280228321880 -->\n",
       "<g id=\"node5\" class=\"node\">\n",
       "<title>140280228321880</title>\n",
       "<polygon fill=\"#add8e6\" stroke=\"#000000\" points=\"113,-263 59,-263 59,-228 113,-228 113,-263\"/>\n",
       "<text text-anchor=\"middle\" x=\"86\" y=\"-235.4\" font-family=\"Times,serif\" font-size=\"12.00\" fill=\"#000000\"> (2, 2)</text>\n",
       "</g>\n",
       "<!-- 140280228321880&#45;&gt;140280228321600 -->\n",
       "<g id=\"edge6\" class=\"edge\">\n",
       "<title>140280228321880&#45;&gt;140280228321600</title>\n",
       "<path fill=\"none\" stroke=\"#000000\" d=\"M60.7835,-227.9148C49.732,-218.6511 37.942,-206.2514 32,-192 25.5633,-176.5621 31.0558,-158.0869 37.4598,-144.371\"/>\n",
       "<polygon fill=\"#000000\" stroke=\"#000000\" points=\"40.6468,-145.8274 42.1265,-135.3364 34.4275,-142.6149 40.6468,-145.8274\"/>\n",
       "</g>\n",
       "<!-- 140280228321880&#45;&gt;140280228321824 -->\n",
       "<g id=\"edge4\" class=\"edge\">\n",
       "<title>140280228321880&#45;&gt;140280228321824</title>\n",
       "<path fill=\"none\" stroke=\"#000000\" d=\"M79.8766,-227.6724C79.1368,-219.8405 79.0521,-210.5893 79.6224,-202.4323\"/>\n",
       "<polygon fill=\"#000000\" stroke=\"#000000\" points=\"83.131,-202.5601 80.8063,-192.2234 76.1776,-201.7537 83.131,-202.5601\"/>\n",
       "</g>\n",
       "<!-- 140280228321880&#45;&gt;140280228321824 -->\n",
       "<g id=\"edge5\" class=\"edge\">\n",
       "<title>140280228321880&#45;&gt;140280228321824</title>\n",
       "<path fill=\"none\" stroke=\"#000000\" d=\"M92.1234,-227.6724C92.8632,-219.8405 92.9479,-210.5893 92.3776,-202.4323\"/>\n",
       "<polygon fill=\"#000000\" stroke=\"#000000\" points=\"95.8224,-201.7537 91.1937,-192.2234 88.869,-202.5601 95.8224,-201.7537\"/>\n",
       "</g>\n",
       "</g>\n",
       "</svg>\n"
      ],
      "text/plain": [
       "<graphviz.dot.Digraph at 0x7f95892d9898>"
      ]
     },
     "execution_count": 22,
     "metadata": {
      "tags": []
     },
     "output_type": "execute_result"
    }
   ],
   "source": [
    "x = 2 * torch.ones(2, 2)\n",
    "print(x)\n",
    "x.requires_grad_(True)\n",
    "out = (x * x * x + 2 ).mean()\n",
    "print(out)\n",
    "torchviz.make_dot(out)"
   ]
  },
  {
   "cell_type": "code",
   "execution_count": 0,
   "metadata": {
    "colab": {},
    "colab_type": "code",
    "id": "AEPS2hMfgC-g"
   },
   "outputs": [],
   "source": [
    "out.backward(torch.tensor(2.0))"
   ]
  },
  {
   "cell_type": "markdown",
   "metadata": {
    "colab_type": "text",
    "id": "_uzoqTqP7H2H"
   },
   "source": [
    "### Question: Explain mathematically the value of \"x.grad\" in the following cell"
   ]
  },
  {
   "cell_type": "code",
   "execution_count": 0,
   "metadata": {
    "colab": {
     "base_uri": "https://localhost:8080/",
     "height": 51
    },
    "colab_type": "code",
    "id": "ngiu74HUgC-g",
    "outputId": "ea22f01f-784b-48a8-bd6a-7d519f87bf26"
   },
   "outputs": [
    {
     "name": "stdout",
     "output_type": "stream",
     "text": [
      "tensor([[6., 6.],\n",
      "        [6., 6.]])\n"
     ]
    }
   ],
   "source": [
    "print(x.grad)"
   ]
  },
  {
   "cell_type": "markdown",
   "metadata": {
    "colab_type": "text",
    "id": "ypBdAAq29Jcm"
   },
   "source": [
    "## How to compute the gradient when I want?\n",
    "\n"
   ]
  },
  {
   "cell_type": "code",
   "execution_count": 0,
   "metadata": {
    "colab": {
     "base_uri": "https://localhost:8080/",
     "height": 51
    },
    "colab_type": "code",
    "id": "0QxJzcmqgC-h",
    "outputId": "b1d7a688-3938-446f-d8c6-424046c76eee"
   },
   "outputs": [
    {
     "name": "stdout",
     "output_type": "stream",
     "text": [
      "tensor([[4.5000, 4.5000],\n",
      "        [4.5000, 4.5000]])\n"
     ]
    }
   ],
   "source": [
    "x = torch.ones(2, 2)\n",
    "x.requires_grad_(True)\n",
    "y = x+2\n",
    "z = 3 * y ** 2 \n",
    "out = z.mean()\n",
    "\n",
    "out.backward(retain_graph=True)\n",
    "\n",
    "print(x.grad)"
   ]
  },
  {
   "cell_type": "markdown",
   "metadata": {
    "colab_type": "text",
    "id": "UPWKUoHo9rwC"
   },
   "source": [
    "Calling again the \"backward\" process does not launch an error"
   ]
  },
  {
   "cell_type": "code",
   "execution_count": 0,
   "metadata": {
    "colab": {},
    "colab_type": "code",
    "id": "SNbrrv30gC-l"
   },
   "outputs": [],
   "source": [
    "out.backward(retain_graph=True)"
   ]
  },
  {
   "cell_type": "code",
   "execution_count": 0,
   "metadata": {
    "colab": {
     "base_uri": "https://localhost:8080/",
     "height": 51
    },
    "colab_type": "code",
    "id": "20hB_GAkgC-i",
    "outputId": "7acb53dc-3969-451f-d50d-61953bf48a33"
   },
   "outputs": [
    {
     "name": "stdout",
     "output_type": "stream",
     "text": [
      "tensor([[9., 9.],\n",
      "        [9., 9.]])\n"
     ]
    }
   ],
   "source": [
    "print(x.grad)"
   ]
  },
  {
   "cell_type": "code",
   "execution_count": 0,
   "metadata": {
    "colab": {
     "base_uri": "https://localhost:8080/",
     "height": 34
    },
    "colab_type": "code",
    "id": "gXuFJckx-FFf",
    "outputId": "7fbdab3e-642a-46e8-d60d-4c5ed2487a41"
   },
   "outputs": [
    {
     "data": {
      "text/plain": [
       "(tensor(1.),)"
      ]
     },
     "execution_count": 28,
     "metadata": {
      "tags": []
     },
     "output_type": "execute_result"
    }
   ],
   "source": [
    "torch.autograd.grad(out, out, retain_graph=True)"
   ]
  },
  {
   "cell_type": "code",
   "execution_count": 0,
   "metadata": {
    "colab": {
     "base_uri": "https://localhost:8080/",
     "height": 51
    },
    "colab_type": "code",
    "id": "swHcxn-CgC-j",
    "outputId": "eb0cb90c-1191-4564-f640-c7d83cd8e626"
   },
   "outputs": [
    {
     "data": {
      "text/plain": [
       "(tensor([[0.2500, 0.2500],\n",
       "         [0.2500, 0.2500]]),)"
      ]
     },
     "execution_count": 29,
     "metadata": {
      "tags": []
     },
     "output_type": "execute_result"
    }
   ],
   "source": [
    "torch.autograd.grad(out, z, retain_graph=True)"
   ]
  },
  {
   "cell_type": "code",
   "execution_count": 0,
   "metadata": {
    "colab": {
     "base_uri": "https://localhost:8080/",
     "height": 51
    },
    "colab_type": "code",
    "id": "M_Ko7_y1gC-k",
    "outputId": "90e99f9a-fe4b-4a89-fd12-b7d3523e2767"
   },
   "outputs": [
    {
     "data": {
      "text/plain": [
       "(tensor([[4.5000, 4.5000],\n",
       "         [4.5000, 4.5000]]),)"
      ]
     },
     "execution_count": 30,
     "metadata": {
      "tags": []
     },
     "output_type": "execute_result"
    }
   ],
   "source": [
    "torch.autograd.grad(out, y, retain_graph=True)"
   ]
  },
  {
   "cell_type": "code",
   "execution_count": 0,
   "metadata": {
    "colab": {},
    "colab_type": "code",
    "id": "OvjmLzDAgC-m"
   },
   "outputs": [],
   "source": [
    "out.backward(torch.tensor(2.0), retain_graph=True)"
   ]
  },
  {
   "cell_type": "code",
   "execution_count": 0,
   "metadata": {
    "colab": {
     "base_uri": "https://localhost:8080/",
     "height": 51
    },
    "colab_type": "code",
    "id": "gctEXtYhgC-n",
    "outputId": "bdabe9bf-b35b-44dc-9236-0cac90ec6fc9"
   },
   "outputs": [
    {
     "name": "stdout",
     "output_type": "stream",
     "text": [
      "tensor([[18., 18.],\n",
      "        [18., 18.]])\n"
     ]
    }
   ],
   "source": [
    "print(x.grad)"
   ]
  },
  {
   "cell_type": "markdown",
   "metadata": {
    "colab_type": "text",
    "id": "vBtNQ8By_Aao"
   },
   "source": [
    "## A last example"
   ]
  },
  {
   "cell_type": "code",
   "execution_count": 0,
   "metadata": {
    "colab": {
     "base_uri": "https://localhost:8080/",
     "height": 323
    },
    "colab_type": "code",
    "id": "Q_gpAR_6l_BC",
    "outputId": "fec5c99f-6e46-4435-eada-c458327ca290"
   },
   "outputs": [
    {
     "name": "stdout",
     "output_type": "stream",
     "text": [
      "tensor([5., 5., 5., 5., 5., 5., 5., 5., 5., 5.])\n"
     ]
    },
    {
     "data": {
      "image/svg+xml": [
       "<?xml version=\"1.0\" encoding=\"UTF-8\" standalone=\"no\"?>\n",
       "<!DOCTYPE svg PUBLIC \"-//W3C//DTD SVG 1.1//EN\"\n",
       " \"http://www.w3.org/Graphics/SVG/1.1/DTD/svg11.dtd\">\n",
       "<!-- Generated by graphviz version 2.40.1 (20161225.0304)\n",
       " -->\n",
       "<!-- Title: %3 Pages: 1 -->\n",
       "<svg width=\"212pt\" height=\"214pt\"\n",
       " viewBox=\"0.00 0.00 212.00 214.00\" xmlns=\"http://www.w3.org/2000/svg\" xmlns:xlink=\"http://www.w3.org/1999/xlink\">\n",
       "<g id=\"graph0\" class=\"graph\" transform=\"scale(1 1) rotate(0) translate(4 210)\">\n",
       "<title>%3</title>\n",
       "<polygon fill=\"#ffffff\" stroke=\"transparent\" points=\"-4,4 -4,-210 208,-210 208,4 -4,4\"/>\n",
       "<!-- 140280228323000 -->\n",
       "<g id=\"node1\" class=\"node\">\n",
       "<title>140280228323000</title>\n",
       "<polygon fill=\"#caff70\" stroke=\"#000000\" points=\"148,-21 55,-21 55,0 148,0 148,-21\"/>\n",
       "<text text-anchor=\"middle\" x=\"101.5\" y=\"-7.4\" font-family=\"Times,serif\" font-size=\"12.00\" fill=\"#000000\">SumBackward0</text>\n",
       "</g>\n",
       "<!-- 140280228323112 -->\n",
       "<g id=\"node2\" class=\"node\">\n",
       "<title>140280228323112</title>\n",
       "<polygon fill=\"#d3d3d3\" stroke=\"#000000\" points=\"147.5,-78 55.5,-78 55.5,-57 147.5,-57 147.5,-78\"/>\n",
       "<text text-anchor=\"middle\" x=\"101.5\" y=\"-64.4\" font-family=\"Times,serif\" font-size=\"12.00\" fill=\"#000000\">AddBackward0</text>\n",
       "</g>\n",
       "<!-- 140280228323112&#45;&gt;140280228323000 -->\n",
       "<g id=\"edge1\" class=\"edge\">\n",
       "<title>140280228323112&#45;&gt;140280228323000</title>\n",
       "<path fill=\"none\" stroke=\"#000000\" d=\"M101.5,-56.7787C101.5,-49.6134 101.5,-39.9517 101.5,-31.3097\"/>\n",
       "<polygon fill=\"#000000\" stroke=\"#000000\" points=\"105.0001,-31.1732 101.5,-21.1732 98.0001,-31.1732 105.0001,-31.1732\"/>\n",
       "</g>\n",
       "<!-- 140280228323224 -->\n",
       "<g id=\"node3\" class=\"node\">\n",
       "<title>140280228323224</title>\n",
       "<polygon fill=\"#d3d3d3\" stroke=\"#000000\" points=\"93,-135 0,-135 0,-114 93,-114 93,-135\"/>\n",
       "<text text-anchor=\"middle\" x=\"46.5\" y=\"-121.4\" font-family=\"Times,serif\" font-size=\"12.00\" fill=\"#000000\">PowBackward0</text>\n",
       "</g>\n",
       "<!-- 140280228323224&#45;&gt;140280228323112 -->\n",
       "<g id=\"edge2\" class=\"edge\">\n",
       "<title>140280228323224&#45;&gt;140280228323112</title>\n",
       "<path fill=\"none\" stroke=\"#000000\" d=\"M56.8451,-113.7787C64.5272,-105.8173 75.1831,-94.7739 84.1589,-85.4717\"/>\n",
       "<polygon fill=\"#000000\" stroke=\"#000000\" points=\"86.7763,-87.7997 91.2013,-78.1732 81.7389,-82.9391 86.7763,-87.7997\"/>\n",
       "</g>\n",
       "<!-- 140280228323400 -->\n",
       "<g id=\"node4\" class=\"node\">\n",
       "<title>140280228323400</title>\n",
       "<polygon fill=\"#add8e6\" stroke=\"#000000\" points=\"128.5,-206 74.5,-206 74.5,-171 128.5,-171 128.5,-206\"/>\n",
       "<text text-anchor=\"middle\" x=\"101.5\" y=\"-178.4\" font-family=\"Times,serif\" font-size=\"12.00\" fill=\"#000000\"> (10)</text>\n",
       "</g>\n",
       "<!-- 140280228323400&#45;&gt;140280228323224 -->\n",
       "<g id=\"edge3\" class=\"edge\">\n",
       "<title>140280228323400&#45;&gt;140280228323224</title>\n",
       "<path fill=\"none\" stroke=\"#000000\" d=\"M86.1794,-170.6724C78.7606,-162.0396 69.8597,-151.6821 62.3697,-142.9666\"/>\n",
       "<polygon fill=\"#000000\" stroke=\"#000000\" points=\"64.8876,-140.5265 55.7154,-135.2234 59.5787,-145.0888 64.8876,-140.5265\"/>\n",
       "</g>\n",
       "<!-- 140280228323280 -->\n",
       "<g id=\"node5\" class=\"node\">\n",
       "<title>140280228323280</title>\n",
       "<polygon fill=\"#d3d3d3\" stroke=\"#000000\" points=\"204,-135 111,-135 111,-114 204,-114 204,-135\"/>\n",
       "<text text-anchor=\"middle\" x=\"157.5\" y=\"-121.4\" font-family=\"Times,serif\" font-size=\"12.00\" fill=\"#000000\">PowBackward0</text>\n",
       "</g>\n",
       "<!-- 140280228323400&#45;&gt;140280228323280 -->\n",
       "<g id=\"edge5\" class=\"edge\">\n",
       "<title>140280228323400&#45;&gt;140280228323280</title>\n",
       "<path fill=\"none\" stroke=\"#000000\" d=\"M117.0991,-170.6724C124.6529,-162.0396 133.7156,-151.6821 141.3417,-142.9666\"/>\n",
       "<polygon fill=\"#000000\" stroke=\"#000000\" points=\"144.1659,-145.054 148.117,-135.2234 138.8979,-140.4444 144.1659,-145.054\"/>\n",
       "</g>\n",
       "<!-- 140280228323280&#45;&gt;140280228323112 -->\n",
       "<g id=\"edge4\" class=\"edge\">\n",
       "<title>140280228323280&#45;&gt;140280228323112</title>\n",
       "<path fill=\"none\" stroke=\"#000000\" d=\"M146.9668,-113.7787C139.145,-105.8173 128.2954,-94.7739 119.1564,-85.4717\"/>\n",
       "<polygon fill=\"#000000\" stroke=\"#000000\" points=\"121.4909,-82.8537 111.9859,-78.1732 116.4975,-87.7595 121.4909,-82.8537\"/>\n",
       "</g>\n",
       "</g>\n",
       "</svg>\n"
      ],
      "text/plain": [
       "<graphviz.dot.Digraph at 0x7f95892d9e48>"
      ]
     },
     "execution_count": 33,
     "metadata": {
      "tags": []
     },
     "output_type": "execute_result"
    }
   ],
   "source": [
    "x=torch.ones(10, requires_grad=True)\n",
    "\n",
    "y=x**2\n",
    "z=x**3\n",
    "r=(y+z).sum()\n",
    "\n",
    "r.backward()\n",
    "print(x.grad)\n",
    "torchviz.make_dot(r) "
   ]
  },
  {
   "cell_type": "markdown",
   "metadata": {
    "colab_type": "text",
    "id": "kTN0-Pm0gC-o"
   },
   "source": [
    "## Gradient accumulation\n",
    "\n",
    "\n",
    "The gradients must be set to zero manually. Otherwise they will cumulate across several _.backward()_ calls. \n",
    "This accumulating behavior is desirable in particular to compute the gradient of a loss summed over several “mini-batches,” or the gradient of a sum of losses.\n"
   ]
  },
  {
   "cell_type": "code",
   "execution_count": 0,
   "metadata": {
    "colab": {
     "base_uri": "https://localhost:8080/",
     "height": 34
    },
    "colab_type": "code",
    "id": "ELCAEIdv_G3X",
    "outputId": "06257ff6-38fe-437a-dd06-99cc328469a7"
   },
   "outputs": [
    {
     "name": "stdout",
     "output_type": "stream",
     "text": [
      "tensor([[4.]], grad_fn=<PowBackward0>)\n"
     ]
    }
   ],
   "source": [
    "x = torch.ones(1, 1,requires_grad = True)\n",
    "out = (x+1)**2\n",
    "print(out)"
   ]
  },
  {
   "cell_type": "code",
   "execution_count": 0,
   "metadata": {
    "colab": {
     "base_uri": "https://localhost:8080/",
     "height": 68
    },
    "colab_type": "code",
    "id": "lG7OEaY7gC-o",
    "outputId": "3fc7b824-8f63-43ec-dab7-a83607cfef7a"
   },
   "outputs": [
    {
     "name": "stdout",
     "output_type": "stream",
     "text": [
      "tensor([[4.]])\n",
      "tensor([[12.]])\n",
      "tensor([[16.]])\n"
     ]
    }
   ],
   "source": [
    "out.backward(torch.ones(1,1),retain_graph=True)\n",
    "print(x.grad)\n",
    "out.backward(2 * torch.ones(1,1),retain_graph=True)\n",
    "print(x.grad)\n",
    "out.backward(retain_graph=True)\n",
    "print(x.grad)"
   ]
  },
  {
   "cell_type": "code",
   "execution_count": 0,
   "metadata": {
    "colab": {
     "base_uri": "https://localhost:8080/",
     "height": 34
    },
    "colab_type": "code",
    "id": "64bGfnYegC-n",
    "outputId": "1b64ae88-532f-4b78-de31-1138982f2f52"
   },
   "outputs": [
    {
     "data": {
      "text/plain": [
       "tensor([[0.]])"
      ]
     },
     "execution_count": 36,
     "metadata": {
      "tags": []
     },
     "output_type": "execute_result"
    }
   ],
   "source": [
    "# Manually zero the gradients after updating weights\n",
    "x.grad.data.zero_()"
   ]
  },
  {
   "cell_type": "code",
   "execution_count": 0,
   "metadata": {
    "colab": {
     "base_uri": "https://localhost:8080/",
     "height": 68
    },
    "colab_type": "code",
    "id": "-7XNSIw9gC-p",
    "outputId": "b4862842-291f-4acb-9e74-00827d8441b9"
   },
   "outputs": [
    {
     "name": "stdout",
     "output_type": "stream",
     "text": [
      "tensor([[4.]])\n",
      "tensor([[8.]])\n",
      "tensor([[4.]])\n"
     ]
    }
   ],
   "source": [
    "out.backward(torch.ones(1,1),retain_graph=True)\n",
    "print(x.grad)\n",
    "x.grad.data.zero_()\n",
    "out.backward(2 * torch.ones(1,1),retain_graph=True)\n",
    "print(x.grad)\n",
    "x.grad.data.zero_()\n",
    "out.backward(retain_graph=True)\n",
    "print(x.grad)\n"
   ]
  },
  {
   "cell_type": "markdown",
   "metadata": {
    "colab_type": "text",
    "id": "E-03ZcQggC-p"
   },
   "source": [
    "If you want to come back to the difference between detach and data see [Differences between .data and .detach](https://github.com/pytorch/pytorch/issues/6990)"
   ]
  },
  {
   "cell_type": "markdown",
   "metadata": {
    "colab_type": "text",
    "collapsed": true,
    "id": "yTdzGEodgC-p"
   },
   "source": [
    "# Playing with a neural network in pytorch: non-linear regression"
   ]
  },
  {
   "cell_type": "markdown",
   "metadata": {
    "colab_type": "text",
    "id": "VMoz9H5VuC5B"
   },
   "source": [
    "## Non-linear regression with a neural network"
   ]
  },
  {
   "cell_type": "markdown",
   "metadata": {
    "colab_type": "text",
    "id": "cZsTaZ2NgC-z"
   },
   "source": [
    "An implementation of **(Batch) Gradient Descent** using the nn package. Here we have a super simple model with only one layer and no activation function!"
   ]
  },
  {
   "cell_type": "markdown",
   "metadata": {
    "colab_type": "text",
    "id": "DDMmHyHmJfRC"
   },
   "source": [
    "Generate the dataset and visualize it."
   ]
  },
  {
   "cell_type": "code",
   "execution_count": 0,
   "metadata": {
    "colab": {
     "base_uri": "https://localhost:8080/",
     "height": 248
    },
    "colab_type": "code",
    "id": "-mSHFwP337eD",
    "outputId": "09b2aa37-bfbe-4a64-a739-d46793effdc6"
   },
   "outputs": [
    {
     "data": {
      "image/png": "[encoded data removed]",
      "text/plain": [
       "<Figure size 432x288 with 2 Axes>"
      ]
     },
     "metadata": {
      "tags": []
     },
     "output_type": "display_data"
    }
   ],
   "source": [
    "from mpl_toolkits.mplot3d import Axes3D\n",
    "import matplotlib.pyplot as plt\n",
    "from matplotlib import cm\n",
    "from matplotlib.ticker import LinearLocator, FormatStrFormatter\n",
    "import numpy as np\n",
    "\n",
    "\n",
    "# Make data\n",
    "num_samples = 10\n",
    "X1 = np.linspace(-5, 5, num_samples) \n",
    "X2 = np.linspace(-5, 5, num_samples) \n",
    "X1grid, X2grid = np.meshgrid(X1, X2)\n",
    "Y = -(0.1*X1grid**2 + 3*np.sin(0.1*X2grid) + 0.1) \n",
    "\n",
    "#print(X1grid)\n",
    "#print(X2grid)\n",
    "#print(Y)\n",
    "\n",
    "# Plot the surface.\n",
    "fig = plt.figure()\n",
    "ax = fig.gca(projection='3d')\n",
    "surf = ax.plot_surface(X1grid, X2grid, Y, cmap=cm.coolwarm,\n",
    "                       linewidth=0, antialiased=False)\n",
    "\n",
    "# Add a color bar which maps values to colors.\n",
    "fig.colorbar(surf, shrink=0.5, aspect=5)\n",
    "plt.show()"
   ]
  },
  {
   "cell_type": "code",
   "execution_count": 0,
   "metadata": {
    "colab": {
     "base_uri": "https://localhost:8080/",
     "height": 68
    },
    "colab_type": "code",
    "id": "MMu65iQ17nPp",
    "outputId": "cd6e63e3-27f6-4375-e2c2-74e36ecbaa7b"
   },
   "outputs": [
    {
     "name": "stdout",
     "output_type": "stream",
     "text": [
      "(100, 2)\n",
      "(100, 1)\n",
      "torch.Size([100, 2])\n"
     ]
    }
   ],
   "source": [
    "x1n = X1grid.ravel().reshape(-1, 1)\n",
    "x2n = X2grid.ravel().reshape(-1, 1)\n",
    "xn = np.concatenate((x1n,x2n),axis=1)\n",
    "yn = Y.ravel().reshape(-1, 1)\n",
    "#print(x1n.shape)\n",
    "#print(x2n.shape)\n",
    "print(xn.shape)\n",
    "print(yn.shape)\n",
    "\n",
    "# Convert in pytorch tensors\n",
    "x = torch.from_numpy(xn).float()\n",
    "y = torch.from_numpy(yn).float()\n",
    "#print(x)\n",
    "#print(y)\n",
    "print(x.shape)"
   ]
  },
  {
   "cell_type": "markdown",
   "metadata": {
    "colab_type": "text",
    "id": "CkcyFiacL8fH"
   },
   "source": [
    "## Neural network with full implementation (gradient computation and estimate update)"
   ]
  },
  {
   "cell_type": "code",
   "execution_count": 0,
   "metadata": {
    "colab": {
     "base_uri": "https://localhost:8080/",
     "height": 204
    },
    "colab_type": "code",
    "id": "T4se-BEixM3Z",
    "outputId": "5cfd3692-f1df-4449-ec2f-b294c8db75f4"
   },
   "outputs": [
    {
     "name": "stdout",
     "output_type": "stream",
     "text": [
      "0 68342.921875\n",
      "1000 48.471832275390625\n",
      "2000 22.326614379882812\n",
      "3000 14.24135684967041\n",
      "4000 10.531797409057617\n",
      "5000 8.783231735229492\n",
      "6000 7.883084774017334\n",
      "7000 7.349945068359375\n",
      "8000 7.007773399353027\n",
      "9000 6.764140605926514\n",
      "10000 6.586811542510986\n"
     ]
    }
   ],
   "source": [
    "import torch\n",
    "\n",
    "dtype = torch.float\n",
    "\n",
    "\n",
    "# N is batch size; D_in is input dimension;\n",
    "# H is hidden dimension; D_out is output dimension.\n",
    "N, D_in, H, D_out = num_samples**2, 2, 100, 1\n",
    "\n",
    "# Randomly initialize weights\n",
    "w1 = torch.randn(D_in, H, dtype=dtype)\n",
    "w2 = torch.randn(H, D_out,  dtype=dtype)\n",
    "\n",
    "learning_rate = 1e-6 \n",
    "for t in range(10001):\n",
    "    # Forward pass: compute predicted y\n",
    "    h = x.mm(w1)\n",
    "    \n",
    "    h_relu = h.clamp(min=0)\n",
    "    y_pred = h_relu.mm(w2)\n",
    "    #print(y_pred)\n",
    "\n",
    "    # Compute and print loss\n",
    "    loss = (y_pred - y).pow(2).sum().item()\n",
    "    if t % 1000 == 0:\n",
    "        print(t, loss)\n",
    "\n",
    "    # Backprop to compute gradients of w1 and w2 with respect to loss\n",
    "    grad_y_pred = 2.0 * (y_pred - y)\n",
    "    grad_w2 = h_relu.t().mm(grad_y_pred)\n",
    "    grad_h_relu = grad_y_pred.mm(w2.t())\n",
    "    grad_h = grad_h_relu.clone()\n",
    "    grad_h[h < 0] = 0\n",
    "    grad_w1 = x.t().mm(grad_h)\n",
    "\n",
    "    # Update weights using gradient descent\n",
    "    w1 -= learning_rate * grad_w1\n",
    "    w2 -= learning_rate * grad_w2"
   ]
  },
  {
   "cell_type": "markdown",
   "metadata": {
    "colab_type": "text",
    "id": "xhipoBZvJJz7"
   },
   "source": [
    "Compare the first values"
   ]
  },
  {
   "cell_type": "code",
   "execution_count": 0,
   "metadata": {
    "colab": {
     "base_uri": "https://localhost:8080/",
     "height": 187
    },
    "colab_type": "code",
    "id": "RDBc5npAAHzN",
    "outputId": "b71b6bb6-5dfe-4ba9-c05a-674c277ce6d7"
   },
   "outputs": [
    {
     "name": "stdout",
     "output_type": "stream",
     "text": [
      "tensor([[-1.1617],\n",
      "        [-0.1741],\n",
      "        [ 0.5667],\n",
      "        [ 1.0605],\n",
      "        [ 1.3074]])\n",
      "tensor([[-0.7565],\n",
      "        [-0.1019],\n",
      "        [ 0.6282],\n",
      "        [ 1.1044],\n",
      "        [ 1.3145]])\n"
     ]
    }
   ],
   "source": [
    "print(y[0:5])\n",
    "print(y_pred[0:5])"
   ]
  },
  {
   "cell_type": "markdown",
   "metadata": {
    "colab_type": "text",
    "id": "xA3rUb9XIhCc"
   },
   "source": [
    "Plot the approximation in 1D"
   ]
  },
  {
   "cell_type": "code",
   "execution_count": 0,
   "metadata": {
    "colab": {},
    "colab_type": "code",
    "id": "q2rQUIq1OiiH"
   },
   "outputs": [],
   "source": [
    "def plotApproximation(y,y_pred):\n",
    "  plt.figure(figsize=(6, 4))\n",
    "  plt.plot(y.detach().numpy(),'b-')\n",
    "  plt.plot(y_pred.detach().numpy(),'r-*')\n",
    "  plt.xlabel('$x$')\n",
    "  plt.ylabel('$y$')\n",
    "  plt.title('Approximation with the neural network')\n",
    "  plt.show()"
   ]
  },
  {
   "cell_type": "code",
   "execution_count": 0,
   "metadata": {
    "colab": {
     "base_uri": "https://localhost:8080/",
     "height": 295
    },
    "colab_type": "code",
    "id": "ibZbvbe3Otom",
    "outputId": "f8904288-7413-48ce-e6ca-7cef625e01e9"
   },
   "outputs": [
    {
     "data": {
      "image/png": "[encoded data removed]",
      "text/plain": [
       "<Figure size 432x288 with 1 Axes>"
      ]
     },
     "metadata": {
      "tags": []
     },
     "output_type": "display_data"
    }
   ],
   "source": [
    "plotApproximation(y,y_pred)"
   ]
  },
  {
   "cell_type": "code",
   "execution_count": 0,
   "metadata": {
    "colab": {
     "base_uri": "https://localhost:8080/",
     "height": 295
    },
    "colab_type": "code",
    "id": "VzSSkdQq0sXr",
    "outputId": "ba069224-3609-4b31-a3b8-fea3b0ec7635"
   },
   "outputs": [
    {
     "data": {
      "image/png": "[encoded data removed]",
      "text/plain": [
       "<Figure size 432x288 with 1 Axes>"
      ]
     },
     "metadata": {
      "tags": []
     },
     "output_type": "display_data"
    }
   ],
   "source": [
    "plt.figure(figsize=(6, 4))\n",
    "plt.plot(y.numpy()-y_pred.numpy())\n",
    "plt.title('Residuals')\n",
    "plt.xlabel('$x$')\n",
    "plt.ylabel('$y-\\hat{y}$')\n",
    "plt.show()"
   ]
  },
  {
   "cell_type": "markdown",
   "metadata": {
    "colab_type": "text",
    "id": "Fqw-HzS5gC-0"
   },
   "source": [
    "Last step, we use directly the optim package to update the weights and bias."
   ]
  },
  {
   "cell_type": "markdown",
   "metadata": {
    "colab_type": "text",
    "id": "cKkd4LMWvX93"
   },
   "source": [
    "## Neural network with automatic gradient computation (but still the explicit estimate update)\n",
    "\n",
    "\n",
    "A fully-connected ReLU network with one hidden layer, trained to predict y from x\n",
    "by minimizing squared Euclidean distance.\n",
    "\n",
    "This implementation uses the nn package from PyTorch to build the network.\n",
    "PyTorch autograd makes it easy to define computational graphs and take gradients,\n",
    "but raw autograd can be a bit too low-level for defining complex neural networks;\n",
    "this is where the nn package can help. The nn package defines a set of Modules,\n",
    "which you can think of as a neural network layer that has produces output from\n",
    "input and may have some trainable weights."
   ]
  },
  {
   "cell_type": "markdown",
   "metadata": {
    "colab_type": "text",
    "id": "9aqqho33M21_"
   },
   "source": [
    "### Question: use autograd to compute the gradient. You can start from the full implementation of the neural network."
   ]
  },
  {
   "cell_type": "code",
   "execution_count": 0,
   "metadata": {
    "colab": {
     "base_uri": "https://localhost:8080/",
     "height": 204
    },
    "colab_type": "code",
    "id": "9gm8w-aJvb0f",
    "outputId": "21ca671a-1387-4dde-b1e2-a1d0bdb0e4d7"
   },
   "outputs": [
    {
     "name": "stdout",
     "output_type": "stream",
     "text": [
      "0 272.3843688964844\n",
      "1000 20.968338012695312\n",
      "2000 10.6832275390625\n",
      "3000 7.550316333770752\n",
      "4000 6.195433139801025\n",
      "5000 5.387141227722168\n",
      "6000 4.819154739379883\n",
      "7000 4.395515441894531\n",
      "8000 4.072986125946045\n",
      "9000 3.8251559734344482\n",
      "10000 3.633343458175659\n"
     ]
    }
   ],
   "source": [
    "import torch\n",
    "\n",
    "# N is batch size; D_in is input dimension;\n",
    "# H is hidden dimension; D_out is output dimension.\n",
    "N, D_in, H, D_out = num_samples**2, 2, 100, 1\n",
    "\n",
    "# Use the nn package to define our model as a sequence of layers. nn.Sequential\n",
    "# is a Module which contains other Modules, and applies them in sequence to\n",
    "# produce its output. Each Linear Module computes output from input using a\n",
    "# linear function, and holds internal Tensors for its weight and bias.\n",
    "model = torch.nn.Sequential(\n",
    "    torch.nn.Linear(D_in, H),\n",
    "    torch.nn.ReLU(),\n",
    "    torch.nn.Linear(H, D_out),\n",
    ")\n",
    "\n",
    "# The nn package also contains definitions of popular loss functions; in this\n",
    "# case we will use Mean Squared Error (MSE) as our loss function.\n",
    "loss_fn = torch.nn.MSELoss(reduction='sum')\n",
    "\n",
    "learning_rate = 1e-6\n",
    "for t in range(10001):\n",
    "    # Forward pass: compute predicted y by passing x to the model. Module objects\n",
    "    # override the __call__ operator so you can call them like functions. When\n",
    "    # doing so you pass a Tensor of input data to the Module and it produces\n",
    "    # a Tensor of output data.\n",
    "    y_pred = model(x)\n",
    "\n",
    "    # Compute and print loss. We pass Tensors containing the predicted and true\n",
    "    # values of y, and the loss function returns a Tensor containing the\n",
    "    # loss.\n",
    "    loss = loss_fn(y_pred, y)\n",
    "    if t % 1000 == 0:\n",
    "        print(t, loss.item())\n",
    "\n",
    "    \n",
    "    # COMPLETE THE CODE FROM HERE\n",
    "    # ..."
   ]
  },
  {
   "cell_type": "code",
   "execution_count": 0,
   "metadata": {
    "colab": {
     "base_uri": "https://localhost:8080/",
     "height": 295
    },
    "colab_type": "code",
    "id": "j828Mw1pO_H1",
    "outputId": "e4027e00-e6d7-469c-f8bd-1834a1bca279"
   },
   "outputs": [
    {
     "data": {
      "image/png": "[encoded data removed]",
      "text/plain": [
       "<Figure size 432x288 with 1 Axes>"
      ]
     },
     "metadata": {
      "tags": []
     },
     "output_type": "display_data"
    }
   ],
   "source": [
    "plotApproximation(y,y_pred)"
   ]
  },
  {
   "cell_type": "markdown",
   "metadata": {
    "colab_type": "text",
    "id": "xOJBAjFAMc63"
   },
   "source": [
    "## Neural network with automatic gradient computation and automatic estimate update\n",
    "\n",
    "A fully-connected ReLU network with one hidden layer, trained to predict y from x\n",
    "by minimizing squared Euclidean distance.\n",
    "\n",
    "This implementation uses the nn package from PyTorch to build the network.\n",
    "\n",
    "Rather than manually updating the weights of the model as we have been doing,\n",
    "we use the optim package to define an Optimizer that will update the weights\n",
    "for us. The optim package defines many optimization algorithms that are commonly\n",
    "used for deep learning, including SGD+momentum, RMSProp, Adam, etc."
   ]
  },
  {
   "cell_type": "markdown",
   "metadata": {
    "colab_type": "text",
    "id": "auFqUkCrNJPx"
   },
   "source": [
    "### Question: use the Torch optimizer to do the gradient descent. You can start from the full implementation of the neural network with automatic differentiation.\n",
    "\n",
    "Details on Optimizer are [here](https://pytorch.org/docs/stable/optim.html)"
   ]
  },
  {
   "cell_type": "code",
   "execution_count": 0,
   "metadata": {
    "colab": {
     "base_uri": "https://localhost:8080/",
     "height": 204
    },
    "colab_type": "code",
    "id": "9dRfOhN3vnQN",
    "outputId": "57fb4db1-e2e8-4a12-c8a0-4a52588cb7fe"
   },
   "outputs": [
    {
     "name": "stdout",
     "output_type": "stream",
     "text": [
      "0 451.6654357910156\n",
      "1000 25.8614501953125\n",
      "2000 11.387181282043457\n",
      "3000 6.925282955169678\n",
      "4000 5.2985992431640625\n",
      "5000 4.517536163330078\n",
      "6000 4.0356292724609375\n",
      "7000 3.6926310062408447\n",
      "8000 3.433685302734375\n",
      "9000 3.2335944175720215\n",
      "10000 3.077369213104248\n"
     ]
    }
   ],
   "source": [
    "import torch\n",
    "\n",
    "# N is batch size; D_in is input dimension;\n",
    "# H is hidden dimension; D_out is output dimension.\n",
    "N, D_in, H, D_out = num_samples**2, 2, 100, 1\n",
    "\n",
    "# Use the nn package to define our model and loss function.\n",
    "model = torch.nn.Sequential(\n",
    "    torch.nn.Linear(D_in, H),\n",
    "    torch.nn.ReLU(),\n",
    "    torch.nn.Linear(H, D_out),\n",
    ")\n",
    "loss_fn = torch.nn.MSELoss(reduction='sum')\n",
    "\n",
    "# Use the optim package to define an Optimizer that will update the weights of\n",
    "# the model for us. Here we will use Adam; the optim package contains many other\n",
    "# optimization algoriths. The first argument to the Adam constructor tells the\n",
    "# optimizer which Tensors it should update.\n",
    "learning_rate = 1e-6\n",
    "#optimizer = torch.optim.Adam(model.parameters(), lr=learning_rate)\n",
    "optimizer = torch.optim.SGD(model.parameters(), lr=learning_rate)\n",
    "for t in range(10001):\n",
    "    # Forward pass: compute predicted y by passing x to the model.\n",
    "    y_pred = model(x)\n",
    "\n",
    "    # Compute and print loss.\n",
    "    loss = loss_fn(y_pred, y)\n",
    "    if t % 1000 == 0:\n",
    "        print(t, loss.item())\n",
    "\n",
    "    # COMPLETE THE CODE FROM HERE\n",
    "    # ..."
   ]
  },
  {
   "cell_type": "code",
   "execution_count": 0,
   "metadata": {
    "colab": {
     "base_uri": "https://localhost:8080/",
     "height": 295
    },
    "colab_type": "code",
    "id": "l3wESBOnPAzx",
    "outputId": "f5816115-0673-477e-a191-2ff91365055f"
   },
   "outputs": [
    {
     "data": {
      "image/png": "[encoded data removed]",
      "text/plain": [
       "<Figure size 432x288 with 1 Axes>"
      ]
     },
     "metadata": {
      "tags": []
     },
     "output_type": "display_data"
    }
   ],
   "source": [
    "plotApproximation(y,y_pred)"
   ]
  }
 ],
 "metadata": {
  "accelerator": "GPU",
  "colab": {
   "collapsed_sections": [],
   "name": "DSTI_DL_Lab2_March2020.ipynb",
   "provenance": [],
   "toc_visible": true
  },
  "kernelspec": {
   "display_name": "Python 3",
   "language": "python",
   "name": "python3"
  },
  "language_info": {
   "codemirror_mode": {
    "name": "ipython",
    "version": 3
   },
   "file_extension": ".py",
   "mimetype": "text/x-python",
   "name": "python",
   "nbconvert_exporter": "python",
   "pygments_lexer": "ipython3",
   "version": "3.7.4"
  }
 },
 "nbformat": 4,
 "nbformat_minor": 1
}
