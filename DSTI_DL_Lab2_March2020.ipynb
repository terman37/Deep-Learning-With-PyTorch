{
 "cells": [
  {
   "cell_type": "markdown",
   "metadata": {
    "colab_type": "text",
    "id": "Zt3nY3xZgC-Q"
   },
   "source": [
    "# Autograd: automatic differentiation\n",
    "\n",
    "When executing tensor operations, PyTorch can automatically construct on-the-fly the graph of operations to compute the gradient of any quantity with respect to any tensor involved.\n",
    "\n",
    "More information on autotomatic differentiation in Pytorch [here](https://pytorch.org/tutorials/beginner/blitz/autograd_tutorial.html#sphx-glr-beginner-blitz-autograd-tutorial-py)"
   ]
  },
  {
   "cell_type": "markdown",
   "metadata": {
    "colab_type": "text",
    "id": "FznlXGW9NvPq"
   },
   "source": [
    "## Visualizing the computational graph"
   ]
  },
  {
   "cell_type": "code",
   "execution_count": 1,
   "metadata": {
    "colab": {},
    "colab_type": "code",
    "id": "Hh6cps5cgC9g"
   },
   "outputs": [],
   "source": [
    "import matplotlib.pyplot as plt\n",
    "%matplotlib inline\n",
    "import torch"
   ]
  },
  {
   "cell_type": "markdown",
   "metadata": {
    "colab_type": "text",
    "id": "UUvKk98Snblr"
   },
   "source": [
    "PyTorchViz is a small package to create visualizations of PyTorch execution graphs and traces."
   ]
  },
  {
   "cell_type": "code",
   "execution_count": 2,
   "metadata": {
    "colab": {
     "base_uri": "https://localhost:8080/",
     "height": 241
    },
    "colab_type": "code",
    "id": "_V6Sd1VEnKxQ",
    "outputId": "f4e06d66-6c4c-4b31-9fe4-063587f615ab"
   },
   "outputs": [],
   "source": [
    "# !pip install torchviz\n"
   ]
  },
  {
   "cell_type": "code",
   "execution_count": 3,
   "metadata": {
    "colab": {},
    "colab_type": "code",
    "id": "Htgg-1C1ChI1"
   },
   "outputs": [],
   "source": [
    "import torchviz\n",
    "import os\n",
    "os.environ[\"PATH\"] += os.pathsep + 'C:/MY_SOFTS/DEV/OTHERS/GraphViz/bin/'"
   ]
  },
  {
   "cell_type": "markdown",
   "metadata": {
    "colab_type": "text",
    "id": "wYsJ94KYrquH"
   },
   "source": [
    "Inn order to enable automatic differentiation, PyTorch keeps track of all operations involving tensors for which the gradient may need to be computed (i.e., require_grad is True). The operations are recorded as a directed graph. \n",
    "\n",
    "Torch tensors are recalled [here](https://pytorch.org/docs/stable/tensors.html) \n",
    "\n"
   ]
  },
  {
   "cell_type": "code",
   "execution_count": 4,
   "metadata": {
    "colab": {
     "base_uri": "https://localhost:8080/",
     "height": 51
    },
    "colab_type": "code",
    "id": "xJQfkBHxsPLF",
    "outputId": "e30fbd8f-8031-4932-eea4-e4b40dfae913"
   },
   "outputs": [
    {
     "name": "stdout",
     "output_type": "stream",
     "text": [
      "tensor([[1., 1.],\n",
      "        [1., 1.]])\n"
     ]
    }
   ],
   "source": [
    "x = torch.ones(2, 2)\n",
    "print(x)"
   ]
  },
  {
   "cell_type": "markdown",
   "metadata": {
    "colab_type": "text",
    "id": "onirJsB5gC-R"
   },
   "source": [
    "A Tensor has a Boolean field *requires_grad*, set to False by default, which states if PyTorch should build the graph of operations so that gradients wrt to it can be computed."
   ]
  },
  {
   "cell_type": "code",
   "execution_count": 5,
   "metadata": {
    "colab": {
     "base_uri": "https://localhost:8080/",
     "height": 34
    },
    "colab_type": "code",
    "id": "7KOHka8fgC-R",
    "outputId": "eb8fd4ce-0a68-44bd-ce52-522f689037c4"
   },
   "outputs": [
    {
     "data": {
      "text/plain": [
       "False"
      ]
     },
     "execution_count": 5,
     "metadata": {},
     "output_type": "execute_result"
    }
   ],
   "source": [
    "x.requires_grad"
   ]
  },
  {
   "cell_type": "code",
   "execution_count": 6,
   "metadata": {
    "colab": {
     "base_uri": "https://localhost:8080/",
     "height": 51
    },
    "colab_type": "code",
    "id": "qCupY_tygC-S",
    "outputId": "be86e453-f11d-4905-bc40-25acc1e4864b"
   },
   "outputs": [
    {
     "data": {
      "text/plain": [
       "array([[1., 1.],\n",
       "       [1., 1.]], dtype=float32)"
      ]
     },
     "execution_count": 6,
     "metadata": {},
     "output_type": "execute_result"
    }
   ],
   "source": [
    "x.numpy()"
   ]
  },
  {
   "cell_type": "code",
   "execution_count": 7,
   "metadata": {
    "colab": {
     "base_uri": "https://localhost:8080/",
     "height": 34
    },
    "colab_type": "code",
    "id": "hWF-cjdugC-T",
    "outputId": "dc490ad5-6cf1-4d7d-80f5-d14bb9470e15"
   },
   "outputs": [
    {
     "data": {
      "text/plain": [
       "True"
      ]
     },
     "execution_count": 7,
     "metadata": {},
     "output_type": "execute_result"
    }
   ],
   "source": [
    "x.requires_grad_(True)\n",
    "x.requires_grad"
   ]
  },
  {
   "cell_type": "markdown",
   "metadata": {
    "colab_type": "text",
    "id": "E8UvVzIDsgy-"
   },
   "source": [
    "### Question: The following cell gives an error. Why?"
   ]
  },
  {
   "cell_type": "code",
   "execution_count": 8,
   "metadata": {
    "colab": {
     "base_uri": "https://localhost:8080/",
     "height": 164
    },
    "colab_type": "code",
    "id": "-3hhJbzSsbKT",
    "outputId": "25399bd0-a96f-408d-b58b-c1c530dcf3a6"
   },
   "outputs": [],
   "source": [
    "# x.numpy()"
   ]
  },
  {
   "cell_type": "markdown",
   "metadata": {
    "colab_type": "text",
    "id": "ZbK4X5CFr0f2"
   },
   "source": [
    "The detach() method constructs a new view on a tensor which is declared not to need gradients, i.e., it is to be excluded from further tracking of operations, and therefore the subgraph involving this view is not recorded."
   ]
  },
  {
   "cell_type": "code",
   "execution_count": 9,
   "metadata": {
    "colab": {
     "base_uri": "https://localhost:8080/",
     "height": 51
    },
    "colab_type": "code",
    "id": "4tbWCPc5gC-T",
    "outputId": "9b276e70-72ed-4dcd-cd49-96e2a5cd93a5"
   },
   "outputs": [
    {
     "data": {
      "text/plain": [
       "array([[1., 1.],\n",
       "       [1., 1.]], dtype=float32)"
      ]
     },
     "execution_count": 9,
     "metadata": {},
     "output_type": "execute_result"
    }
   ],
   "source": [
    "x.detach().numpy()"
   ]
  },
  {
   "cell_type": "code",
   "execution_count": 10,
   "metadata": {
    "colab": {
     "base_uri": "https://localhost:8080/",
     "height": 51
    },
    "colab_type": "code",
    "id": "raHZBNwMgC-U",
    "outputId": "4bd59273-8cbd-44da-f888-71820c500cb9"
   },
   "outputs": [
    {
     "data": {
      "text/plain": [
       "array([[1., 1.],\n",
       "       [1., 1.]], dtype=float32)"
      ]
     },
     "execution_count": 10,
     "metadata": {},
     "output_type": "execute_result"
    }
   ],
   "source": [
    "x.data.numpy() # Torch.data returns the \"data\" (array_like) stored in the tensor"
   ]
  },
  {
   "cell_type": "code",
   "execution_count": 11,
   "metadata": {
    "colab": {
     "base_uri": "https://localhost:8080/",
     "height": 34
    },
    "colab_type": "code",
    "id": "6TWE8h-ygC-V",
    "outputId": "2cadc552-ebb0-4528-92b8-f47f9ea92390"
   },
   "outputs": [
    {
     "data": {
      "text/plain": [
       "True"
      ]
     },
     "execution_count": 11,
     "metadata": {},
     "output_type": "execute_result"
    }
   ],
   "source": [
    "x.requires_grad"
   ]
  },
  {
   "cell_type": "code",
   "execution_count": 12,
   "metadata": {
    "colab": {
     "base_uri": "https://localhost:8080/",
     "height": 188
    },
    "colab_type": "code",
    "id": "gACeHMOegC-W",
    "outputId": "1259d764-2d47-44cb-ead9-20ebfc7d618d"
   },
   "outputs": [
    {
     "name": "stdout",
     "output_type": "stream",
     "text": [
      "tensor([[3., 3.],\n",
      "        [3., 3.]], grad_fn=<AddBackward0>)\n"
     ]
    },
    {
     "data": {
      "image/svg+xml": [
       "<?xml version=\"1.0\" encoding=\"UTF-8\" standalone=\"no\"?>\r\n",
       "<!DOCTYPE svg PUBLIC \"-//W3C//DTD SVG 1.1//EN\"\r\n",
       " \"http://www.w3.org/Graphics/SVG/1.1/DTD/svg11.dtd\">\r\n",
       "<!-- Generated by graphviz version 2.38.0 (20140413.2041)\r\n",
       " -->\r\n",
       "<!-- Title: %3 Pages: 1 -->\r\n",
       "<svg width=\"98pt\" height=\"100pt\"\r\n",
       " viewBox=\"0.00 0.00 98.00 100.00\" xmlns=\"http://www.w3.org/2000/svg\" xmlns:xlink=\"http://www.w3.org/1999/xlink\">\r\n",
       "<g id=\"graph0\" class=\"graph\" transform=\"scale(1 1) rotate(0) translate(4 96)\">\r\n",
       "<title>%3</title>\r\n",
       "<polygon fill=\"white\" stroke=\"none\" points=\"-4,4 -4,-96 94,-96 94,4 -4,4\"/>\r\n",
       "<!-- 2190474634632 -->\r\n",
       "<g id=\"node1\" class=\"node\"><title>2190474634632</title>\r\n",
       "<polygon fill=\"#caff70\" stroke=\"black\" points=\"90,-21 0,-21 0,-0 90,-0 90,-21\"/>\r\n",
       "<text text-anchor=\"middle\" x=\"45\" y=\"-7.4\" font-family=\"Times New Roman,serif\" font-size=\"12.00\">AddBackward0</text>\r\n",
       "</g>\r\n",
       "<!-- 2192505860936 -->\r\n",
       "<g id=\"node2\" class=\"node\"><title>2192505860936</title>\r\n",
       "<polygon fill=\"lightblue\" stroke=\"black\" points=\"72,-92 18,-92 18,-57 72,-57 72,-92\"/>\r\n",
       "<text text-anchor=\"middle\" x=\"45\" y=\"-64.4\" font-family=\"Times New Roman,serif\" font-size=\"12.00\"> (2, 2)</text>\r\n",
       "</g>\r\n",
       "<!-- 2192505860936&#45;&gt;2190474634632 -->\r\n",
       "<g id=\"edge1\" class=\"edge\"><title>2192505860936&#45;&gt;2190474634632</title>\r\n",
       "<path fill=\"none\" stroke=\"black\" d=\"M45,-56.8851C45,-48.9939 45,-39.5046 45,-31.2477\"/>\r\n",
       "<polygon fill=\"black\" stroke=\"black\" points=\"48.5001,-31.0177 45,-21.0178 41.5001,-31.0178 48.5001,-31.0177\"/>\r\n",
       "</g>\r\n",
       "</g>\r\n",
       "</svg>\r\n"
      ],
      "text/plain": [
       "<graphviz.dot.Digraph at 0x1fe0275d6c8>"
      ]
     },
     "execution_count": 12,
     "metadata": {},
     "output_type": "execute_result"
    }
   ],
   "source": [
    "y = x + 2\n",
    "print(y)\n",
    "torchviz.make_dot(y)"
   ]
  },
  {
   "cell_type": "markdown",
   "metadata": {
    "colab_type": "text",
    "id": "GnSYGWNcgC-W"
   },
   "source": [
    "**Broadcasting**\n",
    "\n",
    "Recall: Broadcasting **automatically** expands dimensions by replicating coefficients, when it is necessary to perform operations.\n",
    "\n",
    "1. If one of the tensors has fewer dimensions than the other, it is reshaped by adding as many dimensions of size 1 as necessary in the front; then\n",
    "2. for every mismatch, if one of the two tensor is of size one, it is expanded along this axis by replicating  coefficients.\n",
    "\n",
    "If there is a tensor size mismatch for one of the dimension and neither of them is one, the operation fails."
   ]
  },
  {
   "cell_type": "code",
   "execution_count": 13,
   "metadata": {
    "colab": {
     "base_uri": "https://localhost:8080/",
     "height": 204
    },
    "colab_type": "code",
    "id": "2CtszgyZgC-X",
    "outputId": "d098f7d8-d942-4b50-92da-6500a603c5e8"
   },
   "outputs": [
    {
     "name": "stdout",
     "output_type": "stream",
     "text": [
      "torch.Size([4, 1])\n",
      "tensor([[1.],\n",
      "        [2.],\n",
      "        [3.],\n",
      "        [4.]])\n",
      "torch.Size([1, 5])\n",
      "tensor([[ 5., -5.,  5., -5.,  5.]])\n",
      "tensor([[ 6., -4.,  6., -4.,  6.],\n",
      "        [ 7., -3.,  7., -3.,  7.],\n",
      "        [ 8., -2.,  8., -2.,  8.],\n",
      "        [ 9., -1.,  9., -1.,  9.]])\n"
     ]
    }
   ],
   "source": [
    "A = torch.tensor([[1.], [2.], [3.], [4.]])\n",
    "print(A.size())\n",
    "print(A)\n",
    "B = torch.tensor([[5., -5., 5., -5., 5.]])\n",
    "print(B.size())\n",
    "print(B)\n",
    "C = A + B\n",
    "print(C)"
   ]
  },
  {
   "cell_type": "markdown",
   "metadata": {
    "colab_type": "text",
    "id": "cVCkQQeRgC-Y"
   },
   "source": [
    "Back to Autograd!"
   ]
  },
  {
   "cell_type": "code",
   "execution_count": 14,
   "metadata": {
    "colab": {
     "base_uri": "https://localhost:8080/",
     "height": 51
    },
    "colab_type": "code",
    "id": "hja6OM24gC-b",
    "outputId": "f1a7aeb9-34d3-4cda-fc7f-97e651076d97"
   },
   "outputs": [
    {
     "name": "stdout",
     "output_type": "stream",
     "text": [
      "tensor([[3., 3.],\n",
      "        [3., 3.]], grad_fn=<AddBackward0>)\n"
     ]
    }
   ],
   "source": [
    "x = torch.ones(2, 2)\n",
    "x.requires_grad_(True)\n",
    "y = x+2\n",
    "print(y)"
   ]
  },
  {
   "cell_type": "code",
   "execution_count": 15,
   "metadata": {
    "colab": {
     "base_uri": "https://localhost:8080/",
     "height": 34
    },
    "colab_type": "code",
    "id": "NI3ikwlogC-Y",
    "outputId": "c3c98c40-7af6-4e22-9f1a-b4430bfec6ed"
   },
   "outputs": [
    {
     "data": {
      "text/plain": [
       "True"
      ]
     },
     "execution_count": 15,
     "metadata": {},
     "output_type": "execute_result"
    }
   ],
   "source": [
    "y.requires_grad"
   ]
  },
  {
   "cell_type": "markdown",
   "metadata": {
    "colab_type": "text",
    "id": "w5XJD5O13vPw"
   },
   "source": [
    "Tensor and Function are interconnected and build up an acyclic graph, that encodes a complete history of computation. \n",
    "\n",
    "Each tensor has a .grad_fn attribute that references a Function that has created the Tensor (except for Tensors created by the user - their grad_fn is None)."
   ]
  },
  {
   "cell_type": "code",
   "execution_count": 16,
   "metadata": {
    "colab": {
     "base_uri": "https://localhost:8080/",
     "height": 256
    },
    "colab_type": "code",
    "id": "EOt8d0S0gC-Z",
    "outputId": "6726f680-f994-4172-b43f-ff35822b9527"
   },
   "outputs": [
    {
     "name": "stdout",
     "output_type": "stream",
     "text": [
      "tensor([[1., 1.],\n",
      "        [1., 1.]], requires_grad=True)\n",
      "None\n",
      "tensor([[3., 3.],\n",
      "        [3., 3.]], grad_fn=<AddBackward0>)\n",
      "<AddBackward0 object at 0x000001FE027744C8>\n"
     ]
    },
    {
     "data": {
      "image/svg+xml": [
       "<?xml version=\"1.0\" encoding=\"UTF-8\" standalone=\"no\"?>\r\n",
       "<!DOCTYPE svg PUBLIC \"-//W3C//DTD SVG 1.1//EN\"\r\n",
       " \"http://www.w3.org/Graphics/SVG/1.1/DTD/svg11.dtd\">\r\n",
       "<!-- Generated by graphviz version 2.38.0 (20140413.2041)\r\n",
       " -->\r\n",
       "<!-- Title: %3 Pages: 1 -->\r\n",
       "<svg width=\"98pt\" height=\"100pt\"\r\n",
       " viewBox=\"0.00 0.00 98.00 100.00\" xmlns=\"http://www.w3.org/2000/svg\" xmlns:xlink=\"http://www.w3.org/1999/xlink\">\r\n",
       "<g id=\"graph0\" class=\"graph\" transform=\"scale(1 1) rotate(0) translate(4 96)\">\r\n",
       "<title>%3</title>\r\n",
       "<polygon fill=\"white\" stroke=\"none\" points=\"-4,4 -4,-96 94,-96 94,4 -4,4\"/>\r\n",
       "<!-- 2190474691848 -->\r\n",
       "<g id=\"node1\" class=\"node\"><title>2190474691848</title>\r\n",
       "<polygon fill=\"#caff70\" stroke=\"black\" points=\"90,-21 0,-21 0,-0 90,-0 90,-21\"/>\r\n",
       "<text text-anchor=\"middle\" x=\"45\" y=\"-7.4\" font-family=\"Times New Roman,serif\" font-size=\"12.00\">AddBackward0</text>\r\n",
       "</g>\r\n",
       "<!-- 2190474693320 -->\r\n",
       "<g id=\"node2\" class=\"node\"><title>2190474693320</title>\r\n",
       "<polygon fill=\"lightblue\" stroke=\"black\" points=\"72,-92 18,-92 18,-57 72,-57 72,-92\"/>\r\n",
       "<text text-anchor=\"middle\" x=\"45\" y=\"-64.4\" font-family=\"Times New Roman,serif\" font-size=\"12.00\"> (2, 2)</text>\r\n",
       "</g>\r\n",
       "<!-- 2190474693320&#45;&gt;2190474691848 -->\r\n",
       "<g id=\"edge1\" class=\"edge\"><title>2190474693320&#45;&gt;2190474691848</title>\r\n",
       "<path fill=\"none\" stroke=\"black\" d=\"M45,-56.8851C45,-48.9939 45,-39.5046 45,-31.2477\"/>\r\n",
       "<polygon fill=\"black\" stroke=\"black\" points=\"48.5001,-31.0177 45,-21.0178 41.5001,-31.0178 48.5001,-31.0177\"/>\r\n",
       "</g>\r\n",
       "</g>\r\n",
       "</svg>\r\n"
      ],
      "text/plain": [
       "<graphviz.dot.Digraph at 0x1fe02774108>"
      ]
     },
     "execution_count": 16,
     "metadata": {},
     "output_type": "execute_result"
    }
   ],
   "source": [
    "print(x)\n",
    "print(x.grad_fn)\n",
    "print(y)\n",
    "print(y.grad_fn)\n",
    "torchviz.make_dot(y) "
   ]
  },
  {
   "cell_type": "code",
   "execution_count": 17,
   "metadata": {
    "colab": {
     "base_uri": "https://localhost:8080/",
     "height": 340
    },
    "colab_type": "code",
    "id": "x5vVEet32cC_",
    "outputId": "bba2f76a-2a29-4705-9a8b-73ce645e562c"
   },
   "outputs": [
    {
     "name": "stdout",
     "output_type": "stream",
     "text": [
      "tensor([[27., 27.],\n",
      "        [27., 27.]], grad_fn=<MulBackward0>)\n"
     ]
    },
    {
     "data": {
      "image/svg+xml": [
       "<?xml version=\"1.0\" encoding=\"UTF-8\" standalone=\"no\"?>\r\n",
       "<!DOCTYPE svg PUBLIC \"-//W3C//DTD SVG 1.1//EN\"\r\n",
       " \"http://www.w3.org/Graphics/SVG/1.1/DTD/svg11.dtd\">\r\n",
       "<!-- Generated by graphviz version 2.38.0 (20140413.2041)\r\n",
       " -->\r\n",
       "<!-- Title: %3 Pages: 1 -->\r\n",
       "<svg width=\"98pt\" height=\"214pt\"\r\n",
       " viewBox=\"0.00 0.00 98.00 214.00\" xmlns=\"http://www.w3.org/2000/svg\" xmlns:xlink=\"http://www.w3.org/1999/xlink\">\r\n",
       "<g id=\"graph0\" class=\"graph\" transform=\"scale(1 1) rotate(0) translate(4 210)\">\r\n",
       "<title>%3</title>\r\n",
       "<polygon fill=\"white\" stroke=\"none\" points=\"-4,4 -4,-210 94,-210 94,4 -4,4\"/>\r\n",
       "<!-- 2190474689416 -->\r\n",
       "<g id=\"node1\" class=\"node\"><title>2190474689416</title>\r\n",
       "<polygon fill=\"#caff70\" stroke=\"black\" points=\"89,-21 1,-21 1,-0 89,-0 89,-21\"/>\r\n",
       "<text text-anchor=\"middle\" x=\"45\" y=\"-7.4\" font-family=\"Times New Roman,serif\" font-size=\"12.00\">MulBackward0</text>\r\n",
       "</g>\r\n",
       "<!-- 2190474688584 -->\r\n",
       "<g id=\"node2\" class=\"node\"><title>2190474688584</title>\r\n",
       "<polygon fill=\"lightgrey\" stroke=\"black\" points=\"89,-78 1,-78 1,-57 89,-57 89,-78\"/>\r\n",
       "<text text-anchor=\"middle\" x=\"45\" y=\"-64.4\" font-family=\"Times New Roman,serif\" font-size=\"12.00\">MulBackward0</text>\r\n",
       "</g>\r\n",
       "<!-- 2190474688584&#45;&gt;2190474689416 -->\r\n",
       "<g id=\"edge1\" class=\"edge\"><title>2190474688584&#45;&gt;2190474689416</title>\r\n",
       "<path fill=\"none\" stroke=\"black\" d=\"M45,-56.9197C45,-49.9083 45,-40.1442 45,-31.4652\"/>\r\n",
       "<polygon fill=\"black\" stroke=\"black\" points=\"48.5001,-31.3408 45,-21.3408 41.5001,-31.3409 48.5001,-31.3408\"/>\r\n",
       "</g>\r\n",
       "<!-- 2190474691848 -->\r\n",
       "<g id=\"node3\" class=\"node\"><title>2190474691848</title>\r\n",
       "<polygon fill=\"lightgrey\" stroke=\"black\" points=\"90,-135 0,-135 0,-114 90,-114 90,-135\"/>\r\n",
       "<text text-anchor=\"middle\" x=\"45\" y=\"-121.4\" font-family=\"Times New Roman,serif\" font-size=\"12.00\">AddBackward0</text>\r\n",
       "</g>\r\n",
       "<!-- 2190474691848&#45;&gt;2190474688584 -->\r\n",
       "<g id=\"edge2\" class=\"edge\"><title>2190474691848&#45;&gt;2190474688584</title>\r\n",
       "<path fill=\"none\" stroke=\"black\" d=\"M39.7332,-113.92C38.3546,-106.908 37.9371,-97.1442 38.4804,-88.4652\"/>\r\n",
       "<polygon fill=\"black\" stroke=\"black\" points=\"41.979,-88.6838 39.6826,-78.3408 35.0278,-87.8583 41.979,-88.6838\"/>\r\n",
       "</g>\r\n",
       "<!-- 2190474691848&#45;&gt;2190474688584 -->\r\n",
       "<g id=\"edge4\" class=\"edge\"><title>2190474691848&#45;&gt;2190474688584</title>\r\n",
       "<path fill=\"none\" stroke=\"black\" d=\"M50.2668,-113.92C51.6454,-106.908 52.0629,-97.1442 51.5196,-88.4652\"/>\r\n",
       "<polygon fill=\"black\" stroke=\"black\" points=\"54.9722,-87.8583 50.3174,-78.3408 48.021,-88.6838 54.9722,-87.8583\"/>\r\n",
       "</g>\r\n",
       "<!-- 2190474693320 -->\r\n",
       "<g id=\"node4\" class=\"node\"><title>2190474693320</title>\r\n",
       "<polygon fill=\"lightblue\" stroke=\"black\" points=\"72,-206 18,-206 18,-171 72,-171 72,-206\"/>\r\n",
       "<text text-anchor=\"middle\" x=\"45\" y=\"-178.4\" font-family=\"Times New Roman,serif\" font-size=\"12.00\"> (2, 2)</text>\r\n",
       "</g>\r\n",
       "<!-- 2190474693320&#45;&gt;2190474691848 -->\r\n",
       "<g id=\"edge3\" class=\"edge\"><title>2190474693320&#45;&gt;2190474691848</title>\r\n",
       "<path fill=\"none\" stroke=\"black\" d=\"M45,-170.885C45,-162.994 45,-153.505 45,-145.248\"/>\r\n",
       "<polygon fill=\"black\" stroke=\"black\" points=\"48.5001,-145.018 45,-135.018 41.5001,-145.018 48.5001,-145.018\"/>\r\n",
       "</g>\r\n",
       "</g>\r\n",
       "</svg>\r\n"
      ],
      "text/plain": [
       "<graphviz.dot.Digraph at 0x1fe0276f448>"
      ]
     },
     "execution_count": 17,
     "metadata": {},
     "output_type": "execute_result"
    }
   ],
   "source": [
    "z = y * y * 3\n",
    "print(z)\n",
    "torchviz.make_dot(z) "
   ]
  },
  {
   "cell_type": "code",
   "execution_count": 18,
   "metadata": {
    "colab": {
     "base_uri": "https://localhost:8080/",
     "height": 399
    },
    "colab_type": "code",
    "id": "kQlr3Z-HgC-b",
    "outputId": "a7bca083-a385-491f-8000-d95df00faaf2"
   },
   "outputs": [
    {
     "name": "stdout",
     "output_type": "stream",
     "text": [
      "tensor(27., grad_fn=<MeanBackward0>)\n"
     ]
    },
    {
     "data": {
      "image/svg+xml": [
       "<?xml version=\"1.0\" encoding=\"UTF-8\" standalone=\"no\"?>\r\n",
       "<!DOCTYPE svg PUBLIC \"-//W3C//DTD SVG 1.1//EN\"\r\n",
       " \"http://www.w3.org/Graphics/SVG/1.1/DTD/svg11.dtd\">\r\n",
       "<!-- Generated by graphviz version 2.38.0 (20140413.2041)\r\n",
       " -->\r\n",
       "<!-- Title: %3 Pages: 1 -->\r\n",
       "<svg width=\"104pt\" height=\"271pt\"\r\n",
       " viewBox=\"0.00 0.00 104.00 271.00\" xmlns=\"http://www.w3.org/2000/svg\" xmlns:xlink=\"http://www.w3.org/1999/xlink\">\r\n",
       "<g id=\"graph0\" class=\"graph\" transform=\"scale(1 1) rotate(0) translate(4 267)\">\r\n",
       "<title>%3</title>\r\n",
       "<polygon fill=\"white\" stroke=\"none\" points=\"-4,4 -4,-267 100,-267 100,4 -4,4\"/>\r\n",
       "<!-- 2190474600072 -->\r\n",
       "<g id=\"node1\" class=\"node\"><title>2190474600072</title>\r\n",
       "<polygon fill=\"#caff70\" stroke=\"black\" points=\"96,-21 0,-21 0,-0 96,-0 96,-21\"/>\r\n",
       "<text text-anchor=\"middle\" x=\"48\" y=\"-7.4\" font-family=\"Times New Roman,serif\" font-size=\"12.00\">MeanBackward0</text>\r\n",
       "</g>\r\n",
       "<!-- 2190474689416 -->\r\n",
       "<g id=\"node2\" class=\"node\"><title>2190474689416</title>\r\n",
       "<polygon fill=\"lightgrey\" stroke=\"black\" points=\"92,-78 4,-78 4,-57 92,-57 92,-78\"/>\r\n",
       "<text text-anchor=\"middle\" x=\"48\" y=\"-64.4\" font-family=\"Times New Roman,serif\" font-size=\"12.00\">MulBackward0</text>\r\n",
       "</g>\r\n",
       "<!-- 2190474689416&#45;&gt;2190474600072 -->\r\n",
       "<g id=\"edge1\" class=\"edge\"><title>2190474689416&#45;&gt;2190474600072</title>\r\n",
       "<path fill=\"none\" stroke=\"black\" d=\"M48,-56.9197C48,-49.9083 48,-40.1442 48,-31.4652\"/>\r\n",
       "<polygon fill=\"black\" stroke=\"black\" points=\"51.5001,-31.3408 48,-21.3408 44.5001,-31.3409 51.5001,-31.3408\"/>\r\n",
       "</g>\r\n",
       "<!-- 2190474688584 -->\r\n",
       "<g id=\"node3\" class=\"node\"><title>2190474688584</title>\r\n",
       "<polygon fill=\"lightgrey\" stroke=\"black\" points=\"92,-135 4,-135 4,-114 92,-114 92,-135\"/>\r\n",
       "<text text-anchor=\"middle\" x=\"48\" y=\"-121.4\" font-family=\"Times New Roman,serif\" font-size=\"12.00\">MulBackward0</text>\r\n",
       "</g>\r\n",
       "<!-- 2190474688584&#45;&gt;2190474689416 -->\r\n",
       "<g id=\"edge2\" class=\"edge\"><title>2190474688584&#45;&gt;2190474689416</title>\r\n",
       "<path fill=\"none\" stroke=\"black\" d=\"M48,-113.92C48,-106.908 48,-97.1442 48,-88.4652\"/>\r\n",
       "<polygon fill=\"black\" stroke=\"black\" points=\"51.5001,-88.3408 48,-78.3408 44.5001,-88.3409 51.5001,-88.3408\"/>\r\n",
       "</g>\r\n",
       "<!-- 2190474691848 -->\r\n",
       "<g id=\"node4\" class=\"node\"><title>2190474691848</title>\r\n",
       "<polygon fill=\"lightgrey\" stroke=\"black\" points=\"93,-192 3,-192 3,-171 93,-171 93,-192\"/>\r\n",
       "<text text-anchor=\"middle\" x=\"48\" y=\"-178.4\" font-family=\"Times New Roman,serif\" font-size=\"12.00\">AddBackward0</text>\r\n",
       "</g>\r\n",
       "<!-- 2190474691848&#45;&gt;2190474688584 -->\r\n",
       "<g id=\"edge3\" class=\"edge\"><title>2190474691848&#45;&gt;2190474688584</title>\r\n",
       "<path fill=\"none\" stroke=\"black\" d=\"M42.7332,-170.92C41.3546,-163.908 40.9371,-154.144 41.4804,-145.465\"/>\r\n",
       "<polygon fill=\"black\" stroke=\"black\" points=\"44.979,-145.684 42.6826,-135.341 38.0278,-144.858 44.979,-145.684\"/>\r\n",
       "</g>\r\n",
       "<!-- 2190474691848&#45;&gt;2190474688584 -->\r\n",
       "<g id=\"edge5\" class=\"edge\"><title>2190474691848&#45;&gt;2190474688584</title>\r\n",
       "<path fill=\"none\" stroke=\"black\" d=\"M53.2668,-170.92C54.6454,-163.908 55.0629,-154.144 54.5196,-145.465\"/>\r\n",
       "<polygon fill=\"black\" stroke=\"black\" points=\"57.9722,-144.858 53.3174,-135.341 51.021,-145.684 57.9722,-144.858\"/>\r\n",
       "</g>\r\n",
       "<!-- 2190474693320 -->\r\n",
       "<g id=\"node5\" class=\"node\"><title>2190474693320</title>\r\n",
       "<polygon fill=\"lightblue\" stroke=\"black\" points=\"75,-263 21,-263 21,-228 75,-228 75,-263\"/>\r\n",
       "<text text-anchor=\"middle\" x=\"48\" y=\"-235.4\" font-family=\"Times New Roman,serif\" font-size=\"12.00\"> (2, 2)</text>\r\n",
       "</g>\r\n",
       "<!-- 2190474693320&#45;&gt;2190474691848 -->\r\n",
       "<g id=\"edge4\" class=\"edge\"><title>2190474693320&#45;&gt;2190474691848</title>\r\n",
       "<path fill=\"none\" stroke=\"black\" d=\"M48,-227.885C48,-219.994 48,-210.505 48,-202.248\"/>\r\n",
       "<polygon fill=\"black\" stroke=\"black\" points=\"51.5001,-202.018 48,-192.018 44.5001,-202.018 51.5001,-202.018\"/>\r\n",
       "</g>\r\n",
       "</g>\r\n",
       "</svg>\r\n"
      ],
      "text/plain": [
       "<graphviz.dot.Digraph at 0x1fe0275d3c8>"
      ]
     },
     "execution_count": 18,
     "metadata": {},
     "output_type": "execute_result"
    }
   ],
   "source": [
    "out = z.mean()\n",
    "print(out)\n",
    "torchviz.make_dot(out) "
   ]
  },
  {
   "cell_type": "markdown",
   "metadata": {
    "colab_type": "text",
    "id": "mrBx5oslgC-c"
   },
   "source": [
    "After the computation is finished, i.e. _forward pass_, you can call ```.backward()``` and have all the gradients computed automatically."
   ]
  },
  {
   "cell_type": "code",
   "execution_count": 19,
   "metadata": {
    "colab": {},
    "colab_type": "code",
    "id": "g5AzQ3qV5oti"
   },
   "outputs": [],
   "source": [
    "out.backward()"
   ]
  },
  {
   "cell_type": "markdown",
   "metadata": {
    "colab_type": "text",
    "id": "niaze4W4gC-d"
   },
   "source": [
    "The gradients w.r.t. this variable is accumulated into ```.grad```."
   ]
  },
  {
   "cell_type": "code",
   "execution_count": 20,
   "metadata": {
    "colab": {
     "base_uri": "https://localhost:8080/",
     "height": 51
    },
    "colab_type": "code",
    "id": "OiDnd1jXgC-d",
    "outputId": "f3c75122-87bc-49dc-9f4c-02c7a9edd02b"
   },
   "outputs": [
    {
     "name": "stdout",
     "output_type": "stream",
     "text": [
      "tensor([[4.5000, 4.5000],\n",
      "        [4.5000, 4.5000]])\n"
     ]
    }
   ],
   "source": [
    "print(x.grad)"
   ]
  },
  {
   "cell_type": "markdown",
   "metadata": {
    "colab_type": "text",
    "id": "7kJrfEsF29yh"
   },
   "source": [
    "### Question: Explain mathematically the value of \"x.grad\"\n"
   ]
  },
  {
   "cell_type": "markdown",
   "metadata": {
    "colab_type": "text",
    "id": "UwJCU8Uo4ZvD"
   },
   "source": [
    "[Why can I not see .grad of an intermediate variable?](https://discuss.pytorch.org/t/why-cant-i-see-grad-of-an-intermediate-variable/94)\n",
    "\n",
    "Gradients are only retained for leaf variables. \n",
    "\n",
    "Non-leaf variables’ gradients are not retained to be inspected later. This was done by design, to save memory."
   ]
  },
  {
   "cell_type": "code",
   "execution_count": 21,
   "metadata": {
    "colab": {
     "base_uri": "https://localhost:8080/",
     "height": 51
    },
    "colab_type": "code",
    "id": "16KkidoigC-e",
    "outputId": "e065d7eb-d702-4312-f038-789745d3859b"
   },
   "outputs": [
    {
     "name": "stdout",
     "output_type": "stream",
     "text": [
      "None\n",
      "None\n"
     ]
    }
   ],
   "source": [
    "print(y.grad)\n",
    "print(out.grad)"
   ]
  },
  {
   "cell_type": "code",
   "execution_count": 22,
   "metadata": {
    "colab": {
     "base_uri": "https://localhost:8080/",
     "height": 433
    },
    "colab_type": "code",
    "id": "YSb96GMy5IdW",
    "outputId": "359b31a9-815b-4fcc-9db3-892c712446e4"
   },
   "outputs": [
    {
     "name": "stdout",
     "output_type": "stream",
     "text": [
      "tensor([[2., 2.],\n",
      "        [2., 2.]])\n",
      "tensor(10., grad_fn=<MeanBackward0>)\n"
     ]
    },
    {
     "data": {
      "image/svg+xml": [
       "<?xml version=\"1.0\" encoding=\"UTF-8\" standalone=\"no\"?>\r\n",
       "<!DOCTYPE svg PUBLIC \"-//W3C//DTD SVG 1.1//EN\"\r\n",
       " \"http://www.w3.org/Graphics/SVG/1.1/DTD/svg11.dtd\">\r\n",
       "<!-- Generated by graphviz version 2.38.0 (20140413.2041)\r\n",
       " -->\r\n",
       "<!-- Title: %3 Pages: 1 -->\r\n",
       "<svg width=\"136pt\" height=\"271pt\"\r\n",
       " viewBox=\"0.00 0.00 136.00 271.00\" xmlns=\"http://www.w3.org/2000/svg\" xmlns:xlink=\"http://www.w3.org/1999/xlink\">\r\n",
       "<g id=\"graph0\" class=\"graph\" transform=\"scale(1 1) rotate(0) translate(4 267)\">\r\n",
       "<title>%3</title>\r\n",
       "<polygon fill=\"white\" stroke=\"none\" points=\"-4,4 -4,-267 132,-267 132,4 -4,4\"/>\r\n",
       "<!-- 2190474406472 -->\r\n",
       "<g id=\"node1\" class=\"node\"><title>2190474406472</title>\r\n",
       "<polygon fill=\"#caff70\" stroke=\"black\" points=\"96,-21 0,-21 0,-0 96,-0 96,-21\"/>\r\n",
       "<text text-anchor=\"middle\" x=\"48\" y=\"-7.4\" font-family=\"Times New Roman,serif\" font-size=\"12.00\">MeanBackward0</text>\r\n",
       "</g>\r\n",
       "<!-- 2190474736840 -->\r\n",
       "<g id=\"node2\" class=\"node\"><title>2190474736840</title>\r\n",
       "<polygon fill=\"lightgrey\" stroke=\"black\" points=\"93,-78 3,-78 3,-57 93,-57 93,-78\"/>\r\n",
       "<text text-anchor=\"middle\" x=\"48\" y=\"-64.4\" font-family=\"Times New Roman,serif\" font-size=\"12.00\">AddBackward0</text>\r\n",
       "</g>\r\n",
       "<!-- 2190474736840&#45;&gt;2190474406472 -->\r\n",
       "<g id=\"edge1\" class=\"edge\"><title>2190474736840&#45;&gt;2190474406472</title>\r\n",
       "<path fill=\"none\" stroke=\"black\" d=\"M48,-56.9197C48,-49.9083 48,-40.1442 48,-31.4652\"/>\r\n",
       "<polygon fill=\"black\" stroke=\"black\" points=\"51.5001,-31.3408 48,-21.3408 44.5001,-31.3409 51.5001,-31.3408\"/>\r\n",
       "</g>\r\n",
       "<!-- 2190474737160 -->\r\n",
       "<g id=\"node3\" class=\"node\"><title>2190474737160</title>\r\n",
       "<polygon fill=\"lightgrey\" stroke=\"black\" points=\"92,-135 4,-135 4,-114 92,-114 92,-135\"/>\r\n",
       "<text text-anchor=\"middle\" x=\"48\" y=\"-121.4\" font-family=\"Times New Roman,serif\" font-size=\"12.00\">MulBackward0</text>\r\n",
       "</g>\r\n",
       "<!-- 2190474737160&#45;&gt;2190474736840 -->\r\n",
       "<g id=\"edge2\" class=\"edge\"><title>2190474737160&#45;&gt;2190474736840</title>\r\n",
       "<path fill=\"none\" stroke=\"black\" d=\"M48,-113.92C48,-106.908 48,-97.1442 48,-88.4652\"/>\r\n",
       "<polygon fill=\"black\" stroke=\"black\" points=\"51.5001,-88.3408 48,-78.3408 44.5001,-88.3409 51.5001,-88.3408\"/>\r\n",
       "</g>\r\n",
       "<!-- 2190474736648 -->\r\n",
       "<g id=\"node4\" class=\"node\"><title>2190474736648</title>\r\n",
       "<polygon fill=\"lightgrey\" stroke=\"black\" points=\"128,-192 40,-192 40,-171 128,-171 128,-192\"/>\r\n",
       "<text text-anchor=\"middle\" x=\"84\" y=\"-178.4\" font-family=\"Times New Roman,serif\" font-size=\"12.00\">MulBackward0</text>\r\n",
       "</g>\r\n",
       "<!-- 2190474736648&#45;&gt;2190474737160 -->\r\n",
       "<g id=\"edge3\" class=\"edge\"><title>2190474736648&#45;&gt;2190474737160</title>\r\n",
       "<path fill=\"none\" stroke=\"black\" d=\"M77.7293,-170.92C72.834,-163.441 65.8888,-152.83 59.9422,-143.745\"/>\r\n",
       "<polygon fill=\"black\" stroke=\"black\" points=\"62.8464,-141.791 54.4413,-135.341 56.9894,-145.625 62.8464,-141.791\"/>\r\n",
       "</g>\r\n",
       "<!-- 2190474737032 -->\r\n",
       "<g id=\"node5\" class=\"node\"><title>2190474737032</title>\r\n",
       "<polygon fill=\"lightblue\" stroke=\"black\" points=\"111,-263 57,-263 57,-228 111,-228 111,-263\"/>\r\n",
       "<text text-anchor=\"middle\" x=\"84\" y=\"-235.4\" font-family=\"Times New Roman,serif\" font-size=\"12.00\"> (2, 2)</text>\r\n",
       "</g>\r\n",
       "<!-- 2190474737032&#45;&gt;2190474737160 -->\r\n",
       "<g id=\"edge6\" class=\"edge\"><title>2190474737032&#45;&gt;2190474737160</title>\r\n",
       "<path fill=\"none\" stroke=\"black\" d=\"M60.0834,-227.938C49.001,-218.777 36.9816,-206.345 31,-192 24.5047,-176.423 30.399,-157.729 36.9625,-144.133\"/>\r\n",
       "<polygon fill=\"black\" stroke=\"black\" points=\"40.0807,-145.724 41.6923,-135.252 33.9023,-142.433 40.0807,-145.724\"/>\r\n",
       "</g>\r\n",
       "<!-- 2190474737032&#45;&gt;2190474736648 -->\r\n",
       "<g id=\"edge4\" class=\"edge\"><title>2190474737032&#45;&gt;2190474736648</title>\r\n",
       "<path fill=\"none\" stroke=\"black\" d=\"M77.9426,-227.885C77.1155,-219.904 77.0292,-210.289 77.6836,-201.967\"/>\r\n",
       "<polygon fill=\"black\" stroke=\"black\" points=\"81.1587,-202.384 78.9706,-192.018 74.2165,-201.486 81.1587,-202.384\"/>\r\n",
       "</g>\r\n",
       "<!-- 2190474737032&#45;&gt;2190474736648 -->\r\n",
       "<g id=\"edge5\" class=\"edge\"><title>2190474737032&#45;&gt;2190474736648</title>\r\n",
       "<path fill=\"none\" stroke=\"black\" d=\"M90.0574,-227.885C90.8845,-219.904 90.9708,-210.289 90.3164,-201.967\"/>\r\n",
       "<polygon fill=\"black\" stroke=\"black\" points=\"93.7835,-201.486 89.0294,-192.018 86.8413,-202.384 93.7835,-201.486\"/>\r\n",
       "</g>\r\n",
       "</g>\r\n",
       "</svg>\r\n"
      ],
      "text/plain": [
       "<graphviz.dot.Digraph at 0x1fe0277ca88>"
      ]
     },
     "execution_count": 22,
     "metadata": {},
     "output_type": "execute_result"
    }
   ],
   "source": [
    "x = 2 * torch.ones(2, 2)\n",
    "print(x)\n",
    "x.requires_grad_(True)\n",
    "out = (x * x * x + 2 ).mean()\n",
    "print(out)\n",
    "torchviz.make_dot(out)"
   ]
  },
  {
   "cell_type": "code",
   "execution_count": 23,
   "metadata": {
    "colab": {},
    "colab_type": "code",
    "id": "AEPS2hMfgC-g"
   },
   "outputs": [],
   "source": [
    "out.backward(torch.tensor(2.0))"
   ]
  },
  {
   "cell_type": "markdown",
   "metadata": {
    "colab_type": "text",
    "id": "_uzoqTqP7H2H"
   },
   "source": [
    "### Question: Explain mathematically the value of \"x.grad\" in the following cell"
   ]
  },
  {
   "cell_type": "code",
   "execution_count": 24,
   "metadata": {
    "colab": {
     "base_uri": "https://localhost:8080/",
     "height": 51
    },
    "colab_type": "code",
    "id": "ngiu74HUgC-g",
    "outputId": "ea22f01f-784b-48a8-bd6a-7d519f87bf26"
   },
   "outputs": [
    {
     "name": "stdout",
     "output_type": "stream",
     "text": [
      "tensor([[6., 6.],\n",
      "        [6., 6.]])\n"
     ]
    }
   ],
   "source": [
    "print(x.grad)"
   ]
  },
  {
   "cell_type": "markdown",
   "metadata": {
    "colab_type": "text",
    "id": "ypBdAAq29Jcm"
   },
   "source": [
    "## How to compute the gradient when I want?\n",
    "\n"
   ]
  },
  {
   "cell_type": "code",
   "execution_count": 25,
   "metadata": {
    "colab": {
     "base_uri": "https://localhost:8080/",
     "height": 51
    },
    "colab_type": "code",
    "id": "0QxJzcmqgC-h",
    "outputId": "b1d7a688-3938-446f-d8c6-424046c76eee"
   },
   "outputs": [
    {
     "name": "stdout",
     "output_type": "stream",
     "text": [
      "tensor([[4.5000, 4.5000],\n",
      "        [4.5000, 4.5000]])\n"
     ]
    }
   ],
   "source": [
    "x = torch.ones(2, 2)\n",
    "x.requires_grad_(True)\n",
    "y = x+2\n",
    "z = 3 * y ** 2 \n",
    "out = z.mean()\n",
    "\n",
    "out.backward(retain_graph=True)\n",
    "\n",
    "print(x.grad)"
   ]
  },
  {
   "cell_type": "markdown",
   "metadata": {
    "colab_type": "text",
    "id": "UPWKUoHo9rwC"
   },
   "source": [
    "Calling again the \"backward\" process does not launch an error"
   ]
  },
  {
   "cell_type": "code",
   "execution_count": 26,
   "metadata": {
    "colab": {},
    "colab_type": "code",
    "id": "SNbrrv30gC-l"
   },
   "outputs": [],
   "source": [
    "out.backward(retain_graph=True)"
   ]
  },
  {
   "cell_type": "code",
   "execution_count": 27,
   "metadata": {
    "colab": {
     "base_uri": "https://localhost:8080/",
     "height": 51
    },
    "colab_type": "code",
    "id": "20hB_GAkgC-i",
    "outputId": "7acb53dc-3969-451f-d50d-61953bf48a33"
   },
   "outputs": [
    {
     "name": "stdout",
     "output_type": "stream",
     "text": [
      "tensor([[9., 9.],\n",
      "        [9., 9.]])\n"
     ]
    }
   ],
   "source": [
    "print(x.grad)"
   ]
  },
  {
   "cell_type": "code",
   "execution_count": 28,
   "metadata": {
    "colab": {
     "base_uri": "https://localhost:8080/",
     "height": 34
    },
    "colab_type": "code",
    "id": "gXuFJckx-FFf",
    "outputId": "7fbdab3e-642a-46e8-d60d-4c5ed2487a41"
   },
   "outputs": [
    {
     "data": {
      "text/plain": [
       "(tensor(1.),)"
      ]
     },
     "execution_count": 28,
     "metadata": {},
     "output_type": "execute_result"
    }
   ],
   "source": [
    "torch.autograd.grad(out, out, retain_graph=True)"
   ]
  },
  {
   "cell_type": "code",
   "execution_count": 29,
   "metadata": {
    "colab": {
     "base_uri": "https://localhost:8080/",
     "height": 51
    },
    "colab_type": "code",
    "id": "swHcxn-CgC-j",
    "outputId": "eb0cb90c-1191-4564-f640-c7d83cd8e626"
   },
   "outputs": [
    {
     "data": {
      "text/plain": [
       "(tensor([[0.2500, 0.2500],\n",
       "         [0.2500, 0.2500]]),)"
      ]
     },
     "execution_count": 29,
     "metadata": {},
     "output_type": "execute_result"
    }
   ],
   "source": [
    "torch.autograd.grad(out, z, retain_graph=True)"
   ]
  },
  {
   "cell_type": "code",
   "execution_count": 30,
   "metadata": {
    "colab": {
     "base_uri": "https://localhost:8080/",
     "height": 51
    },
    "colab_type": "code",
    "id": "M_Ko7_y1gC-k",
    "outputId": "90e99f9a-fe4b-4a89-fd12-b7d3523e2767"
   },
   "outputs": [
    {
     "data": {
      "text/plain": [
       "(tensor([[4.5000, 4.5000],\n",
       "         [4.5000, 4.5000]]),)"
      ]
     },
     "execution_count": 30,
     "metadata": {},
     "output_type": "execute_result"
    }
   ],
   "source": [
    "torch.autograd.grad(out, y, retain_graph=True)"
   ]
  },
  {
   "cell_type": "code",
   "execution_count": 31,
   "metadata": {
    "colab": {},
    "colab_type": "code",
    "id": "OvjmLzDAgC-m"
   },
   "outputs": [],
   "source": [
    "out.backward(torch.tensor(2.0), retain_graph=True)"
   ]
  },
  {
   "cell_type": "code",
   "execution_count": 32,
   "metadata": {
    "colab": {
     "base_uri": "https://localhost:8080/",
     "height": 51
    },
    "colab_type": "code",
    "id": "gctEXtYhgC-n",
    "outputId": "bdabe9bf-b35b-44dc-9236-0cac90ec6fc9"
   },
   "outputs": [
    {
     "name": "stdout",
     "output_type": "stream",
     "text": [
      "tensor([[18., 18.],\n",
      "        [18., 18.]])\n"
     ]
    }
   ],
   "source": [
    "print(x.grad)"
   ]
  },
  {
   "cell_type": "markdown",
   "metadata": {
    "colab_type": "text",
    "id": "vBtNQ8By_Aao"
   },
   "source": [
    "## A last example"
   ]
  },
  {
   "cell_type": "code",
   "execution_count": 33,
   "metadata": {
    "colab": {
     "base_uri": "https://localhost:8080/",
     "height": 323
    },
    "colab_type": "code",
    "id": "Q_gpAR_6l_BC",
    "outputId": "fec5c99f-6e46-4435-eada-c458327ca290"
   },
   "outputs": [
    {
     "name": "stdout",
     "output_type": "stream",
     "text": [
      "tensor([5., 5., 5., 5., 5., 5., 5., 5., 5., 5.])\n"
     ]
    },
    {
     "data": {
      "image/svg+xml": [
       "<?xml version=\"1.0\" encoding=\"UTF-8\" standalone=\"no\"?>\r\n",
       "<!DOCTYPE svg PUBLIC \"-//W3C//DTD SVG 1.1//EN\"\r\n",
       " \"http://www.w3.org/Graphics/SVG/1.1/DTD/svg11.dtd\">\r\n",
       "<!-- Generated by graphviz version 2.38.0 (20140413.2041)\r\n",
       " -->\r\n",
       "<!-- Title: %3 Pages: 1 -->\r\n",
       "<svg width=\"208pt\" height=\"214pt\"\r\n",
       " viewBox=\"0.00 0.00 208.00 214.00\" xmlns=\"http://www.w3.org/2000/svg\" xmlns:xlink=\"http://www.w3.org/1999/xlink\">\r\n",
       "<g id=\"graph0\" class=\"graph\" transform=\"scale(1 1) rotate(0) translate(4 210)\">\r\n",
       "<title>%3</title>\r\n",
       "<polygon fill=\"white\" stroke=\"none\" points=\"-4,4 -4,-210 204,-210 204,4 -4,4\"/>\r\n",
       "<!-- 2190474737224 -->\r\n",
       "<g id=\"node1\" class=\"node\"><title>2190474737224</title>\r\n",
       "<polygon fill=\"#caff70\" stroke=\"black\" points=\"144.5,-21 54.5,-21 54.5,-0 144.5,-0 144.5,-21\"/>\r\n",
       "<text text-anchor=\"middle\" x=\"99.5\" y=\"-7.4\" font-family=\"Times New Roman,serif\" font-size=\"12.00\">SumBackward0</text>\r\n",
       "</g>\r\n",
       "<!-- 2190474803784 -->\r\n",
       "<g id=\"node2\" class=\"node\"><title>2190474803784</title>\r\n",
       "<polygon fill=\"lightgrey\" stroke=\"black\" points=\"144.5,-78 54.5,-78 54.5,-57 144.5,-57 144.5,-78\"/>\r\n",
       "<text text-anchor=\"middle\" x=\"99.5\" y=\"-64.4\" font-family=\"Times New Roman,serif\" font-size=\"12.00\">AddBackward0</text>\r\n",
       "</g>\r\n",
       "<!-- 2190474803784&#45;&gt;2190474737224 -->\r\n",
       "<g id=\"edge1\" class=\"edge\"><title>2190474803784&#45;&gt;2190474737224</title>\r\n",
       "<path fill=\"none\" stroke=\"black\" d=\"M99.5,-56.9197C99.5,-49.9083 99.5,-40.1442 99.5,-31.4652\"/>\r\n",
       "<polygon fill=\"black\" stroke=\"black\" points=\"103,-31.3408 99.5,-21.3408 96.0001,-31.3409 103,-31.3408\"/>\r\n",
       "</g>\r\n",
       "<!-- 2190474803720 -->\r\n",
       "<g id=\"node3\" class=\"node\"><title>2190474803720</title>\r\n",
       "<polygon fill=\"lightgrey\" stroke=\"black\" points=\"91,-135 0,-135 0,-114 91,-114 91,-135\"/>\r\n",
       "<text text-anchor=\"middle\" x=\"45.5\" y=\"-121.4\" font-family=\"Times New Roman,serif\" font-size=\"12.00\">PowBackward0</text>\r\n",
       "</g>\r\n",
       "<!-- 2190474803720&#45;&gt;2190474803784 -->\r\n",
       "<g id=\"edge2\" class=\"edge\"><title>2190474803720&#45;&gt;2190474803784</title>\r\n",
       "<path fill=\"none\" stroke=\"black\" d=\"M54.9061,-113.92C62.5549,-106.129 73.5403,-94.9405 82.6936,-85.6176\"/>\r\n",
       "<polygon fill=\"black\" stroke=\"black\" points=\"85.3296,-87.9286 89.8381,-78.3408 80.3347,-83.0244 85.3296,-87.9286\"/>\r\n",
       "</g>\r\n",
       "<!-- 2192506836040 -->\r\n",
       "<g id=\"node4\" class=\"node\"><title>2192506836040</title>\r\n",
       "<polygon fill=\"lightblue\" stroke=\"black\" points=\"126.5,-206 72.5,-206 72.5,-171 126.5,-171 126.5,-206\"/>\r\n",
       "<text text-anchor=\"middle\" x=\"99.5\" y=\"-178.4\" font-family=\"Times New Roman,serif\" font-size=\"12.00\"> (10)</text>\r\n",
       "</g>\r\n",
       "<!-- 2192506836040&#45;&gt;2190474803720 -->\r\n",
       "<g id=\"edge3\" class=\"edge\"><title>2192506836040&#45;&gt;2190474803720</title>\r\n",
       "<path fill=\"none\" stroke=\"black\" d=\"M85.029,-170.885C77.453,-162.187 68.186,-151.547 60.5294,-142.756\"/>\r\n",
       "<polygon fill=\"black\" stroke=\"black\" points=\"62.9968,-140.26 53.7897,-135.018 57.7182,-144.857 62.9968,-140.26\"/>\r\n",
       "</g>\r\n",
       "<!-- 2190474803848 -->\r\n",
       "<g id=\"node5\" class=\"node\"><title>2190474803848</title>\r\n",
       "<polygon fill=\"lightgrey\" stroke=\"black\" points=\"200,-135 109,-135 109,-114 200,-114 200,-135\"/>\r\n",
       "<text text-anchor=\"middle\" x=\"154.5\" y=\"-121.4\" font-family=\"Times New Roman,serif\" font-size=\"12.00\">PowBackward0</text>\r\n",
       "</g>\r\n",
       "<!-- 2192506836040&#45;&gt;2190474803848 -->\r\n",
       "<g id=\"edge5\" class=\"edge\"><title>2192506836040&#45;&gt;2190474803848</title>\r\n",
       "<path fill=\"none\" stroke=\"black\" d=\"M114.239,-170.885C121.955,-162.187 131.394,-151.547 139.192,-142.756\"/>\r\n",
       "<polygon fill=\"black\" stroke=\"black\" points=\"142.039,-144.821 146.057,-135.018 136.802,-140.176 142.039,-144.821\"/>\r\n",
       "</g>\r\n",
       "<!-- 2190474803848&#45;&gt;2190474803784 -->\r\n",
       "<g id=\"edge4\" class=\"edge\"><title>2190474803848&#45;&gt;2190474803784</title>\r\n",
       "<path fill=\"none\" stroke=\"black\" d=\"M144.92,-113.92C137.129,-106.129 125.94,-94.9405 116.618,-85.6176\"/>\r\n",
       "<polygon fill=\"black\" stroke=\"black\" points=\"118.887,-82.937 109.341,-78.3408 113.937,-87.8868 118.887,-82.937\"/>\r\n",
       "</g>\r\n",
       "</g>\r\n",
       "</svg>\r\n"
      ],
      "text/plain": [
       "<graphviz.dot.Digraph at 0x1fe02788d48>"
      ]
     },
     "execution_count": 33,
     "metadata": {},
     "output_type": "execute_result"
    }
   ],
   "source": [
    "x=torch.ones(10, requires_grad=True)\n",
    "\n",
    "y=x**2\n",
    "z=x**3\n",
    "r=(y+z).sum()\n",
    "\n",
    "r.backward()\n",
    "print(x.grad)\n",
    "torchviz.make_dot(r) "
   ]
  },
  {
   "cell_type": "markdown",
   "metadata": {
    "colab_type": "text",
    "id": "kTN0-Pm0gC-o"
   },
   "source": [
    "## Gradient accumulation\n",
    "\n",
    "\n",
    "The gradients must be set to zero manually. Otherwise they will cumulate across several _.backward()_ calls. \n",
    "This accumulating behavior is desirable in particular to compute the gradient of a loss summed over several “mini-batches,” or the gradient of a sum of losses.\n"
   ]
  },
  {
   "cell_type": "code",
   "execution_count": 34,
   "metadata": {
    "colab": {
     "base_uri": "https://localhost:8080/",
     "height": 34
    },
    "colab_type": "code",
    "id": "ELCAEIdv_G3X",
    "outputId": "06257ff6-38fe-437a-dd06-99cc328469a7"
   },
   "outputs": [
    {
     "name": "stdout",
     "output_type": "stream",
     "text": [
      "tensor([[4.]], grad_fn=<PowBackward0>)\n"
     ]
    }
   ],
   "source": [
    "x = torch.ones(1, 1,requires_grad = True)\n",
    "out = (x+1)**2\n",
    "print(out)"
   ]
  },
  {
   "cell_type": "code",
   "execution_count": 35,
   "metadata": {
    "colab": {
     "base_uri": "https://localhost:8080/",
     "height": 68
    },
    "colab_type": "code",
    "id": "lG7OEaY7gC-o",
    "outputId": "3fc7b824-8f63-43ec-dab7-a83607cfef7a"
   },
   "outputs": [
    {
     "name": "stdout",
     "output_type": "stream",
     "text": [
      "tensor([[4.]])\n",
      "tensor([[12.]])\n",
      "tensor([[16.]])\n"
     ]
    }
   ],
   "source": [
    "out.backward(torch.ones(1,1),retain_graph=True)\n",
    "print(x.grad)\n",
    "out.backward(2 * torch.ones(1,1),retain_graph=True)\n",
    "print(x.grad)\n",
    "out.backward(retain_graph=True)\n",
    "print(x.grad)"
   ]
  },
  {
   "cell_type": "code",
   "execution_count": 36,
   "metadata": {
    "colab": {
     "base_uri": "https://localhost:8080/",
     "height": 34
    },
    "colab_type": "code",
    "id": "64bGfnYegC-n",
    "outputId": "1b64ae88-532f-4b78-de31-1138982f2f52"
   },
   "outputs": [
    {
     "data": {
      "text/plain": [
       "tensor([[0.]])"
      ]
     },
     "execution_count": 36,
     "metadata": {},
     "output_type": "execute_result"
    }
   ],
   "source": [
    "# Manually zero the gradients after updating weights\n",
    "x.grad.data.zero_()"
   ]
  },
  {
   "cell_type": "code",
   "execution_count": 37,
   "metadata": {
    "colab": {
     "base_uri": "https://localhost:8080/",
     "height": 68
    },
    "colab_type": "code",
    "id": "-7XNSIw9gC-p",
    "outputId": "b4862842-291f-4acb-9e74-00827d8441b9"
   },
   "outputs": [
    {
     "name": "stdout",
     "output_type": "stream",
     "text": [
      "tensor([[4.]])\n",
      "tensor([[8.]])\n",
      "tensor([[4.]])\n"
     ]
    }
   ],
   "source": [
    "out.backward(torch.ones(1,1),retain_graph=True)\n",
    "print(x.grad)\n",
    "x.grad.data.zero_()\n",
    "out.backward(2 * torch.ones(1,1),retain_graph=True)\n",
    "print(x.grad)\n",
    "x.grad.data.zero_()\n",
    "out.backward(retain_graph=True)\n",
    "print(x.grad)\n"
   ]
  },
  {
   "cell_type": "markdown",
   "metadata": {
    "colab_type": "text",
    "id": "E-03ZcQggC-p"
   },
   "source": [
    "If you want to come back to the difference between detach and data see [Differences between .data and .detach](https://github.com/pytorch/pytorch/issues/6990)"
   ]
  },
  {
   "cell_type": "markdown",
   "metadata": {
    "colab_type": "text",
    "collapsed": true,
    "id": "yTdzGEodgC-p"
   },
   "source": [
    "# Playing with a neural network in pytorch: non-linear regression"
   ]
  },
  {
   "cell_type": "markdown",
   "metadata": {
    "colab_type": "text",
    "id": "VMoz9H5VuC5B"
   },
   "source": [
    "## Non-linear regression with a neural network"
   ]
  },
  {
   "cell_type": "markdown",
   "metadata": {
    "colab_type": "text",
    "id": "cZsTaZ2NgC-z"
   },
   "source": [
    "An implementation of **(Batch) Gradient Descent** using the nn package. Here we have a super simple model with only one layer and no activation function!"
   ]
  },
  {
   "cell_type": "markdown",
   "metadata": {
    "colab_type": "text",
    "id": "DDMmHyHmJfRC"
   },
   "source": [
    "Generate the dataset and visualize it."
   ]
  },
  {
   "cell_type": "code",
   "execution_count": 38,
   "metadata": {
    "colab": {
     "base_uri": "https://localhost:8080/",
     "height": 248
    },
    "colab_type": "code",
    "id": "-mSHFwP337eD",
    "outputId": "09b2aa37-bfbe-4a64-a739-d46793effdc6"
   },
   "outputs": [
    {
     "data": {
      "image/png": "[encoded data removed]",
      "text/plain": [
       "<Figure size 432x288 with 2 Axes>"
      ]
     },
     "metadata": {
      "needs_background": "light"
     },
     "output_type": "display_data"
    }
   ],
   "source": [
    "from mpl_toolkits.mplot3d import Axes3D\n",
    "import matplotlib.pyplot as plt\n",
    "from matplotlib import cm\n",
    "from matplotlib.ticker import LinearLocator, FormatStrFormatter\n",
    "import numpy as np\n",
    "\n",
    "\n",
    "# Make data\n",
    "num_samples = 10\n",
    "X1 = np.linspace(-5, 5, num_samples) \n",
    "X2 = np.linspace(-5, 5, num_samples) \n",
    "X1grid, X2grid = np.meshgrid(X1, X2)\n",
    "Y = -(0.1*X1grid**2 + 3*np.sin(0.1*X2grid) + 0.1) \n",
    "\n",
    "#print(X1grid)\n",
    "#print(X2grid)\n",
    "#print(Y)\n",
    "\n",
    "# Plot the surface.\n",
    "fig = plt.figure()\n",
    "ax = fig.gca(projection='3d')\n",
    "surf = ax.plot_surface(X1grid, X2grid, Y, cmap=cm.coolwarm,\n",
    "                       linewidth=0, antialiased=False)\n",
    "\n",
    "# Add a color bar which maps values to colors.\n",
    "fig.colorbar(surf, shrink=0.5, aspect=5)\n",
    "plt.show()"
   ]
  },
  {
   "cell_type": "code",
   "execution_count": 55,
   "metadata": {
    "colab": {
     "base_uri": "https://localhost:8080/",
     "height": 68
    },
    "colab_type": "code",
    "id": "MMu65iQ17nPp",
    "outputId": "cd6e63e3-27f6-4375-e2c2-74e36ecbaa7b"
   },
   "outputs": [
    {
     "name": "stdout",
     "output_type": "stream",
     "text": [
      "(100, 2)\n",
      "(100, 1)\n",
      "torch.Size([100, 2])\n"
     ]
    }
   ],
   "source": [
    "x1n = X1grid.ravel().reshape(-1, 1)\n",
    "x2n = X2grid.ravel().reshape(-1, 1)\n",
    "xn = np.concatenate((x1n,x2n),axis=1)\n",
    "yn = Y.ravel().reshape(-1, 1)\n",
    "#print(x1n.shape)\n",
    "#print(x2n.shape)\n",
    "print(xn.shape)\n",
    "print(yn.shape)\n",
    "\n",
    "# Convert in pytorch tensors\n",
    "x = torch.from_numpy(xn).float()\n",
    "y = torch.from_numpy(yn).float()\n",
    "#print(x)\n",
    "#print(y)\n",
    "print(x.shape)"
   ]
  },
  {
   "cell_type": "markdown",
   "metadata": {
    "colab_type": "text",
    "id": "CkcyFiacL8fH"
   },
   "source": [
    "## Neural network with full implementation (gradient computation and estimate update)"
   ]
  },
  {
   "cell_type": "code",
   "execution_count": 40,
   "metadata": {
    "colab": {
     "base_uri": "https://localhost:8080/",
     "height": 204
    },
    "colab_type": "code",
    "id": "T4se-BEixM3Z",
    "outputId": "5cfd3692-f1df-4449-ec2f-b294c8db75f4"
   },
   "outputs": [
    {
     "name": "stdout",
     "output_type": "stream",
     "text": [
      "0 123535.875\n",
      "1000 32.17783737182617\n",
      "2000 15.713850021362305\n",
      "3000 11.036033630371094\n",
      "4000 8.741862297058105\n",
      "5000 7.648831844329834\n",
      "6000 7.058204174041748\n",
      "7000 6.738073825836182\n",
      "8000 6.5293498039245605\n",
      "9000 6.3790602684021\n",
      "10000 6.250234127044678\n"
     ]
    }
   ],
   "source": [
    "import torch\n",
    "\n",
    "dtype = torch.float\n",
    "\n",
    "\n",
    "# N is batch size; D_in is input dimension;\n",
    "# H is hidden dimension; D_out is output dimension.\n",
    "N, D_in, H, D_out = num_samples**2, 2, 100, 1\n",
    "\n",
    "# Randomly initialize weights\n",
    "w1 = torch.randn(D_in, H, dtype=dtype)\n",
    "w2 = torch.randn(H, D_out,  dtype=dtype)\n",
    "\n",
    "learning_rate = 1e-6 \n",
    "for t in range(10001):\n",
    "    # Forward pass: compute predicted y\n",
    "    h = x.mm(w1)\n",
    "    \n",
    "    h_relu = h.clamp(min=0)\n",
    "    y_pred = h_relu.mm(w2)\n",
    "    #print(y_pred)\n",
    "\n",
    "    # Compute and print loss\n",
    "    loss = (y_pred - y).pow(2).sum().item()\n",
    "    if t % 1000 == 0:\n",
    "        print(t, loss)\n",
    "\n",
    "    # Backprop to compute gradients of w1 and w2 with respect to loss\n",
    "    grad_y_pred = 2.0 * (y_pred - y)\n",
    "    grad_w2 = h_relu.t().mm(grad_y_pred)\n",
    "    grad_h_relu = grad_y_pred.mm(w2.t())\n",
    "    grad_h = grad_h_relu.clone()\n",
    "    grad_h[h < 0] = 0\n",
    "    grad_w1 = x.t().mm(grad_h)\n",
    "\n",
    "    # Update weights using gradient descent\n",
    "    w1 -= learning_rate * grad_w1\n",
    "    w2 -= learning_rate * grad_w2"
   ]
  },
  {
   "cell_type": "markdown",
   "metadata": {
    "colab_type": "text",
    "id": "xhipoBZvJJz7"
   },
   "source": [
    "Compare the first values"
   ]
  },
  {
   "cell_type": "code",
   "execution_count": 41,
   "metadata": {
    "colab": {
     "base_uri": "https://localhost:8080/",
     "height": 187
    },
    "colab_type": "code",
    "id": "RDBc5npAAHzN",
    "outputId": "b71b6bb6-5dfe-4ba9-c05a-674c277ce6d7"
   },
   "outputs": [
    {
     "name": "stdout",
     "output_type": "stream",
     "text": [
      "tensor([[-1.1617],\n",
      "        [-0.1741],\n",
      "        [ 0.5667],\n",
      "        [ 1.0605],\n",
      "        [ 1.3074]])\n",
      "tensor([[-7.6735e-01],\n",
      "        [-1.0300e-04],\n",
      "        [ 5.8011e-01],\n",
      "        [ 1.1403e+00],\n",
      "        [ 1.4664e+00]])\n"
     ]
    }
   ],
   "source": [
    "print(y[0:5])\n",
    "print(y_pred[0:5])"
   ]
  },
  {
   "cell_type": "markdown",
   "metadata": {
    "colab_type": "text",
    "id": "xA3rUb9XIhCc"
   },
   "source": [
    "Plot the approximation in 1D"
   ]
  },
  {
   "cell_type": "code",
   "execution_count": 42,
   "metadata": {
    "colab": {},
    "colab_type": "code",
    "id": "q2rQUIq1OiiH"
   },
   "outputs": [],
   "source": [
    "def plotApproximation(y,y_pred):\n",
    "  plt.figure(figsize=(6, 4))\n",
    "  plt.plot(y.detach().numpy(),'b-')\n",
    "  plt.plot(y_pred.detach().numpy(),'r-*')\n",
    "  plt.xlabel('$x$')\n",
    "  plt.ylabel('$y$')\n",
    "  plt.title('Approximation with the neural network')\n",
    "  plt.show()"
   ]
  },
  {
   "cell_type": "code",
   "execution_count": 43,
   "metadata": {
    "colab": {
     "base_uri": "https://localhost:8080/",
     "height": 295
    },
    "colab_type": "code",
    "id": "ibZbvbe3Otom",
    "outputId": "f8904288-7413-48ce-e6ca-7cef625e01e9"
   },
   "outputs": [
    {
     "data": {
      "image/png": "[encoded data removed]",
      "text/plain": [
       "<Figure size 432x288 with 1 Axes>"
      ]
     },
     "metadata": {
      "needs_background": "light"
     },
     "output_type": "display_data"
    }
   ],
   "source": [
    "plotApproximation(y,y_pred)"
   ]
  },
  {
   "cell_type": "code",
   "execution_count": 44,
   "metadata": {
    "colab": {
     "base_uri": "https://localhost:8080/",
     "height": 295
    },
    "colab_type": "code",
    "id": "VzSSkdQq0sXr",
    "outputId": "ba069224-3609-4b31-a3b8-fea3b0ec7635"
   },
   "outputs": [
    {
     "data": {
      "image/png": "[encoded data removed]",
      "text/plain": [
       "<Figure size 432x288 with 1 Axes>"
      ]
     },
     "metadata": {
      "needs_background": "light"
     },
     "output_type": "display_data"
    }
   ],
   "source": [
    "plt.figure(figsize=(6, 4))\n",
    "plt.plot(y.numpy()-y_pred.numpy())\n",
    "plt.title('Residuals')\n",
    "plt.xlabel('$x$')\n",
    "plt.ylabel('$y-\\hat{y}$')\n",
    "plt.show()"
   ]
  },
  {
   "cell_type": "markdown",
   "metadata": {
    "colab_type": "text",
    "id": "Fqw-HzS5gC-0"
   },
   "source": [
    "Last step, we use directly the optim package to update the weights and bias."
   ]
  },
  {
   "cell_type": "markdown",
   "metadata": {
    "colab_type": "text",
    "id": "cKkd4LMWvX93"
   },
   "source": [
    "## Neural network with automatic gradient computation (but still the explicit estimate update)\n",
    "\n",
    "\n",
    "A fully-connected ReLU network with one hidden layer, trained to predict y from x\n",
    "by minimizing squared Euclidean distance.\n",
    "\n",
    "This implementation uses the nn package from PyTorch to build the network.\n",
    "PyTorch autograd makes it easy to define computational graphs and take gradients,\n",
    "but raw autograd can be a bit too low-level for defining complex neural networks;\n",
    "this is where the nn package can help. The nn package defines a set of Modules,\n",
    "which you can think of as a neural network layer that has produces output from\n",
    "input and may have some trainable weights."
   ]
  },
  {
   "cell_type": "markdown",
   "metadata": {
    "colab_type": "text",
    "id": "9aqqho33M21_"
   },
   "source": [
    "### Question: use autograd to compute the gradient. You can start from the full implementation of the neural network."
   ]
  },
  {
   "cell_type": "code",
   "execution_count": 77,
   "metadata": {},
   "outputs": [],
   "source": [
    "x = torch.from_numpy(xn).float()\n",
    "y = torch.from_numpy(yn).float()"
   ]
  },
  {
   "cell_type": "code",
   "execution_count": 78,
   "metadata": {
    "colab": {
     "base_uri": "https://localhost:8080/",
     "height": 204
    },
    "colab_type": "code",
    "id": "9gm8w-aJvb0f",
    "outputId": "21ca671a-1387-4dde-b1e2-a1d0bdb0e4d7",
    "scrolled": true
   },
   "outputs": [
    {
     "name": "stdout",
     "output_type": "stream",
     "text": [
      "0 328.92535400390625\n",
      "1000 3.422511163364561e-10\n",
      "2000 3.4103964097198514e-10\n",
      "3000 3.407554238776811e-10\n",
      "4000 3.407554238776811e-10\n",
      "5000 3.4058489362109867e-10\n",
      "6000 3.4058489362109867e-10\n",
      "7000 3.4052805020223786e-10\n",
      "8000 3.4052805020223786e-10\n",
      "9000 3.4052805020223786e-10\n",
      "10000 3.4052805020223786e-10\n"
     ]
    }
   ],
   "source": [
    "import torch\n",
    "\n",
    "# N is batch size; D_in is input dimension;\n",
    "# H is hidden dimension; D_out is output dimension.\n",
    "N, D_in, H, D_out = num_samples**2, 2, 100, 1\n",
    "\n",
    "# Use the nn package to define our model as a sequence of layers. nn.Sequential\n",
    "# is a Module which contains other Modules, and applies them in sequence to\n",
    "# produce its output. Each Linear Module computes output from input using a\n",
    "# linear function, and holds internal Tensors for its weight and bias.\n",
    "model = torch.nn.Sequential(\n",
    "    torch.nn.Linear(D_in, H),\n",
    "    torch.nn.ReLU(),\n",
    "    torch.nn.Linear(H, D_out),\n",
    ")\n",
    "\n",
    "# The nn package also contains definitions of popular loss functions; in this\n",
    "# case we will use Mean Squared Error (MSE) as our loss function.\n",
    "loss_fn = torch.nn.MSELoss(reduction='sum')\n",
    "\n",
    "x.requires_grad_(True)\n",
    "\n",
    "learning_rate = 1e-6\n",
    "\n",
    "for t in range(10001):\n",
    "    # Forward pass: compute predicted y by passing x to the model. Module objects\n",
    "    # override the __call__ operator so you can call them like functions. When\n",
    "    # doing so you pass a Tensor of input data to the Module and it produces\n",
    "    # a Tensor of output data.\n",
    "    y_pred = model(x)\n",
    "\n",
    "    # Compute and print loss. We pass Tensors containing the predicted and true\n",
    "    # values of y, and the loss function returns a Tensor containing the\n",
    "    # loss.\n",
    "    loss = loss_fn(y_pred, y)\n",
    "    if t % 1000 == 0:\n",
    "        print(t, loss.item())\n",
    "    \n",
    "    # COMPLETE THE CODE FROM HERE\n",
    "    # ...\n",
    "    loss.backward(retain_graph=True)\n",
    "    x.data.add_(-x.grad)\n",
    "    x.grad.data.zero_()\n",
    "    \n",
    "    "
   ]
  },
  {
   "cell_type": "code",
   "execution_count": 75,
   "metadata": {},
   "outputs": [
    {
     "data": {
      "image/svg+xml": [
       "<?xml version=\"1.0\" encoding=\"UTF-8\" standalone=\"no\"?>\r\n",
       "<!DOCTYPE svg PUBLIC \"-//W3C//DTD SVG 1.1//EN\"\r\n",
       " \"http://www.w3.org/Graphics/SVG/1.1/DTD/svg11.dtd\">\r\n",
       "<!-- Generated by graphviz version 2.38.0 (20140413.2041)\r\n",
       " -->\r\n",
       "<!-- Title: %3 Pages: 1 -->\r\n",
       "<svg width=\"260pt\" height=\"370pt\"\r\n",
       " viewBox=\"0.00 0.00 259.50 370.00\" xmlns=\"http://www.w3.org/2000/svg\" xmlns:xlink=\"http://www.w3.org/1999/xlink\">\r\n",
       "<g id=\"graph0\" class=\"graph\" transform=\"scale(1 1) rotate(0) translate(4 366)\">\r\n",
       "<title>%3</title>\r\n",
       "<polygon fill=\"white\" stroke=\"none\" points=\"-4,4 -4,-366 255.5,-366 255.5,4 -4,4\"/>\r\n",
       "<!-- 2190606054664 -->\r\n",
       "<g id=\"node1\" class=\"node\"><title>2190606054664</title>\r\n",
       "<polygon fill=\"#caff70\" stroke=\"black\" points=\"170,-21 64,-21 64,-0 170,-0 170,-21\"/>\r\n",
       "<text text-anchor=\"middle\" x=\"117\" y=\"-7.4\" font-family=\"Times New Roman,serif\" font-size=\"12.00\">MseLossBackward</text>\r\n",
       "</g>\r\n",
       "<!-- 2190606053448 -->\r\n",
       "<g id=\"node2\" class=\"node\"><title>2190606053448</title>\r\n",
       "<polygon fill=\"lightgrey\" stroke=\"black\" points=\"167.5,-78 66.5,-78 66.5,-57 167.5,-57 167.5,-78\"/>\r\n",
       "<text text-anchor=\"middle\" x=\"117\" y=\"-64.4\" font-family=\"Times New Roman,serif\" font-size=\"12.00\">AddmmBackward</text>\r\n",
       "</g>\r\n",
       "<!-- 2190606053448&#45;&gt;2190606054664 -->\r\n",
       "<g id=\"edge1\" class=\"edge\"><title>2190606053448&#45;&gt;2190606054664</title>\r\n",
       "<path fill=\"none\" stroke=\"black\" d=\"M117,-56.9197C117,-49.9083 117,-40.1442 117,-31.4652\"/>\r\n",
       "<polygon fill=\"black\" stroke=\"black\" points=\"120.5,-31.3408 117,-21.3408 113.5,-31.3409 120.5,-31.3408\"/>\r\n",
       "</g>\r\n",
       "<!-- 2190606055816 -->\r\n",
       "<g id=\"node3\" class=\"node\"><title>2190606055816</title>\r\n",
       "<polygon fill=\"lightblue\" stroke=\"black\" points=\"54,-149 0,-149 0,-114 54,-114 54,-149\"/>\r\n",
       "<text text-anchor=\"middle\" x=\"27\" y=\"-121.4\" font-family=\"Times New Roman,serif\" font-size=\"12.00\"> (1)</text>\r\n",
       "</g>\r\n",
       "<!-- 2190606055816&#45;&gt;2190606053448 -->\r\n",
       "<g id=\"edge2\" class=\"edge\"><title>2190606055816&#45;&gt;2190606053448</title>\r\n",
       "<path fill=\"none\" stroke=\"black\" d=\"M51.1183,-113.885C64.6562,-104.559 81.4338,-93.0012 94.6697,-83.8831\"/>\r\n",
       "<polygon fill=\"black\" stroke=\"black\" points=\"96.9344,-86.5731 103.184,-78.0178 92.9632,-80.8086 96.9344,-86.5731\"/>\r\n",
       "</g>\r\n",
       "<!-- 2190606056520 -->\r\n",
       "<g id=\"node4\" class=\"node\"><title>2190606056520</title>\r\n",
       "<polygon fill=\"lightgrey\" stroke=\"black\" points=\"162,-142 72,-142 72,-121 162,-121 162,-142\"/>\r\n",
       "<text text-anchor=\"middle\" x=\"117\" y=\"-128.4\" font-family=\"Times New Roman,serif\" font-size=\"12.00\">ReluBackward0</text>\r\n",
       "</g>\r\n",
       "<!-- 2190606056520&#45;&gt;2190606053448 -->\r\n",
       "<g id=\"edge3\" class=\"edge\"><title>2190606056520&#45;&gt;2190606053448</title>\r\n",
       "<path fill=\"none\" stroke=\"black\" d=\"M117,-120.813C117,-112.218 117,-99.3883 117,-88.5855\"/>\r\n",
       "<polygon fill=\"black\" stroke=\"black\" points=\"120.5,-88.3241 117,-78.3241 113.5,-88.3241 120.5,-88.3241\"/>\r\n",
       "</g>\r\n",
       "<!-- 2190606056776 -->\r\n",
       "<g id=\"node5\" class=\"node\"><title>2190606056776</title>\r\n",
       "<polygon fill=\"lightgrey\" stroke=\"black\" points=\"167.5,-213 66.5,-213 66.5,-192 167.5,-192 167.5,-213\"/>\r\n",
       "<text text-anchor=\"middle\" x=\"117\" y=\"-199.4\" font-family=\"Times New Roman,serif\" font-size=\"12.00\">AddmmBackward</text>\r\n",
       "</g>\r\n",
       "<!-- 2190606056776&#45;&gt;2190606056520 -->\r\n",
       "<g id=\"edge4\" class=\"edge\"><title>2190606056776&#45;&gt;2190606056520</title>\r\n",
       "<path fill=\"none\" stroke=\"black\" d=\"M117,-191.906C117,-181.71 117,-165.3 117,-152.308\"/>\r\n",
       "<polygon fill=\"black\" stroke=\"black\" points=\"120.5,-152.013 117,-142.013 113.5,-152.013 120.5,-152.013\"/>\r\n",
       "</g>\r\n",
       "<!-- 2190606054920 -->\r\n",
       "<g id=\"node6\" class=\"node\"><title>2190606054920</title>\r\n",
       "<polygon fill=\"lightblue\" stroke=\"black\" points=\"70,-291 16,-291 16,-256 70,-256 70,-291\"/>\r\n",
       "<text text-anchor=\"middle\" x=\"43\" y=\"-263.4\" font-family=\"Times New Roman,serif\" font-size=\"12.00\"> (100)</text>\r\n",
       "</g>\r\n",
       "<!-- 2190606054920&#45;&gt;2190606056776 -->\r\n",
       "<g id=\"edge5\" class=\"edge\"><title>2190606054920&#45;&gt;2190606056776</title>\r\n",
       "<path fill=\"none\" stroke=\"black\" d=\"M60.9133,-255.797C72.5908,-244.909 87.7611,-230.763 99.3794,-219.93\"/>\r\n",
       "<polygon fill=\"black\" stroke=\"black\" points=\"101.842,-222.419 106.769,-213.04 97.0682,-217.3 101.842,-222.419\"/>\r\n",
       "</g>\r\n",
       "<!-- 2190606054344 -->\r\n",
       "<g id=\"node7\" class=\"node\"><title>2190606054344</title>\r\n",
       "<polygon fill=\"lightblue\" stroke=\"black\" points=\"145.5,-291 88.5,-291 88.5,-256 145.5,-256 145.5,-291\"/>\r\n",
       "<text text-anchor=\"middle\" x=\"117\" y=\"-263.4\" font-family=\"Times New Roman,serif\" font-size=\"12.00\"> (100, 2)</text>\r\n",
       "</g>\r\n",
       "<!-- 2190606054344&#45;&gt;2190606056776 -->\r\n",
       "<g id=\"edge6\" class=\"edge\"><title>2190606054344&#45;&gt;2190606056776</title>\r\n",
       "<path fill=\"none\" stroke=\"black\" d=\"M117,-255.797C117,-245.956 117,-233.453 117,-223.141\"/>\r\n",
       "<polygon fill=\"black\" stroke=\"black\" points=\"120.5,-223.04 117,-213.04 113.5,-223.04 120.5,-223.04\"/>\r\n",
       "</g>\r\n",
       "<!-- 2190606056328 -->\r\n",
       "<g id=\"node8\" class=\"node\"><title>2190606056328</title>\r\n",
       "<polygon fill=\"lightgrey\" stroke=\"black\" points=\"234.5,-284 163.5,-284 163.5,-263 234.5,-263 234.5,-284\"/>\r\n",
       "<text text-anchor=\"middle\" x=\"199\" y=\"-270.4\" font-family=\"Times New Roman,serif\" font-size=\"12.00\">TBackward</text>\r\n",
       "</g>\r\n",
       "<!-- 2190606056328&#45;&gt;2190606056776 -->\r\n",
       "<g id=\"edge7\" class=\"edge\"><title>2190606056328&#45;&gt;2190606056776</title>\r\n",
       "<path fill=\"none\" stroke=\"black\" d=\"M187.598,-262.906C174.257,-251.68 151.964,-232.921 135.997,-219.485\"/>\r\n",
       "<polygon fill=\"black\" stroke=\"black\" points=\"138.21,-216.773 128.305,-213.013 133.703,-222.129 138.21,-216.773\"/>\r\n",
       "</g>\r\n",
       "<!-- 2190606056008 -->\r\n",
       "<g id=\"node9\" class=\"node\"><title>2190606056008</title>\r\n",
       "<polygon fill=\"lightblue\" stroke=\"black\" points=\"227.5,-362 170.5,-362 170.5,-327 227.5,-327 227.5,-362\"/>\r\n",
       "<text text-anchor=\"middle\" x=\"199\" y=\"-334.4\" font-family=\"Times New Roman,serif\" font-size=\"12.00\"> (100, 2)</text>\r\n",
       "</g>\r\n",
       "<!-- 2190606056008&#45;&gt;2190606056328 -->\r\n",
       "<g id=\"edge8\" class=\"edge\"><title>2190606056008&#45;&gt;2190606056328</title>\r\n",
       "<path fill=\"none\" stroke=\"black\" d=\"M199,-326.797C199,-316.956 199,-304.453 199,-294.141\"/>\r\n",
       "<polygon fill=\"black\" stroke=\"black\" points=\"202.5,-294.04 199,-284.04 195.5,-294.04 202.5,-294.04\"/>\r\n",
       "</g>\r\n",
       "<!-- 2190606053576 -->\r\n",
       "<g id=\"node10\" class=\"node\"><title>2190606053576</title>\r\n",
       "<polygon fill=\"lightgrey\" stroke=\"black\" points=\"251.5,-142 180.5,-142 180.5,-121 251.5,-121 251.5,-142\"/>\r\n",
       "<text text-anchor=\"middle\" x=\"216\" y=\"-128.4\" font-family=\"Times New Roman,serif\" font-size=\"12.00\">TBackward</text>\r\n",
       "</g>\r\n",
       "<!-- 2190606053576&#45;&gt;2190606053448 -->\r\n",
       "<g id=\"edge9\" class=\"edge\"><title>2190606053576&#45;&gt;2190606053448</title>\r\n",
       "<path fill=\"none\" stroke=\"black\" d=\"M200.531,-120.813C184.548,-110.803 159.39,-95.0471 140.857,-83.4405\"/>\r\n",
       "<polygon fill=\"black\" stroke=\"black\" points=\"142.693,-80.4609 132.36,-78.1195 138.978,-86.3935 142.693,-80.4609\"/>\r\n",
       "</g>\r\n",
       "<!-- 2190606054024 -->\r\n",
       "<g id=\"node11\" class=\"node\"><title>2190606054024</title>\r\n",
       "<polygon fill=\"lightblue\" stroke=\"black\" points=\"244.5,-220 187.5,-220 187.5,-185 244.5,-185 244.5,-220\"/>\r\n",
       "<text text-anchor=\"middle\" x=\"216\" y=\"-192.4\" font-family=\"Times New Roman,serif\" font-size=\"12.00\"> (1, 100)</text>\r\n",
       "</g>\r\n",
       "<!-- 2190606054024&#45;&gt;2190606053576 -->\r\n",
       "<g id=\"edge10\" class=\"edge\"><title>2190606054024&#45;&gt;2190606053576</title>\r\n",
       "<path fill=\"none\" stroke=\"black\" d=\"M216,-184.797C216,-174.956 216,-162.453 216,-152.141\"/>\r\n",
       "<polygon fill=\"black\" stroke=\"black\" points=\"219.5,-152.04 216,-142.04 212.5,-152.04 219.5,-152.04\"/>\r\n",
       "</g>\r\n",
       "</g>\r\n",
       "</svg>\r\n"
      ],
      "text/plain": [
       "<graphviz.dot.Digraph at 0x1fe0a4bbe48>"
      ]
     },
     "execution_count": 75,
     "metadata": {},
     "output_type": "execute_result"
    }
   ],
   "source": [
    "torchviz.make_dot(loss) "
   ]
  },
  {
   "cell_type": "code",
   "execution_count": 79,
   "metadata": {
    "colab": {
     "base_uri": "https://localhost:8080/",
     "height": 295
    },
    "colab_type": "code",
    "id": "j828Mw1pO_H1",
    "outputId": "e4027e00-e6d7-469c-f8bd-1834a1bca279"
   },
   "outputs": [
    {
     "data": {
      "image/png": "[encoded data removed]",
      "text/plain": [
       "<Figure size 432x288 with 1 Axes>"
      ]
     },
     "metadata": {
      "needs_background": "light"
     },
     "output_type": "display_data"
    }
   ],
   "source": [
    "plotApproximation(y,y_pred)"
   ]
  },
  {
   "cell_type": "markdown",
   "metadata": {
    "colab_type": "text",
    "id": "xOJBAjFAMc63"
   },
   "source": [
    "## Neural network with automatic gradient computation and automatic estimate update\n",
    "\n",
    "A fully-connected ReLU network with one hidden layer, trained to predict y from x\n",
    "by minimizing squared Euclidean distance.\n",
    "\n",
    "This implementation uses the nn package from PyTorch to build the network.\n",
    "\n",
    "Rather than manually updating the weights of the model as we have been doing,\n",
    "we use the optim package to define an Optimizer that will update the weights\n",
    "for us. The optim package defines many optimization algorithms that are commonly\n",
    "used for deep learning, including SGD+momentum, RMSProp, Adam, etc."
   ]
  },
  {
   "cell_type": "markdown",
   "metadata": {
    "colab_type": "text",
    "id": "auFqUkCrNJPx"
   },
   "source": [
    "### Question: use the Torch optimizer to do the gradient descent. You can start from the full implementation of the neural network with automatic differentiation.\n",
    "\n",
    "Details on Optimizer are [here](https://pytorch.org/docs/stable/optim.html)"
   ]
  },
  {
   "cell_type": "code",
   "execution_count": null,
   "metadata": {
    "colab": {
     "base_uri": "https://localhost:8080/",
     "height": 204
    },
    "colab_type": "code",
    "id": "9dRfOhN3vnQN",
    "outputId": "57fb4db1-e2e8-4a12-c8a0-4a52588cb7fe"
   },
   "outputs": [],
   "source": [
    "import torch\n",
    "\n",
    "# N is batch size; D_in is input dimension;\n",
    "# H is hidden dimension; D_out is output dimension.\n",
    "N, D_in, H, D_out = num_samples**2, 2, 100, 1\n",
    "\n",
    "# Use the nn package to define our model and loss function.\n",
    "model = torch.nn.Sequential(\n",
    "    torch.nn.Linear(D_in, H),\n",
    "    torch.nn.ReLU(),\n",
    "    torch.nn.Linear(H, D_out),\n",
    ")\n",
    "loss_fn = torch.nn.MSELoss(reduction='sum')\n",
    "\n",
    "# Use the optim package to define an Optimizer that will update the weights of\n",
    "# the model for us. Here we will use Adam; the optim package contains many other\n",
    "# optimization algoriths. The first argument to the Adam constructor tells the\n",
    "# optimizer which Tensors it should update.\n",
    "learning_rate = 1e-6\n",
    "#optimizer = torch.optim.Adam(model.parameters(), lr=learning_rate)\n",
    "optimizer = torch.optim.SGD(model.parameters(), lr=learning_rate)\n",
    "for t in range(10001):\n",
    "    # Forward pass: compute predicted y by passing x to the model.\n",
    "    y_pred = model(x)\n",
    "\n",
    "    # Compute and print loss.\n",
    "    loss = loss_fn(y_pred, y)\n",
    "    if t % 1000 == 0:\n",
    "        print(t, loss.item())\n",
    "\n",
    "    # COMPLETE THE CODE FROM HERE\n",
    "    # ..."
   ]
  },
  {
   "cell_type": "code",
   "execution_count": null,
   "metadata": {
    "colab": {
     "base_uri": "https://localhost:8080/",
     "height": 295
    },
    "colab_type": "code",
    "id": "l3wESBOnPAzx",
    "outputId": "f5816115-0673-477e-a191-2ff91365055f"
   },
   "outputs": [],
   "source": [
    "plotApproximation(y,y_pred)"
   ]
  }
 ],
 "metadata": {
  "accelerator": "GPU",
  "colab": {
   "collapsed_sections": [],
   "name": "DSTI_DL_Lab2_March2020.ipynb",
   "provenance": [],
   "toc_visible": true
  },
  "kernelspec": {
   "display_name": "Python [conda env:test]",
   "language": "python",
   "name": "conda-env-test-py"
  },
  "language_info": {
   "codemirror_mode": {
    "name": "ipython",
    "version": 3
   },
   "file_extension": ".py",
   "mimetype": "text/x-python",
   "name": "python",
   "nbconvert_exporter": "python",
   "pygments_lexer": "ipython3",
   "version": "3.7.6"
  }
 },
 "nbformat": 4,
 "nbformat_minor": 1
}
