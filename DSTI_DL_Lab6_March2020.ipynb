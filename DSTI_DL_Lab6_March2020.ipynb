{
  "nbformat": 4,
  "nbformat_minor": 0,
  "metadata": {
    "kernelspec": {
      "name": "python3",
      "display_name": "Python 3"
    },
    "language_info": {
      "codemirror_mode": {
        "name": "ipython",
        "version": 3
      },
      "file_extension": ".py",
      "mimetype": "text/x-python",
      "name": "python",
      "nbconvert_exporter": "python",
      "pygments_lexer": "ipython3",
      "version": "3.5.2"
    },
    "colab": {
      "name": "DSTI_DL_Lab6_March2020.ipynb",
      "provenance": [],
      "collapsed_sections": [],
      "toc_visible": true
    },
    "accelerator": "GPU"
  },
  "cells": [
    {
      "cell_type": "markdown",
      "metadata": {
        "id": "QYZjzA-LQ3yq",
        "colab_type": "text"
      },
      "source": [
        "# MNIST handwritten digits classification with regularized MLPs\n",
        "\n",
        "In this notebook, we'll train a multi-layer perceptron model to classify MNIST digits using **PyTorch**.\n",
        "\n",
        "The neural network will be regularized with\n",
        "\n",
        "\n",
        "1.   Dropout\n",
        "2.   Batchnormalization\n",
        "\n",
        "\n",
        "\n"
      ]
    },
    {
      "cell_type": "markdown",
      "metadata": {
        "id": "uEtfy2Y5KrXS",
        "colab_type": "text"
      },
      "source": [
        "First, the needed imports. "
      ]
    },
    {
      "cell_type": "code",
      "metadata": {
        "id": "qrZvRCTBQ3yt",
        "colab_type": "code",
        "outputId": "cfa992fb-e76b-41b6-a790-2c4d0367c30b",
        "colab": {
          "base_uri": "https://localhost:8080/",
          "height": 34
        }
      },
      "source": [
        "%matplotlib inline\n",
        "\n",
        "import torch\n",
        "import torch.nn as nn\n",
        "import torch.nn.functional as F\n",
        "from torchvision import datasets, transforms\n",
        "#import seaborn as sns\n",
        "#sns.set()\n",
        "\n",
        "import numpy as np\n",
        "import matplotlib.pyplot as plt\n",
        "\n",
        "if torch.cuda.is_available():\n",
        "    device = torch.device('cuda')\n",
        "else:\n",
        "    device = torch.device('cpu')\n",
        "    \n",
        "print('Using PyTorch version:', torch.__version__, ' Device:', device)"
      ],
      "execution_count": 0,
      "outputs": [
        {
          "output_type": "stream",
          "text": [
            "Using PyTorch version: 1.4.0  Device: cuda\n"
          ],
          "name": "stdout"
        }
      ]
    },
    {
      "cell_type": "markdown",
      "metadata": {
        "id": "Y0chwSkbQ3yx",
        "colab_type": "text"
      },
      "source": [
        "## Data\n",
        "\n",
        "Next we'll load the MNIST data.  First time we may have to download the data, which can take a while.\n",
        "\n",
        "Note that we are here using the MNIST test data for *validation*, instead of for testing the final model."
      ]
    },
    {
      "cell_type": "code",
      "metadata": {
        "id": "CyqByXDlQ3yy",
        "colab_type": "code",
        "colab": {}
      },
      "source": [
        "batch_size = 32\n",
        "\n",
        "train_dataset = datasets.MNIST('./data', \n",
        "                               train=True, \n",
        "                               download=True, \n",
        "                               transform=transforms.ToTensor())\n",
        "\n",
        "validation_dataset = datasets.MNIST('./data', \n",
        "                                    train=False, \n",
        "                                    transform=transforms.ToTensor())\n",
        "\n",
        "train_loader = torch.utils.data.DataLoader(dataset=train_dataset, \n",
        "                                           batch_size=batch_size, \n",
        "                                           shuffle=True)\n",
        "\n",
        "validation_loader = torch.utils.data.DataLoader(dataset=validation_dataset, \n",
        "                                                batch_size=batch_size, \n",
        "                                                shuffle=False)"
      ],
      "execution_count": 0,
      "outputs": []
    },
    {
      "cell_type": "markdown",
      "metadata": {
        "id": "R5RUIpKiQ3y1",
        "colab_type": "text"
      },
      "source": [
        "The train and test data are provided via data loaders that provide iterators over the datasets. The first element of training data (`X_train`) is a 4th-order tensor of size (`batch_size`, 1, 28, 28), i.e. it consists of a batch of images of size 1x28x28 pixels. `y_train` is a vector containing the correct classes (\"0\", \"1\", ..., \"9\") for each training digit."
      ]
    },
    {
      "cell_type": "code",
      "metadata": {
        "id": "rpWAQsC5Q3y2",
        "colab_type": "code",
        "outputId": "c707f7d9-732e-4e01-a121-24ffe91f9028",
        "colab": {
          "base_uri": "https://localhost:8080/",
          "height": 51
        }
      },
      "source": [
        "for (X_train, y_train) in train_loader:\n",
        "    print('X_train:', X_train.size(), 'type:', X_train.type())\n",
        "    print('y_train:', y_train.size(), 'type:', y_train.type())\n",
        "    break"
      ],
      "execution_count": 0,
      "outputs": [
        {
          "output_type": "stream",
          "text": [
            "X_train: torch.Size([32, 1, 28, 28]) type: torch.FloatTensor\n",
            "y_train: torch.Size([32]) type: torch.LongTensor\n"
          ],
          "name": "stdout"
        }
      ]
    },
    {
      "cell_type": "markdown",
      "metadata": {
        "id": "l-HI9wwyQ3y4",
        "colab_type": "text"
      },
      "source": [
        "Here are the first 10 training digits:"
      ]
    },
    {
      "cell_type": "code",
      "metadata": {
        "id": "bEwHbv16Q3y6",
        "colab_type": "code",
        "outputId": "62be50e8-c48f-4630-a8ce-4289516e2328",
        "colab": {
          "base_uri": "https://localhost:8080/",
          "height": 94
        }
      },
      "source": [
        "pltsize=1\n",
        "plt.figure(figsize=(10*pltsize, pltsize))\n",
        "\n",
        "for i in range(10):\n",
        "    plt.subplot(1,10,i+1)\n",
        "    plt.axis('off')\n",
        "    plt.imshow(X_train[i,:,:,:].numpy().reshape(28,28), cmap=\"gray\")\n",
        "    plt.title('Class: '+str(y_train[i].item()))"
      ],
      "execution_count": 0,
      "outputs": [
        {
          "output_type": "display_data",
          "data": {
            "image/png": "[encoded data removed]",
            "text/plain": [
              "<Figure size 720x72 with 10 Axes>"
            ]
          },
          "metadata": {
            "tags": []
          }
        }
      ]
    },
    {
      "cell_type": "markdown",
      "metadata": {
        "id": "Lj0u1Y9uQ3y9",
        "colab_type": "text"
      },
      "source": [
        "## MLP network definition\n",
        "\n",
        "Let's define the network as a Python class.  We have to write the `__init__()` and `forward()` methods, and PyTorch will automatically generate a `backward()` method for computing the gradients for the backward pass.\n",
        "\n",
        "Finally, we define an optimizer to update the model parameters based on the computed gradients.  We select *stochastic gradient descent (with momentum)* as the optimization algorithm, and set *learning rate* to 0.01.  Note that there are [several different options](http://pytorch.org/docs/optim.html#algorithms) for the optimizer in PyTorch that we could use instead of *SGD*."
      ]
    },
    {
      "cell_type": "markdown",
      "metadata": {
        "id": "FB_060a0LkaB",
        "colab_type": "text"
      },
      "source": [
        "#### Question: Complete the missing blocks in the definition of the  convNet architecture \n",
        "\n",
        "The neural network should be composed as (FullyConnected 256 -> ReLU -> Fully Connected 256 -> ReLU -> Fully Connected 10 -> softmax)"
      ]
    },
    {
      "cell_type": "code",
      "metadata": {
        "id": "ERvvxFlPQ3y-",
        "colab_type": "code",
        "outputId": "50a2507f-06a4-44a7-9eae-4587d6543162",
        "colab": {
          "base_uri": "https://localhost:8080/",
          "height": 136
        }
      },
      "source": [
        "H1 = 50\n",
        "H2 = 256 \n",
        "\n",
        "class Net(nn.Module):\n",
        "    def __init__(self):\n",
        "        super(Net, self).__init__()\n",
        "        # To complete\n",
        "        self.fc1 = nn.Linear(28*28,H1)\n",
        "        self.relu1 = nn.ReLU()\n",
        "        self.fc2 = nn.Linear(H1,H2)\n",
        "        self.relu2 = nn.ReLU()\n",
        "        self.fc3 = nn.Linear(H2,10)\n",
        "\n",
        "    def forward(self, x):\n",
        "        # To complete\n",
        "        out = x.view(-1,28*28)\n",
        "        out = self.fc1(out)\n",
        "        out = self.relu1(out)\n",
        "        out = self.fc2(out)\n",
        "        out = self.relu2(out)\n",
        "        out = self.fc3(out)\n",
        "        return out\n",
        "\n",
        "model = Net().to(device)\n",
        "optimizer = torch.optim.SGD(model.parameters(), lr=0.01, momentum=0.)\n",
        "criterion = nn.CrossEntropyLoss()\n",
        "\n",
        "print(model)"
      ],
      "execution_count": 0,
      "outputs": [
        {
          "output_type": "stream",
          "text": [
            "Net(\n",
            "  (fc1): Linear(in_features=784, out_features=50, bias=True)\n",
            "  (relu1): ReLU()\n",
            "  (fc2): Linear(in_features=50, out_features=256, bias=True)\n",
            "  (relu2): ReLU()\n",
            "  (fc3): Linear(in_features=256, out_features=10, bias=True)\n",
            ")\n"
          ],
          "name": "stdout"
        }
      ]
    },
    {
      "cell_type": "markdown",
      "metadata": {
        "id": "bbnPlkshVtS1",
        "colab_type": "text"
      },
      "source": [
        "### Question: Complete the missing blocks in the definition of the \"DropoutNet\" architecture\n",
        "\n",
        "The neural network should be composed as (FullyConnected 256 -> ReLU -> Dropout (0.2) -> Fully Connected 256 -> ReLU -> Dropout (0.5) -> Fully Connected 10 -> softmax)"
      ]
    },
    {
      "cell_type": "code",
      "metadata": {
        "id": "bEK5kptoSYfe",
        "colab_type": "code",
        "outputId": "bbf98b80-95f5-47e0-fa19-935a04e2ea87",
        "colab": {
          "base_uri": "https://localhost:8080/",
          "height": 170
        }
      },
      "source": [
        "class NetDrop(nn.Module):\n",
        "    def __init__(self):\n",
        "        super(NetDrop, self).__init__()\n",
        "        # To complete\n",
        "        self.fc1 = nn.Linear(28*28,H1)\n",
        "        self.relu1 = nn.ReLU()\n",
        "        self.fc1_drop = nn.Dropout(p=0.2)\n",
        "        self.fc2 = nn.Linear(H1,H2)\n",
        "        self.relu2 = nn.ReLU()\n",
        "        self.fc2_drop = nn.Dropout(p=0.5)\n",
        "        self.fc3 = nn.Linear(H2,10)\n",
        "\n",
        "    def forward(self, x):\n",
        "        # To complete\n",
        "        out = x.view(-1,28*28)\n",
        "        out = self.fc1(out)\n",
        "        out = self.relu1(out)\n",
        "        out = self.fc1_drop(out)\n",
        "        out = self.fc2(out)\n",
        "        out = self.relu2(out)\n",
        "        out = self.fc2_drop(out)\n",
        "        out = self.fc3(out)\n",
        "        return out\n",
        "\n",
        "modelDrop = NetDrop().to(device)\n",
        "optimizerDrop = torch.optim.SGD(modelDrop.parameters(), lr=0.01, momentum=0.)\n",
        "\n",
        "print(modelDrop)"
      ],
      "execution_count": 0,
      "outputs": [
        {
          "output_type": "stream",
          "text": [
            "NetDrop(\n",
            "  (fc1): Linear(in_features=784, out_features=50, bias=True)\n",
            "  (relu1): ReLU()\n",
            "  (fc1_drop): Dropout(p=0.2, inplace=False)\n",
            "  (fc2): Linear(in_features=50, out_features=256, bias=True)\n",
            "  (relu2): ReLU()\n",
            "  (fc2_drop): Dropout(p=0.5, inplace=False)\n",
            "  (fc3): Linear(in_features=256, out_features=10, bias=True)\n",
            ")\n"
          ],
          "name": "stdout"
        }
      ]
    },
    {
      "cell_type": "markdown",
      "metadata": {
        "id": "p1u8Y6ydL_L8",
        "colab_type": "text"
      },
      "source": [
        "### Question: Complete the missing blocks in the definition of the  \"Batchnormalization\" architecture\n",
        "\n",
        "The neural network should be composed as (FullyConnected 256 -> ReLU -> Batchnorm -> Fully Connected 256 -> ReLU -> Batchnorm -> Fully Connected 10 -> softmax)"
      ]
    },
    {
      "cell_type": "code",
      "metadata": {
        "id": "rcnP7ZRwMIu_",
        "colab_type": "code",
        "outputId": "6828838a-deb0-4a06-a499-f516620d89b4",
        "colab": {
          "base_uri": "https://localhost:8080/",
          "height": 170
        }
      },
      "source": [
        "class NetBatchNorm(nn.Module):\n",
        "    def __init__(self):\n",
        "        super(NetBatchNorm, self).__init__()\n",
        "        # To complete\n",
        "        self.fc1 = nn.Linear(28*28,H1)\n",
        "        self.relu1 = nn.ReLU()\n",
        "        self.bn1 = nn.BatchNorm1d(H1)\n",
        "        self.fc2 = nn.Linear(H1,H2)\n",
        "        self.relu2 = nn.ReLU()\n",
        "        self.bn2 = nn.BatchNorm1d(H2)\n",
        "        self.fc3 = nn.Linear(H2,10)\n",
        "\n",
        "    def forward(self, x):\n",
        "        # To complete\n",
        "        out = x.view(-1,28*28)\n",
        "        out = self.fc1(out)\n",
        "        out = self.relu1(out)\n",
        "        out = self.bn1(out)\n",
        "        out = self.fc2(out)\n",
        "        out = self.relu2(out)\n",
        "        out = self.bn2(out)\n",
        "        out = self.fc3(out)\n",
        "        return out\n",
        "\n",
        "modelBatchNorm = NetBatchNorm().to(device)\n",
        "optimizerBatchNorm = torch.optim.SGD(modelBatchNorm.parameters(), lr=0.01, momentum=0.)\n",
        "\n",
        "print(modelBatchNorm)"
      ],
      "execution_count": 0,
      "outputs": [
        {
          "output_type": "stream",
          "text": [
            "NetBatchNorm(\n",
            "  (fc1): Linear(in_features=784, out_features=50, bias=True)\n",
            "  (relu1): ReLU()\n",
            "  (bn1): BatchNorm1d(50, eps=1e-05, momentum=0.1, affine=True, track_running_stats=True)\n",
            "  (fc2): Linear(in_features=50, out_features=256, bias=True)\n",
            "  (relu2): ReLU()\n",
            "  (bn2): BatchNorm1d(256, eps=1e-05, momentum=0.1, affine=True, track_running_stats=True)\n",
            "  (fc3): Linear(in_features=256, out_features=10, bias=True)\n",
            ")\n"
          ],
          "name": "stdout"
        }
      ]
    },
    {
      "cell_type": "markdown",
      "metadata": {
        "id": "jOwerJmYQ3zA",
        "colab_type": "text"
      },
      "source": [
        "## Learning\n",
        "\n",
        "Let's now define functions to `train()` and `test()` the model. "
      ]
    },
    {
      "cell_type": "code",
      "metadata": {
        "id": "eyA6cc6kQ3zB",
        "colab_type": "code",
        "colab": {}
      },
      "source": [
        "def train(model, optimizer, epoch, log_interval=200):\n",
        "    # Set model to training mode\n",
        "    model.train()\n",
        "    \n",
        "    # Loop over each batch from the training set\n",
        "    for batch_idx, (data, target) in enumerate(train_loader):\n",
        "        # print(data.size())\n",
        "        # Copy data to GPU if needed\n",
        "        data = data.to(device)\n",
        "        target = target.to(device)\n",
        "\n",
        "        # Zero gradient buffers\n",
        "        optimizer.zero_grad() \n",
        "        \n",
        "        # Pass data through the network\n",
        "        output = model(data)\n",
        "\n",
        "        # Calculate loss\n",
        "        loss = criterion(output, target)\n",
        "\n",
        "        # Backpropagate\n",
        "        loss.backward()\n",
        "        \n",
        "        # Update weights\n",
        "        optimizer.step()\n",
        "        \n",
        "        if batch_idx % log_interval == 0:\n",
        "            print('Train Epoch: {} [{}/{} ({:.0f}%)]\\tLoss: {:.6f}'.format(\n",
        "                epoch, batch_idx * len(data), len(train_loader.dataset),\n",
        "                100. * batch_idx / len(train_loader), loss.data.item()))"
      ],
      "execution_count": 0,
      "outputs": []
    },
    {
      "cell_type": "code",
      "metadata": {
        "id": "GZpI82dgQ3zE",
        "colab_type": "code",
        "colab": {}
      },
      "source": [
        "def validate(model, loss_vector, accuracy_vector):\n",
        "    model.eval()\n",
        "    val_loss, correct = 0, 0\n",
        "    for data, target in validation_loader:\n",
        "        data = data.to(device)\n",
        "        target = target.to(device)\n",
        "        output = model(data)\n",
        "        val_loss += criterion(output, target).data.item()\n",
        "        pred = output.data.max(1)[1] # get the index of the max log-probability\n",
        "        correct += pred.eq(target.data).cpu().sum()\n",
        "\n",
        "    val_loss /= len(validation_loader)\n",
        "    loss_vector.append(val_loss)\n",
        "\n",
        "    accuracy = 100. * correct.to(torch.float32) / len(validation_loader.dataset)\n",
        "    accuracy_vector.append(accuracy)\n",
        "    \n",
        "    print('\\nValidation set: Average loss: {:.4f}, Accuracy: {}/{} ({:.0f}%)\\n'.format(\n",
        "        val_loss, correct, len(validation_loader.dataset), accuracy))\n"
      ],
      "execution_count": 0,
      "outputs": []
    },
    {
      "cell_type": "markdown",
      "metadata": {
        "id": "RpE7EGviQ3zF",
        "colab_type": "text"
      },
      "source": [
        "Now we are ready to train our model using the `train()` function.  An *epoch* means one pass through the whole training data. After each epoch, we evaluate the model using `test()`. "
      ]
    },
    {
      "cell_type": "markdown",
      "metadata": {
        "id": "Ls0lR3WvVVZQ",
        "colab_type": "text"
      },
      "source": [
        "Training without Dropout"
      ]
    },
    {
      "cell_type": "code",
      "metadata": {
        "id": "uFPAF_CNQ3zG",
        "colab_type": "code",
        "outputId": "70c67a32-89fd-4ef6-f369-15aad724731d",
        "colab": {
          "base_uri": "https://localhost:8080/",
          "height": 1000
        }
      },
      "source": [
        "%%time\n",
        "epochs = 10\n",
        "\n",
        "lossv, accv = [], []\n",
        "for epoch in range(1, epochs + 1):\n",
        "    train(model, optimizer, epoch)\n",
        "    validate(model, lossv, accv)"
      ],
      "execution_count": 0,
      "outputs": [
        {
          "output_type": "stream",
          "text": [
            "Train Epoch: 1 [0/60000 (0%)]\tLoss: 2.293089\n",
            "Train Epoch: 1 [6400/60000 (11%)]\tLoss: 2.196259\n",
            "Train Epoch: 1 [12800/60000 (21%)]\tLoss: 1.670999\n",
            "Train Epoch: 1 [19200/60000 (32%)]\tLoss: 1.227216\n",
            "Train Epoch: 1 [25600/60000 (43%)]\tLoss: 0.808372\n",
            "Train Epoch: 1 [32000/60000 (53%)]\tLoss: 0.622212\n",
            "Train Epoch: 1 [38400/60000 (64%)]\tLoss: 0.591585\n",
            "Train Epoch: 1 [44800/60000 (75%)]\tLoss: 0.476505\n",
            "Train Epoch: 1 [51200/60000 (85%)]\tLoss: 0.316189\n",
            "Train Epoch: 1 [57600/60000 (96%)]\tLoss: 0.236468\n",
            "\n",
            "Validation set: Average loss: 0.3830, Accuracy: 8919/10000 (89%)\n",
            "\n",
            "Train Epoch: 2 [0/60000 (0%)]\tLoss: 0.321348\n",
            "Train Epoch: 2 [6400/60000 (11%)]\tLoss: 0.322156\n",
            "Train Epoch: 2 [12800/60000 (21%)]\tLoss: 0.377481\n",
            "Train Epoch: 2 [19200/60000 (32%)]\tLoss: 0.378323\n",
            "Train Epoch: 2 [25600/60000 (43%)]\tLoss: 0.709540\n",
            "Train Epoch: 2 [32000/60000 (53%)]\tLoss: 0.509254\n",
            "Train Epoch: 2 [38400/60000 (64%)]\tLoss: 0.677607\n",
            "Train Epoch: 2 [44800/60000 (75%)]\tLoss: 0.170704\n",
            "Train Epoch: 2 [51200/60000 (85%)]\tLoss: 0.389492\n",
            "Train Epoch: 2 [57600/60000 (96%)]\tLoss: 0.336436\n",
            "\n",
            "Validation set: Average loss: 0.2985, Accuracy: 9136/10000 (91%)\n",
            "\n",
            "Train Epoch: 3 [0/60000 (0%)]\tLoss: 0.392767\n",
            "Train Epoch: 3 [6400/60000 (11%)]\tLoss: 0.253113\n",
            "Train Epoch: 3 [12800/60000 (21%)]\tLoss: 0.464369\n",
            "Train Epoch: 3 [19200/60000 (32%)]\tLoss: 0.098364\n",
            "Train Epoch: 3 [25600/60000 (43%)]\tLoss: 0.136163\n",
            "Train Epoch: 3 [32000/60000 (53%)]\tLoss: 0.222637\n",
            "Train Epoch: 3 [38400/60000 (64%)]\tLoss: 0.447965\n",
            "Train Epoch: 3 [44800/60000 (75%)]\tLoss: 0.619633\n",
            "Train Epoch: 3 [51200/60000 (85%)]\tLoss: 0.216151\n",
            "Train Epoch: 3 [57600/60000 (96%)]\tLoss: 0.139665\n",
            "\n",
            "Validation set: Average loss: 0.2626, Accuracy: 9241/10000 (92%)\n",
            "\n",
            "Train Epoch: 4 [0/60000 (0%)]\tLoss: 0.293628\n",
            "Train Epoch: 4 [6400/60000 (11%)]\tLoss: 0.517868\n",
            "Train Epoch: 4 [12800/60000 (21%)]\tLoss: 0.192353\n",
            "Train Epoch: 4 [19200/60000 (32%)]\tLoss: 0.116710\n",
            "Train Epoch: 4 [25600/60000 (43%)]\tLoss: 0.470609\n",
            "Train Epoch: 4 [32000/60000 (53%)]\tLoss: 0.089476\n",
            "Train Epoch: 4 [38400/60000 (64%)]\tLoss: 0.117275\n",
            "Train Epoch: 4 [44800/60000 (75%)]\tLoss: 0.231228\n",
            "Train Epoch: 4 [51200/60000 (85%)]\tLoss: 0.321558\n",
            "Train Epoch: 4 [57600/60000 (96%)]\tLoss: 0.118646\n",
            "\n",
            "Validation set: Average loss: 0.2332, Accuracy: 9331/10000 (93%)\n",
            "\n",
            "Train Epoch: 5 [0/60000 (0%)]\tLoss: 0.132411\n",
            "Train Epoch: 5 [6400/60000 (11%)]\tLoss: 0.193177\n",
            "Train Epoch: 5 [12800/60000 (21%)]\tLoss: 0.080184\n",
            "Train Epoch: 5 [19200/60000 (32%)]\tLoss: 0.078889\n",
            "Train Epoch: 5 [25600/60000 (43%)]\tLoss: 0.145523\n",
            "Train Epoch: 5 [32000/60000 (53%)]\tLoss: 0.139082\n",
            "Train Epoch: 5 [38400/60000 (64%)]\tLoss: 0.248856\n",
            "Train Epoch: 5 [44800/60000 (75%)]\tLoss: 0.341560\n",
            "Train Epoch: 5 [51200/60000 (85%)]\tLoss: 0.138615\n",
            "Train Epoch: 5 [57600/60000 (96%)]\tLoss: 0.353041\n",
            "\n",
            "Validation set: Average loss: 0.2169, Accuracy: 9377/10000 (94%)\n",
            "\n",
            "Train Epoch: 6 [0/60000 (0%)]\tLoss: 0.202702\n",
            "Train Epoch: 6 [6400/60000 (11%)]\tLoss: 0.273010\n",
            "Train Epoch: 6 [12800/60000 (21%)]\tLoss: 0.214323\n",
            "Train Epoch: 6 [19200/60000 (32%)]\tLoss: 0.115413\n",
            "Train Epoch: 6 [25600/60000 (43%)]\tLoss: 0.138323\n",
            "Train Epoch: 6 [32000/60000 (53%)]\tLoss: 0.091420\n",
            "Train Epoch: 6 [38400/60000 (64%)]\tLoss: 0.417500\n",
            "Train Epoch: 6 [44800/60000 (75%)]\tLoss: 0.083878\n",
            "Train Epoch: 6 [51200/60000 (85%)]\tLoss: 0.063305\n",
            "Train Epoch: 6 [57600/60000 (96%)]\tLoss: 0.133447\n",
            "\n",
            "Validation set: Average loss: 0.1973, Accuracy: 9408/10000 (94%)\n",
            "\n",
            "Train Epoch: 7 [0/60000 (0%)]\tLoss: 0.188754\n",
            "Train Epoch: 7 [6400/60000 (11%)]\tLoss: 0.048132\n",
            "Train Epoch: 7 [12800/60000 (21%)]\tLoss: 0.117735\n",
            "Train Epoch: 7 [19200/60000 (32%)]\tLoss: 0.198785\n",
            "Train Epoch: 7 [25600/60000 (43%)]\tLoss: 0.248469\n",
            "Train Epoch: 7 [32000/60000 (53%)]\tLoss: 0.227545\n",
            "Train Epoch: 7 [38400/60000 (64%)]\tLoss: 0.263998\n",
            "Train Epoch: 7 [44800/60000 (75%)]\tLoss: 0.161898\n",
            "Train Epoch: 7 [51200/60000 (85%)]\tLoss: 0.033358\n",
            "Train Epoch: 7 [57600/60000 (96%)]\tLoss: 0.091746\n",
            "\n",
            "Validation set: Average loss: 0.1889, Accuracy: 9452/10000 (95%)\n",
            "\n",
            "Train Epoch: 8 [0/60000 (0%)]\tLoss: 0.275770\n",
            "Train Epoch: 8 [6400/60000 (11%)]\tLoss: 0.348542\n",
            "Train Epoch: 8 [12800/60000 (21%)]\tLoss: 0.330292\n",
            "Train Epoch: 8 [19200/60000 (32%)]\tLoss: 0.273378\n",
            "Train Epoch: 8 [25600/60000 (43%)]\tLoss: 0.071957\n",
            "Train Epoch: 8 [32000/60000 (53%)]\tLoss: 0.261778\n",
            "Train Epoch: 8 [38400/60000 (64%)]\tLoss: 0.146009\n",
            "Train Epoch: 8 [44800/60000 (75%)]\tLoss: 0.126216\n",
            "Train Epoch: 8 [51200/60000 (85%)]\tLoss: 0.588384\n",
            "Train Epoch: 8 [57600/60000 (96%)]\tLoss: 0.178913\n",
            "\n",
            "Validation set: Average loss: 0.1728, Accuracy: 9490/10000 (95%)\n",
            "\n",
            "Train Epoch: 9 [0/60000 (0%)]\tLoss: 0.208259\n",
            "Train Epoch: 9 [6400/60000 (11%)]\tLoss: 0.330951\n",
            "Train Epoch: 9 [12800/60000 (21%)]\tLoss: 0.024170\n",
            "Train Epoch: 9 [19200/60000 (32%)]\tLoss: 0.177348\n",
            "Train Epoch: 9 [25600/60000 (43%)]\tLoss: 0.232986\n",
            "Train Epoch: 9 [32000/60000 (53%)]\tLoss: 0.146477\n",
            "Train Epoch: 9 [38400/60000 (64%)]\tLoss: 0.081770\n",
            "Train Epoch: 9 [44800/60000 (75%)]\tLoss: 0.191491\n",
            "Train Epoch: 9 [51200/60000 (85%)]\tLoss: 0.032396\n",
            "Train Epoch: 9 [57600/60000 (96%)]\tLoss: 0.180040\n",
            "\n",
            "Validation set: Average loss: 0.1595, Accuracy: 9513/10000 (95%)\n",
            "\n",
            "Train Epoch: 10 [0/60000 (0%)]\tLoss: 0.075726\n",
            "Train Epoch: 10 [6400/60000 (11%)]\tLoss: 0.175156\n",
            "Train Epoch: 10 [12800/60000 (21%)]\tLoss: 0.167383\n",
            "Train Epoch: 10 [19200/60000 (32%)]\tLoss: 0.333865\n",
            "Train Epoch: 10 [25600/60000 (43%)]\tLoss: 0.339999\n",
            "Train Epoch: 10 [32000/60000 (53%)]\tLoss: 0.294481\n",
            "Train Epoch: 10 [38400/60000 (64%)]\tLoss: 0.384802\n",
            "Train Epoch: 10 [44800/60000 (75%)]\tLoss: 0.068882\n",
            "Train Epoch: 10 [51200/60000 (85%)]\tLoss: 0.182870\n",
            "Train Epoch: 10 [57600/60000 (96%)]\tLoss: 0.129791\n",
            "\n",
            "Validation set: Average loss: 0.1513, Accuracy: 9547/10000 (95%)\n",
            "\n",
            "CPU times: user 1min 48s, sys: 1.25 s, total: 1min 49s\n",
            "Wall time: 1min 50s\n"
          ],
          "name": "stdout"
        }
      ]
    },
    {
      "cell_type": "markdown",
      "metadata": {
        "id": "fqI_dIneVR-o",
        "colab_type": "text"
      },
      "source": [
        "Training with Dropout"
      ]
    },
    {
      "cell_type": "code",
      "metadata": {
        "id": "RPiJfdeqTJqb",
        "colab_type": "code",
        "outputId": "c5441dd7-6ce5-4e18-ceee-be6f6d606d6a",
        "colab": {
          "base_uri": "https://localhost:8080/",
          "height": 1000
        }
      },
      "source": [
        "%%time\n",
        "\n",
        "lossvDrop, accvDrop = [], []\n",
        "for epoch in range(1, epochs + 1):\n",
        "    train(modelDrop, optimizerDrop, epoch)\n",
        "    validate(modelDrop, lossvDrop, accvDrop)"
      ],
      "execution_count": 0,
      "outputs": [
        {
          "output_type": "stream",
          "text": [
            "Train Epoch: 1 [0/60000 (0%)]\tLoss: 2.317880\n",
            "Train Epoch: 1 [6400/60000 (11%)]\tLoss: 2.254598\n",
            "Train Epoch: 1 [12800/60000 (21%)]\tLoss: 2.141736\n",
            "Train Epoch: 1 [19200/60000 (32%)]\tLoss: 1.538691\n",
            "Train Epoch: 1 [25600/60000 (43%)]\tLoss: 1.361586\n",
            "Train Epoch: 1 [32000/60000 (53%)]\tLoss: 0.974049\n",
            "Train Epoch: 1 [38400/60000 (64%)]\tLoss: 0.977675\n",
            "Train Epoch: 1 [44800/60000 (75%)]\tLoss: 0.790266\n",
            "Train Epoch: 1 [51200/60000 (85%)]\tLoss: 0.822417\n",
            "Train Epoch: 1 [57600/60000 (96%)]\tLoss: 0.560463\n",
            "\n",
            "Validation set: Average loss: 0.4696, Accuracy: 8750/10000 (88%)\n",
            "\n",
            "Train Epoch: 2 [0/60000 (0%)]\tLoss: 0.471744\n",
            "Train Epoch: 2 [6400/60000 (11%)]\tLoss: 0.428893\n",
            "Train Epoch: 2 [12800/60000 (21%)]\tLoss: 0.462580\n",
            "Train Epoch: 2 [19200/60000 (32%)]\tLoss: 0.487351\n",
            "Train Epoch: 2 [25600/60000 (43%)]\tLoss: 0.611400\n",
            "Train Epoch: 2 [32000/60000 (53%)]\tLoss: 0.478734\n",
            "Train Epoch: 2 [38400/60000 (64%)]\tLoss: 0.483528\n",
            "Train Epoch: 2 [44800/60000 (75%)]\tLoss: 0.493267\n",
            "Train Epoch: 2 [51200/60000 (85%)]\tLoss: 0.348467\n",
            "Train Epoch: 2 [57600/60000 (96%)]\tLoss: 0.511900\n",
            "\n",
            "Validation set: Average loss: 0.3330, Accuracy: 9047/10000 (90%)\n",
            "\n",
            "Train Epoch: 3 [0/60000 (0%)]\tLoss: 0.458146\n",
            "Train Epoch: 3 [6400/60000 (11%)]\tLoss: 0.486492\n",
            "Train Epoch: 3 [12800/60000 (21%)]\tLoss: 0.292342\n",
            "Train Epoch: 3 [19200/60000 (32%)]\tLoss: 0.490807\n",
            "Train Epoch: 3 [25600/60000 (43%)]\tLoss: 0.287014\n",
            "Train Epoch: 3 [32000/60000 (53%)]\tLoss: 0.330547\n",
            "Train Epoch: 3 [38400/60000 (64%)]\tLoss: 0.309598\n",
            "Train Epoch: 3 [44800/60000 (75%)]\tLoss: 0.360039\n",
            "Train Epoch: 3 [51200/60000 (85%)]\tLoss: 0.449827\n",
            "Train Epoch: 3 [57600/60000 (96%)]\tLoss: 0.305959\n",
            "\n",
            "Validation set: Average loss: 0.2785, Accuracy: 9186/10000 (92%)\n",
            "\n",
            "Train Epoch: 4 [0/60000 (0%)]\tLoss: 0.153243\n",
            "Train Epoch: 4 [6400/60000 (11%)]\tLoss: 0.327859\n",
            "Train Epoch: 4 [12800/60000 (21%)]\tLoss: 0.585835\n",
            "Train Epoch: 4 [19200/60000 (32%)]\tLoss: 0.221245\n",
            "Train Epoch: 4 [25600/60000 (43%)]\tLoss: 0.526952\n",
            "Train Epoch: 4 [32000/60000 (53%)]\tLoss: 0.301545\n",
            "Train Epoch: 4 [38400/60000 (64%)]\tLoss: 0.208648\n",
            "Train Epoch: 4 [44800/60000 (75%)]\tLoss: 0.177469\n",
            "Train Epoch: 4 [51200/60000 (85%)]\tLoss: 0.171372\n",
            "Train Epoch: 4 [57600/60000 (96%)]\tLoss: 0.111507\n",
            "\n",
            "Validation set: Average loss: 0.2437, Accuracy: 9281/10000 (93%)\n",
            "\n",
            "Train Epoch: 5 [0/60000 (0%)]\tLoss: 0.689449\n",
            "Train Epoch: 5 [6400/60000 (11%)]\tLoss: 0.594257\n",
            "Train Epoch: 5 [12800/60000 (21%)]\tLoss: 0.145871\n",
            "Train Epoch: 5 [19200/60000 (32%)]\tLoss: 0.282664\n",
            "Train Epoch: 5 [25600/60000 (43%)]\tLoss: 0.354148\n",
            "Train Epoch: 5 [32000/60000 (53%)]\tLoss: 0.498489\n",
            "Train Epoch: 5 [38400/60000 (64%)]\tLoss: 0.607873\n",
            "Train Epoch: 5 [44800/60000 (75%)]\tLoss: 0.396654\n",
            "Train Epoch: 5 [51200/60000 (85%)]\tLoss: 0.377721\n",
            "Train Epoch: 5 [57600/60000 (96%)]\tLoss: 0.271541\n",
            "\n",
            "Validation set: Average loss: 0.2184, Accuracy: 9363/10000 (94%)\n",
            "\n",
            "Train Epoch: 6 [0/60000 (0%)]\tLoss: 0.182200\n",
            "Train Epoch: 6 [6400/60000 (11%)]\tLoss: 0.279893\n",
            "Train Epoch: 6 [12800/60000 (21%)]\tLoss: 0.163577\n",
            "Train Epoch: 6 [19200/60000 (32%)]\tLoss: 0.674068\n",
            "Train Epoch: 6 [25600/60000 (43%)]\tLoss: 0.417083\n",
            "Train Epoch: 6 [32000/60000 (53%)]\tLoss: 0.220151\n",
            "Train Epoch: 6 [38400/60000 (64%)]\tLoss: 0.150162\n",
            "Train Epoch: 6 [44800/60000 (75%)]\tLoss: 0.061871\n",
            "Train Epoch: 6 [51200/60000 (85%)]\tLoss: 0.176926\n",
            "Train Epoch: 6 [57600/60000 (96%)]\tLoss: 0.227227\n",
            "\n",
            "Validation set: Average loss: 0.1999, Accuracy: 9418/10000 (94%)\n",
            "\n",
            "Train Epoch: 7 [0/60000 (0%)]\tLoss: 0.251911\n",
            "Train Epoch: 7 [6400/60000 (11%)]\tLoss: 0.226790\n",
            "Train Epoch: 7 [12800/60000 (21%)]\tLoss: 0.029538\n",
            "Train Epoch: 7 [19200/60000 (32%)]\tLoss: 0.241591\n",
            "Train Epoch: 7 [25600/60000 (43%)]\tLoss: 0.162576\n",
            "Train Epoch: 7 [32000/60000 (53%)]\tLoss: 0.142729\n",
            "Train Epoch: 7 [38400/60000 (64%)]\tLoss: 0.360807\n",
            "Train Epoch: 7 [44800/60000 (75%)]\tLoss: 0.140642\n",
            "Train Epoch: 7 [51200/60000 (85%)]\tLoss: 0.169026\n",
            "Train Epoch: 7 [57600/60000 (96%)]\tLoss: 0.278514\n",
            "\n",
            "Validation set: Average loss: 0.1857, Accuracy: 9446/10000 (94%)\n",
            "\n",
            "Train Epoch: 8 [0/60000 (0%)]\tLoss: 0.382172\n",
            "Train Epoch: 8 [6400/60000 (11%)]\tLoss: 0.407504\n",
            "Train Epoch: 8 [12800/60000 (21%)]\tLoss: 0.203664\n",
            "Train Epoch: 8 [19200/60000 (32%)]\tLoss: 0.323087\n",
            "Train Epoch: 8 [25600/60000 (43%)]\tLoss: 0.334248\n",
            "Train Epoch: 8 [32000/60000 (53%)]\tLoss: 0.420355\n",
            "Train Epoch: 8 [38400/60000 (64%)]\tLoss: 0.332179\n",
            "Train Epoch: 8 [44800/60000 (75%)]\tLoss: 0.175298\n",
            "Train Epoch: 8 [51200/60000 (85%)]\tLoss: 0.285161\n",
            "Train Epoch: 8 [57600/60000 (96%)]\tLoss: 0.098405\n",
            "\n",
            "Validation set: Average loss: 0.1718, Accuracy: 9493/10000 (95%)\n",
            "\n",
            "Train Epoch: 9 [0/60000 (0%)]\tLoss: 0.085391\n",
            "Train Epoch: 9 [6400/60000 (11%)]\tLoss: 0.198833\n",
            "Train Epoch: 9 [12800/60000 (21%)]\tLoss: 0.146873\n",
            "Train Epoch: 9 [19200/60000 (32%)]\tLoss: 0.186953\n",
            "Train Epoch: 9 [25600/60000 (43%)]\tLoss: 0.290755\n",
            "Train Epoch: 9 [32000/60000 (53%)]\tLoss: 0.121413\n",
            "Train Epoch: 9 [38400/60000 (64%)]\tLoss: 0.355500\n",
            "Train Epoch: 9 [44800/60000 (75%)]\tLoss: 0.326468\n",
            "Train Epoch: 9 [51200/60000 (85%)]\tLoss: 0.169492\n",
            "Train Epoch: 9 [57600/60000 (96%)]\tLoss: 0.630531\n",
            "\n",
            "Validation set: Average loss: 0.1614, Accuracy: 9515/10000 (95%)\n",
            "\n",
            "Train Epoch: 10 [0/60000 (0%)]\tLoss: 0.120965\n",
            "Train Epoch: 10 [6400/60000 (11%)]\tLoss: 0.209615\n",
            "Train Epoch: 10 [12800/60000 (21%)]\tLoss: 0.296306\n",
            "Train Epoch: 10 [19200/60000 (32%)]\tLoss: 0.173916\n",
            "Train Epoch: 10 [25600/60000 (43%)]\tLoss: 0.338139\n",
            "Train Epoch: 10 [32000/60000 (53%)]\tLoss: 0.053176\n",
            "Train Epoch: 10 [38400/60000 (64%)]\tLoss: 0.071157\n",
            "Train Epoch: 10 [44800/60000 (75%)]\tLoss: 0.197579\n",
            "Train Epoch: 10 [51200/60000 (85%)]\tLoss: 0.152193\n",
            "Train Epoch: 10 [57600/60000 (96%)]\tLoss: 0.511192\n",
            "\n",
            "Validation set: Average loss: 0.1535, Accuracy: 9546/10000 (95%)\n",
            "\n",
            "CPU times: user 1min 49s, sys: 1.24 s, total: 1min 51s\n",
            "Wall time: 1min 52s\n"
          ],
          "name": "stdout"
        }
      ]
    },
    {
      "cell_type": "markdown",
      "metadata": {
        "id": "nhG5ZvXIMpZ2",
        "colab_type": "text"
      },
      "source": [
        "Training with Batchnormalization"
      ]
    },
    {
      "cell_type": "code",
      "metadata": {
        "id": "IUWKOAvjM0QI",
        "colab_type": "code",
        "outputId": "76a4fc62-fd96-4623-975b-602624e38feb",
        "colab": {
          "base_uri": "https://localhost:8080/",
          "height": 1000
        }
      },
      "source": [
        "%%time\n",
        "\n",
        "lossvBN, accvBN = [], []\n",
        "for epoch in range(1, epochs + 1):\n",
        "    train(modelBatchNorm, optimizerBatchNorm, epoch)\n",
        "    validate(modelBatchNorm, lossvBN, accvBN)"
      ],
      "execution_count": 0,
      "outputs": [
        {
          "output_type": "stream",
          "text": [
            "Train Epoch: 1 [0/60000 (0%)]\tLoss: 2.391911\n",
            "Train Epoch: 1 [6400/60000 (11%)]\tLoss: 0.642980\n",
            "Train Epoch: 1 [12800/60000 (21%)]\tLoss: 0.326639\n",
            "Train Epoch: 1 [19200/60000 (32%)]\tLoss: 0.579261\n",
            "Train Epoch: 1 [25600/60000 (43%)]\tLoss: 0.087236\n",
            "Train Epoch: 1 [32000/60000 (53%)]\tLoss: 0.233374\n",
            "Train Epoch: 1 [38400/60000 (64%)]\tLoss: 0.360205\n",
            "Train Epoch: 1 [44800/60000 (75%)]\tLoss: 0.244465\n",
            "Train Epoch: 1 [51200/60000 (85%)]\tLoss: 0.138785\n",
            "Train Epoch: 1 [57600/60000 (96%)]\tLoss: 0.309697\n",
            "\n",
            "Validation set: Average loss: 0.1644, Accuracy: 9528/10000 (95%)\n",
            "\n",
            "Train Epoch: 2 [0/60000 (0%)]\tLoss: 0.109697\n",
            "Train Epoch: 2 [6400/60000 (11%)]\tLoss: 0.314239\n",
            "Train Epoch: 2 [12800/60000 (21%)]\tLoss: 0.045751\n",
            "Train Epoch: 2 [19200/60000 (32%)]\tLoss: 0.079419\n",
            "Train Epoch: 2 [25600/60000 (43%)]\tLoss: 0.113133\n",
            "Train Epoch: 2 [32000/60000 (53%)]\tLoss: 0.168525\n",
            "Train Epoch: 2 [38400/60000 (64%)]\tLoss: 0.142594\n",
            "Train Epoch: 2 [44800/60000 (75%)]\tLoss: 0.078452\n",
            "Train Epoch: 2 [51200/60000 (85%)]\tLoss: 0.211821\n",
            "Train Epoch: 2 [57600/60000 (96%)]\tLoss: 0.148733\n",
            "\n",
            "Validation set: Average loss: 0.1322, Accuracy: 9590/10000 (96%)\n",
            "\n",
            "Train Epoch: 3 [0/60000 (0%)]\tLoss: 0.284422\n",
            "Train Epoch: 3 [6400/60000 (11%)]\tLoss: 0.185326\n",
            "Train Epoch: 3 [12800/60000 (21%)]\tLoss: 0.071475\n",
            "Train Epoch: 3 [19200/60000 (32%)]\tLoss: 0.126552\n",
            "Train Epoch: 3 [25600/60000 (43%)]\tLoss: 0.052761\n",
            "Train Epoch: 3 [32000/60000 (53%)]\tLoss: 0.048082\n",
            "Train Epoch: 3 [38400/60000 (64%)]\tLoss: 0.058623\n",
            "Train Epoch: 3 [44800/60000 (75%)]\tLoss: 0.144182\n",
            "Train Epoch: 3 [51200/60000 (85%)]\tLoss: 0.242121\n",
            "Train Epoch: 3 [57600/60000 (96%)]\tLoss: 0.042449\n",
            "\n",
            "Validation set: Average loss: 0.1107, Accuracy: 9679/10000 (97%)\n",
            "\n",
            "Train Epoch: 4 [0/60000 (0%)]\tLoss: 0.027808\n",
            "Train Epoch: 4 [6400/60000 (11%)]\tLoss: 0.034479\n",
            "Train Epoch: 4 [12800/60000 (21%)]\tLoss: 0.278711\n",
            "Train Epoch: 4 [19200/60000 (32%)]\tLoss: 0.068893\n",
            "Train Epoch: 4 [25600/60000 (43%)]\tLoss: 0.139451\n",
            "Train Epoch: 4 [32000/60000 (53%)]\tLoss: 0.044197\n",
            "Train Epoch: 4 [38400/60000 (64%)]\tLoss: 0.247961\n",
            "Train Epoch: 4 [44800/60000 (75%)]\tLoss: 0.114927\n",
            "Train Epoch: 4 [51200/60000 (85%)]\tLoss: 0.132721\n",
            "Train Epoch: 4 [57600/60000 (96%)]\tLoss: 0.178307\n",
            "\n",
            "Validation set: Average loss: 0.1059, Accuracy: 9693/10000 (97%)\n",
            "\n",
            "Train Epoch: 5 [0/60000 (0%)]\tLoss: 0.093826\n",
            "Train Epoch: 5 [6400/60000 (11%)]\tLoss: 0.043337\n",
            "Train Epoch: 5 [12800/60000 (21%)]\tLoss: 0.243619\n",
            "Train Epoch: 5 [19200/60000 (32%)]\tLoss: 0.117421\n",
            "Train Epoch: 5 [25600/60000 (43%)]\tLoss: 0.133560\n",
            "Train Epoch: 5 [32000/60000 (53%)]\tLoss: 0.012158\n",
            "Train Epoch: 5 [38400/60000 (64%)]\tLoss: 0.113534\n",
            "Train Epoch: 5 [44800/60000 (75%)]\tLoss: 0.377287\n",
            "Train Epoch: 5 [51200/60000 (85%)]\tLoss: 0.034737\n",
            "Train Epoch: 5 [57600/60000 (96%)]\tLoss: 0.225044\n",
            "\n",
            "Validation set: Average loss: 0.1021, Accuracy: 9679/10000 (97%)\n",
            "\n",
            "Train Epoch: 6 [0/60000 (0%)]\tLoss: 0.151403\n",
            "Train Epoch: 6 [6400/60000 (11%)]\tLoss: 0.180597\n",
            "Train Epoch: 6 [12800/60000 (21%)]\tLoss: 0.084031\n",
            "Train Epoch: 6 [19200/60000 (32%)]\tLoss: 0.196479\n",
            "Train Epoch: 6 [25600/60000 (43%)]\tLoss: 0.188795\n",
            "Train Epoch: 6 [32000/60000 (53%)]\tLoss: 0.106512\n",
            "Train Epoch: 6 [38400/60000 (64%)]\tLoss: 0.141818\n",
            "Train Epoch: 6 [44800/60000 (75%)]\tLoss: 0.037615\n",
            "Train Epoch: 6 [51200/60000 (85%)]\tLoss: 0.025314\n",
            "Train Epoch: 6 [57600/60000 (96%)]\tLoss: 0.041831\n",
            "\n",
            "Validation set: Average loss: 0.0991, Accuracy: 9701/10000 (97%)\n",
            "\n",
            "Train Epoch: 7 [0/60000 (0%)]\tLoss: 0.076646\n",
            "Train Epoch: 7 [6400/60000 (11%)]\tLoss: 0.128503\n",
            "Train Epoch: 7 [12800/60000 (21%)]\tLoss: 0.114836\n",
            "Train Epoch: 7 [19200/60000 (32%)]\tLoss: 0.096561\n",
            "Train Epoch: 7 [25600/60000 (43%)]\tLoss: 0.023072\n",
            "Train Epoch: 7 [32000/60000 (53%)]\tLoss: 0.099401\n",
            "Train Epoch: 7 [38400/60000 (64%)]\tLoss: 0.039426\n",
            "Train Epoch: 7 [44800/60000 (75%)]\tLoss: 0.082428\n",
            "Train Epoch: 7 [51200/60000 (85%)]\tLoss: 0.063204\n",
            "Train Epoch: 7 [57600/60000 (96%)]\tLoss: 0.118584\n",
            "\n",
            "Validation set: Average loss: 0.0906, Accuracy: 9714/10000 (97%)\n",
            "\n",
            "Train Epoch: 8 [0/60000 (0%)]\tLoss: 0.106811\n",
            "Train Epoch: 8 [6400/60000 (11%)]\tLoss: 0.111762\n",
            "Train Epoch: 8 [12800/60000 (21%)]\tLoss: 0.021875\n",
            "Train Epoch: 8 [19200/60000 (32%)]\tLoss: 0.060259\n",
            "Train Epoch: 8 [25600/60000 (43%)]\tLoss: 0.009855\n",
            "Train Epoch: 8 [32000/60000 (53%)]\tLoss: 0.024627\n",
            "Train Epoch: 8 [38400/60000 (64%)]\tLoss: 0.042689\n",
            "Train Epoch: 8 [44800/60000 (75%)]\tLoss: 0.031035\n",
            "Train Epoch: 8 [51200/60000 (85%)]\tLoss: 0.072187\n",
            "Train Epoch: 8 [57600/60000 (96%)]\tLoss: 0.113271\n",
            "\n",
            "Validation set: Average loss: 0.0858, Accuracy: 9739/10000 (97%)\n",
            "\n",
            "Train Epoch: 9 [0/60000 (0%)]\tLoss: 0.068370\n",
            "Train Epoch: 9 [6400/60000 (11%)]\tLoss: 0.012331\n",
            "Train Epoch: 9 [12800/60000 (21%)]\tLoss: 0.117908\n",
            "Train Epoch: 9 [19200/60000 (32%)]\tLoss: 0.028092\n",
            "Train Epoch: 9 [25600/60000 (43%)]\tLoss: 0.048953\n",
            "Train Epoch: 9 [32000/60000 (53%)]\tLoss: 0.016006\n",
            "Train Epoch: 9 [38400/60000 (64%)]\tLoss: 0.035664\n",
            "Train Epoch: 9 [44800/60000 (75%)]\tLoss: 0.006075\n",
            "Train Epoch: 9 [51200/60000 (85%)]\tLoss: 0.021958\n",
            "Train Epoch: 9 [57600/60000 (96%)]\tLoss: 0.035235\n",
            "\n",
            "Validation set: Average loss: 0.0900, Accuracy: 9723/10000 (97%)\n",
            "\n",
            "Train Epoch: 10 [0/60000 (0%)]\tLoss: 0.003317\n",
            "Train Epoch: 10 [6400/60000 (11%)]\tLoss: 0.014955\n",
            "Train Epoch: 10 [12800/60000 (21%)]\tLoss: 0.060999\n",
            "Train Epoch: 10 [19200/60000 (32%)]\tLoss: 0.033014\n",
            "Train Epoch: 10 [25600/60000 (43%)]\tLoss: 0.195808\n",
            "Train Epoch: 10 [32000/60000 (53%)]\tLoss: 0.040013\n",
            "Train Epoch: 10 [38400/60000 (64%)]\tLoss: 0.036424\n",
            "Train Epoch: 10 [44800/60000 (75%)]\tLoss: 0.009231\n",
            "Train Epoch: 10 [51200/60000 (85%)]\tLoss: 0.066177\n",
            "Train Epoch: 10 [57600/60000 (96%)]\tLoss: 0.241947\n",
            "\n",
            "Validation set: Average loss: 0.0868, Accuracy: 9732/10000 (97%)\n",
            "\n",
            "CPU times: user 1min 58s, sys: 1.32 s, total: 1min 59s\n",
            "Wall time: 2min\n"
          ],
          "name": "stdout"
        }
      ]
    },
    {
      "cell_type": "markdown",
      "metadata": {
        "id": "l0YZ4vNbQ3zI",
        "colab_type": "text"
      },
      "source": [
        "Let's now visualize how the training progressed. \n",
        "\n",
        "* *Loss* is a function of the difference of the network output and the target values.  We are minimizing the loss function during training so it should decrease over time.\n",
        "* *Accuracy* is the classification accuracy for the test data."
      ]
    },
    {
      "cell_type": "code",
      "metadata": {
        "id": "MN2LcmsHQ3zJ",
        "colab_type": "code",
        "outputId": "8cb79e20-addd-4515-f23e-d26462a8e12a",
        "colab": {
          "base_uri": "https://localhost:8080/",
          "height": 465
        }
      },
      "source": [
        "plt.figure(figsize=(5,3))\n",
        "plt.plot(np.arange(1,epochs+1), lossv, label='no dropout')\n",
        "plt.plot(np.arange(1,epochs+1), lossvDrop, label='with dropout')\n",
        "plt.plot(np.arange(1,epochs+1), lossvBN, label='with batchnormalization')\n",
        "plt.legend(loc='upper left');\n",
        "plt.xlabel('epoch')\n",
        "plt.title('validation loss')\n",
        "plt.show()\n",
        "\n",
        "plt.figure(figsize=(5,3))\n",
        "plt.plot(np.arange(1,epochs+1), accv, label='no dropout')\n",
        "plt.plot(np.arange(1,epochs+1), accvDrop, label='with dropout')\n",
        "plt.plot(np.arange(1,epochs+1), accvBN, label='with batchnormalization')\n",
        "plt.legend(loc='upper left');\n",
        "plt.xlabel('epoch')\n",
        "plt.title('validation accuracy');"
      ],
      "execution_count": 0,
      "outputs": [
        {
          "output_type": "display_data",
          "data": {
            "image/png": "[encoded data removed]",
            "text/plain": [
              "<Figure size 360x216 with 1 Axes>"
            ]
          },
          "metadata": {
            "tags": []
          }
        },
        {
          "output_type": "display_data",
          "data": {
            "image/png": "[encoded data removed]",
            "text/plain": [
              "<Figure size 360x216 with 1 Axes>"
            ]
          },
          "metadata": {
            "tags": []
          }
        }
      ]
    },
    {
      "cell_type": "markdown",
      "metadata": {
        "id": "1-o8iKwlQ3zM",
        "colab_type": "text"
      },
      "source": [
        "### Question (model tuning): compare the gain when the first layer has less neurons (50 instead of 256)\n",
        "\n"
      ]
    },
    {
      "cell_type": "markdown",
      "metadata": {
        "id": "S8OlU4dNLCxZ",
        "colab_type": "text"
      },
      "source": [
        "H1 = 256\n",
        "\n",
        "*   model: 33.2s 92%\n",
        "*   dropout: 34.1s 92%\n",
        "*   BN: 36.7s 98%\n",
        "\n",
        "H1 = 50\n",
        "\n",
        "*   model: 32.3s 93%\n",
        "*   dropout: 34.1s 92%\n",
        "*   BN: 36.6s 97%"
      ]
    },
    {
      "cell_type": "markdown",
      "metadata": {
        "id": "8E1SmvXmOcMn",
        "colab_type": "text"
      },
      "source": [
        "### Question (model tuning): increase the number of epochs for the training (10 instead of 3)"
      ]
    }
  ]
}