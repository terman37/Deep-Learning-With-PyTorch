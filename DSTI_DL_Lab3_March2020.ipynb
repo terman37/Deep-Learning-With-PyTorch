{
  "nbformat": 4,
  "nbformat_minor": 0,
  "metadata": {
    "kernelspec": {
      "name": "python3",
      "display_name": "Python 3"
    },
    "language_info": {
      "codemirror_mode": {
        "name": "ipython",
        "version": 3
      },
      "file_extension": ".py",
      "mimetype": "text/x-python",
      "name": "python",
      "nbconvert_exporter": "python",
      "pygments_lexer": "ipython3",
      "version": "3.7.3"
    },
    "colab": {
      "name": "DSTI_DL_Lab3_March2020.ipynb",
      "provenance": [],
      "collapsed_sections": [],
      "toc_visible": true
    }
  },
  "cells": [
    {
      "cell_type": "markdown",
      "metadata": {
        "id": "gtBkaur_mwPQ",
        "colab_type": "text"
      },
      "source": [
        "# Training a Classifier\n",
        "\n",
        "\n",
        "This is it. You have seen how to define neural networks, compute loss and make\n",
        "updates to the weights of the network.\n",
        "\n",
        "Now you might be thinking,\n",
        "\n",
        "**What about data?**\n",
        "\n",
        "\n",
        "Generally, when you have to deal with image, text, audio or video data,\n",
        "you can use standard python packages that load data into a numpy array.\n",
        "Then you can convert this array into a ``torch.*Tensor``.\n",
        "\n",
        "-  For images, packages such as Pillow, OpenCV are useful\n",
        "-  For audio, packages such as scipy and librosa\n",
        "-  For text, either raw Python or Cython based loading, or NLTK and\n",
        "   SpaCy are useful\n",
        "\n",
        "Specifically for vision, Pytorch team has created a package called\n",
        "``torchvision``, that has data loaders for common datasets such as\n",
        "Imagenet, CIFAR10, MNIST, etc. and data transformers for images, viz.,\n",
        "``torchvision.datasets`` and ``torch.utils.data.DataLoader``.\n",
        "\n",
        "This provides a huge convenience and avoids writing boilerplate code.\n",
        "\n",
        "For this tutorial, we will use the CIFAR10 dataset.\n",
        "It has the classes: ‘airplane’, ‘automobile’, ‘bird’, ‘cat’, ‘deer’,\n",
        "‘dog’, ‘frog’, ‘horse’, ‘ship’, ‘truck’. The images in CIFAR-10 are of\n",
        "size 3x32x32, i.e. 3-channel color images of 32x32 pixels in size.\n",
        "\n",
        "\n",
        "   ![cifar10](https://miro.medium.com/max/1648/1*SZnidBt7CQ4Xqcag6rd8Ew.png)\n",
        "\n",
        "\n"
      ]
    },
    {
      "cell_type": "markdown",
      "metadata": {
        "id": "qBMuIZjPRSwV",
        "colab_type": "text"
      },
      "source": [
        "# How to use Dataset and DataLoader?"
      ]
    },
    {
      "cell_type": "markdown",
      "metadata": {
        "id": "UYxvilmtRS1D",
        "colab_type": "text"
      },
      "source": [
        "## Data Loading"
      ]
    },
    {
      "cell_type": "markdown",
      "metadata": {
        "id": "kTI5KIOXRS4Q",
        "colab_type": "text"
      },
      "source": [
        "For convenience, PyTorch provides a number of utilities to load, preprocess and interact with datasets. These helper classes and functions are found in the torch.utils.data module. The two major concepts here are:\n",
        "\n",
        "\n",
        "\n",
        "1.   A Dataset, which encapsulates a source of data,\n",
        "2.   A DataLoader, which is responsible for loading a dataset, possibly in parallel.\n",
        "\n"
      ]
    },
    {
      "cell_type": "markdown",
      "metadata": {
        "id": "qgegVUtsRizA",
        "colab_type": "text"
      },
      "source": [
        "New datasets are created by subclassing the torch.utils.data.Dataset class and overriding the \\_\\_len__ method to return the number of samples in the dataset and the \\_\\_getitem__ method to access a single value at a certain index. \n",
        "​\n",
        "For example, this would be a simple dataset encapsulating a range of integers:"
      ]
    },
    {
      "cell_type": "code",
      "metadata": {
        "id": "bOoxqt147pAM",
        "colab_type": "code",
        "colab": {}
      },
      "source": [
        "import math\n",
        "import torch\n",
        "\n",
        "class RangeDataset(torch.utils.data.Dataset):\n",
        "  def __init__(self, start, end, step=1):\n",
        "    self.start = start\n",
        "    self.end = end\n",
        "    self.step = step\n",
        "\n",
        "  def __len__(self):\n",
        "    return math.ceil((self.end - self.start) / self.step)\n",
        "\n",
        "  def __getitem__(self, index):\n",
        "    value = self.start + index * self.step\n",
        "    assert value < self.end\n",
        "    return value"
      ],
      "execution_count": 0,
      "outputs": []
    },
    {
      "cell_type": "markdown",
      "metadata": {
        "id": "GeKseT00RpKU",
        "colab_type": "text"
      },
      "source": [
        "Inside \\_\\_init__ we would usually configure some paths or change the set of samples ultimately returned. \n",
        "\n",
        "In \\_\\_len__, we specify the upper bound for the index with which \\_\\_getitem__ may be called.\n",
        "\n",
        "In \\_\\_getitem__ we return the actual sample, which could be an image or an audio snippet."
      ]
    },
    {
      "cell_type": "code",
      "metadata": {
        "id": "XUwUAiJu7omE",
        "colab_type": "code",
        "outputId": "6a90fdd0-ca24-45d1-8fbb-3fefb5026c22",
        "colab": {
          "base_uri": "https://localhost:8080/",
          "height": 34
        }
      },
      "source": [
        "dataset = RangeDataset(0, 10, 2)\n",
        "print(len(dataset))"
      ],
      "execution_count": 0,
      "outputs": [
        {
          "output_type": "stream",
          "text": [
            "5\n"
          ],
          "name": "stdout"
        }
      ]
    },
    {
      "cell_type": "markdown",
      "metadata": {
        "id": "2h6K3PmbRtAR",
        "colab_type": "text"
      },
      "source": [
        "## DataLoader\n",
        "\n",
        "To iterate over the dataset we could, in theory, simply have a for i in range loop and access samples via \\_\\_getitem__. However, it would be much more convenient if the dataset implemented the iterator protocol itself, so we could simply loop over samples with for sample in dataset. Fortunately, this functionality is provided by the DataLoader class. \n",
        "\n",
        "A DataLoader object takes a dataset and a number of options that configure the way samples are retrieved. For example, it is possible to load samples in parallel, using multiple processes. For this, the DataLoader constructor takes a num_workers argument. Note that DataLoaders always return batches, whose size is set with the batch_size parameter. Here is a simple example:\n",
        "\n"
      ]
    },
    {
      "cell_type": "code",
      "metadata": {
        "id": "Z9uwLC2OR1fB",
        "colab_type": "code",
        "outputId": "e8e54da4-4ed0-418b-8b7a-e444ad4a5fe9",
        "colab": {
          "base_uri": "https://localhost:8080/",
          "height": 51
        }
      },
      "source": [
        "dataset = RangeDataset(0, 9)\n",
        "data_loader = torch.utils.data.DataLoader(\n",
        "    dataset, \n",
        "    batch_size=4, \n",
        "    shuffle=True,  # set to True to have the data reshuffled at every epoch\n",
        "    num_workers=2, # how many subprocesses to use for data loading\n",
        "    drop_last=True # set to True to drop the last incomplete batch, if the dataset size is not divisible by the batch size.\n",
        "  )\n",
        "\n",
        "for i, batch in enumerate(data_loader):\n",
        "  print(i, batch)"
      ],
      "execution_count": 0,
      "outputs": [
        {
          "output_type": "stream",
          "text": [
            "0 tensor([5, 4, 7, 8])\n",
            "1 tensor([2, 3, 1, 0])\n"
          ],
          "name": "stdout"
        }
      ]
    },
    {
      "cell_type": "markdown",
      "metadata": {
        "id": "RYlJQOZrRtDw",
        "colab_type": "text"
      },
      "source": [
        "Use an iterator\n",
        "\n",
        "See details [here](https://pytorch.org/docs/stable/data.html#torch.utils.data.IterableDataset)"
      ]
    },
    {
      "cell_type": "code",
      "metadata": {
        "id": "RhhyvxEcR-Zs",
        "colab_type": "code",
        "outputId": "3d51f040-c62c-4dae-a4b9-35addb13836a",
        "colab": {
          "base_uri": "https://localhost:8080/",
          "height": 68
        }
      },
      "source": [
        "dataset_iter = iter(dataset)\n",
        "print(next(dataset_iter))\n",
        "print(next(dataset_iter))\n",
        "print(next(dataset_iter))"
      ],
      "execution_count": 0,
      "outputs": [
        {
          "output_type": "stream",
          "text": [
            "0\n",
            "1\n",
            "2\n"
          ],
          "name": "stdout"
        }
      ]
    },
    {
      "cell_type": "code",
      "metadata": {
        "id": "TfrOJoLsSBkl",
        "colab_type": "code",
        "outputId": "099c0196-5d99-4f2b-99c8-ac3a29507f9c",
        "colab": {
          "base_uri": "https://localhost:8080/",
          "height": 170
        }
      },
      "source": [
        "dataset_iter = iter(dataset)\n",
        "for i in range(len(dataset)):\n",
        "  element = next(iter(dataset_iter))\n",
        "  print(element)"
      ],
      "execution_count": 0,
      "outputs": [
        {
          "output_type": "stream",
          "text": [
            "0\n",
            "1\n",
            "2\n",
            "3\n",
            "4\n",
            "5\n",
            "6\n",
            "7\n",
            "8\n"
          ],
          "name": "stdout"
        }
      ]
    },
    {
      "cell_type": "markdown",
      "metadata": {
        "id": "4N9FdSkbSoLQ",
        "colab_type": "text"
      },
      "source": [
        "# Training an image classifier\n",
        "\n",
        "\n",
        "We will do the following steps in order:\n",
        "\n",
        "1. Load and normalizing the CIFAR10 training and test datasets using\n",
        "   ``torchvision``\n",
        "2. Define a Convolutional Neural Network\n",
        "3. Define a loss function\n",
        "4. Train the network on the training data\n",
        "5. Test the network on the test data\n",
        "\n",
        "1. Loading and normalizing CIFAR10\n",
        "\n",
        "\n",
        "Using ``torchvision``, it’s extremely easy to load CIFAR10.\n",
        "\n",
        "\n"
      ]
    },
    {
      "cell_type": "code",
      "metadata": {
        "id": "6ipT2HN5mwPL",
        "colab_type": "code",
        "colab": {}
      },
      "source": [
        "%matplotlib inline"
      ],
      "execution_count": 0,
      "outputs": []
    },
    {
      "cell_type": "code",
      "metadata": {
        "id": "7E_ryflKmwPR",
        "colab_type": "code",
        "colab": {}
      },
      "source": [
        "import torch\n",
        "import torchvision\n",
        "import torchvision.transforms as transforms"
      ],
      "execution_count": 0,
      "outputs": []
    },
    {
      "cell_type": "markdown",
      "metadata": {
        "id": "Pwgsi7KoqQs6",
        "colab_type": "text"
      },
      "source": [
        "## 1- Load and normalizing the CIFAR10 training and test datasets using ``torchvision``"
      ]
    },
    {
      "cell_type": "markdown",
      "metadata": {
        "id": "y_nODc6EmwPU",
        "colab_type": "text"
      },
      "source": [
        "The output of torchvision datasets are PILImage images of range [0, 1].\n",
        "We transform them to Tensors of normalized range [-1, 1].\n",
        "\n"
      ]
    },
    {
      "cell_type": "code",
      "metadata": {
        "id": "J1ICv1kcmwPV",
        "colab_type": "code",
        "outputId": "6f865337-516a-4431-88d2-be7e9e6dac60",
        "colab": {
          "base_uri": "https://localhost:8080/",
          "height": 51
        }
      },
      "source": [
        "transform = transforms.Compose(\n",
        "    [transforms.ToTensor(),\n",
        "     transforms.Normalize((0.5, 0.5, 0.5), (0.5, 0.5, 0.5))])\n",
        "\n",
        "trainset = torchvision.datasets.CIFAR10(root='./data', train=True,\n",
        "                                        download=True, transform=transform)\n",
        "trainloader = torch.utils.data.DataLoader(trainset, batch_size=4,\n",
        "                                          shuffle=True, num_workers=2)\n",
        "\n",
        "testset = torchvision.datasets.CIFAR10(root='./data', train=False,\n",
        "                                       download=True, transform=transform)\n",
        "testloader = torch.utils.data.DataLoader(testset, batch_size=4,\n",
        "                                         shuffle=False, num_workers=2)\n",
        "\n",
        "classes = ('plane', 'car', 'bird', 'cat',\n",
        "           'deer', 'dog', 'frog', 'horse', 'ship', 'truck')"
      ],
      "execution_count": 0,
      "outputs": [
        {
          "output_type": "stream",
          "text": [
            "Files already downloaded and verified\n",
            "Files already downloaded and verified\n"
          ],
          "name": "stdout"
        }
      ]
    },
    {
      "cell_type": "markdown",
      "metadata": {
        "id": "zmG2EX-GDRaZ",
        "colab_type": "text"
      },
      "source": [
        "See the location of the downloaded data"
      ]
    },
    {
      "cell_type": "code",
      "metadata": {
        "id": "CMjUo43nC_sl",
        "colab_type": "code",
        "outputId": "fa0e8da4-5d8f-4b60-c66a-919895d7fccd",
        "colab": {
          "base_uri": "https://localhost:8080/",
          "height": 272
        }
      },
      "source": [
        "%pwd\n",
        "%ls -l\n",
        "%ls -l ./data\n",
        "%ls -l ./data/cifar-10-batches-py/"
      ],
      "execution_count": 0,
      "outputs": [
        {
          "output_type": "stream",
          "text": [
            "total 8\n",
            "drwxr-xr-x 3 root root 4096 Mar 24 08:50 \u001b[0m\u001b[01;34mdata\u001b[0m/\n",
            "drwxr-xr-x 1 root root 4096 Mar 18 16:23 \u001b[01;34msample_data\u001b[0m/\n",
            "total 166512\n",
            "drwxr-xr-x 2 2156 1103      4096 Jun  4  2009 \u001b[0m\u001b[01;34mcifar-10-batches-py\u001b[0m/\n",
            "-rw-r--r-- 1 root root 170498071 Mar 24 08:50 cifar-10-python.tar.gz\n",
            "total 181876\n",
            "-rw-r--r-- 1 2156 1103      158 Mar 31  2009 batches.meta\n",
            "-rw-r--r-- 1 2156 1103 31035704 Mar 31  2009 data_batch_1\n",
            "-rw-r--r-- 1 2156 1103 31035320 Mar 31  2009 data_batch_2\n",
            "-rw-r--r-- 1 2156 1103 31035999 Mar 31  2009 data_batch_3\n",
            "-rw-r--r-- 1 2156 1103 31035696 Mar 31  2009 data_batch_4\n",
            "-rw-r--r-- 1 2156 1103 31035623 Mar 31  2009 data_batch_5\n",
            "-rw-r--r-- 1 2156 1103       88 Jun  4  2009 readme.html\n",
            "-rw-r--r-- 1 2156 1103 31035526 Mar 31  2009 test_batch\n"
          ],
          "name": "stdout"
        }
      ]
    },
    {
      "cell_type": "markdown",
      "metadata": {
        "id": "JfFh3I32mwPY",
        "colab_type": "text"
      },
      "source": [
        "Let us show some of the training images, for fun.\n",
        "\n"
      ]
    },
    {
      "cell_type": "code",
      "metadata": {
        "id": "HeN57Pz3mwPZ",
        "colab_type": "code",
        "outputId": "e72b2f14-ba0d-4449-dc1f-9da5c1327b2e",
        "colab": {
          "base_uri": "https://localhost:8080/",
          "height": 155
        }
      },
      "source": [
        "import matplotlib.pyplot as plt\n",
        "import numpy as np\n",
        "\n",
        "# functions to show an image\n",
        "\n",
        "\n",
        "def imshow(img):\n",
        "    img = img / 2 + 0.5     # unnormalize\n",
        "    npimg = img.numpy()\n",
        "    plt.imshow(np.transpose(npimg, (1, 2, 0)))\n",
        "    plt.show()\n",
        "\n",
        "\n",
        "# get some random training images\n",
        "dataiter = iter(trainloader)\n",
        "images, labels = dataiter.next()\n",
        "\n",
        "# show images\n",
        "imshow(torchvision.utils.make_grid(images))\n",
        "# print labels\n",
        "print(' '.join('%5s' % classes[labels[j]] for j in range(4)))"
      ],
      "execution_count": 0,
      "outputs": [
        {
          "output_type": "display_data",
          "data": {
            "image/png": "[encoded data removed]",
            "text/plain": [
              "<Figure size 432x288 with 1 Axes>"
            ]
          },
          "metadata": {
            "tags": []
          }
        },
        {
          "output_type": "stream",
          "text": [
            "  dog   dog horse horse\n"
          ],
          "name": "stdout"
        }
      ]
    },
    {
      "cell_type": "markdown",
      "metadata": {
        "id": "Yjp0J6lamwPc",
        "colab_type": "text"
      },
      "source": [
        "## 2- Define a Convolutional Neural Network\n",
        "\n",
        "\n",
        "Copy the neural network from the Neural Networks section before and modify it to\n",
        "take 3-channel images (instead of 1-channel images as it was defined).\n",
        "\n"
      ]
    },
    {
      "cell_type": "markdown",
      "metadata": {
        "id": "JVRSlGlmzgOn",
        "colab_type": "text"
      },
      "source": [
        "The following neural network is created as a module. This is the best way to create a customized neural network (automatic differentiation is still working)\n",
        "\n",
        "More information on nn.Module [here](https://pytorch.org/tutorials/beginner/nn_tutorial.html#refactor-using-nn-module)"
      ]
    },
    {
      "cell_type": "code",
      "metadata": {
        "id": "vsPuksk8mwPd",
        "colab_type": "code",
        "colab": {}
      },
      "source": [
        "import torch.nn as nn\n",
        "import torch.nn.functional as F\n",
        "\n",
        "\n",
        "class Net(nn.Module):\n",
        "    def __init__(self):\n",
        "        super(Net, self).__init__()\n",
        "        self.conv1 = nn.Conv2d(3, 6, 5) # in_channels, out_channels, kernel size (5x5)\n",
        "        self.pool = nn.MaxPool2d(2, 2)\n",
        "        self.conv2 = nn.Conv2d(6, 16, 5) # in _channels should be = to out_channels of first conv\n",
        "        self.fc1 = nn.Linear(16 * 5 * 5, 120) # in_features = 16 (out_channels from conv2) * Size of image after conv and poolings (check below), nb of neurons\n",
        "        self.fc2 = nn.Linear(120, 84)\n",
        "        self.fc3 = nn.Linear(84, 10)\n",
        "\n",
        "    def forward(self, x):\n",
        "        # X input 32x32 \n",
        "        x = self.pool(F.relu(self.conv1(x)))\n",
        "        # CONV w-w+1=32-5+1= 28 ; H-h+1=28 --> 28x28\n",
        "        # POOL 14x14\n",
        "        x = self.pool(F.relu(self.conv2(x)))\n",
        "        # CONV w-w+1=14-5+1= 10 ; H-h+1=10 --> 10x10\n",
        "        # POOL 5x5\n",
        "\n",
        "        # flaten layers\n",
        "        x = x.view(-1, 16 * 5 * 5)\n",
        "        \n",
        "        x = F.relu(self.fc1(x))\n",
        "        x = F.relu(self.fc2(x))\n",
        "        x = self.fc3(x)\n",
        "        return x\n",
        "\n",
        "\n",
        "net = Net()"
      ],
      "execution_count": 0,
      "outputs": []
    },
    {
      "cell_type": "markdown",
      "metadata": {
        "id": "Wi7kBwBQmwPf",
        "colab_type": "text"
      },
      "source": [
        "## 3- Define a Loss function and optimizer\n",
        "\n",
        "\n",
        "Let's use a Classification Cross-Entropy loss and SGD with momentum.\n",
        "\n"
      ]
    },
    {
      "cell_type": "code",
      "metadata": {
        "id": "L5OT6LRmmwPf",
        "colab_type": "code",
        "colab": {}
      },
      "source": [
        "import torch.optim as optim\n",
        "\n",
        "criterion = nn.CrossEntropyLoss()\n",
        "optimizer = optim.SGD(net.parameters(), lr=0.001, momentum=0.9)"
      ],
      "execution_count": 0,
      "outputs": []
    },
    {
      "cell_type": "markdown",
      "metadata": {
        "id": "esXyBObZmwPh",
        "colab_type": "text"
      },
      "source": [
        "## 4- Train the network\n",
        "\n",
        "\n",
        "\n",
        "This is when things start to get interesting.\n",
        "We simply have to loop over our data iterator, and feed the inputs to the\n",
        "network and optimize.\n",
        "\n"
      ]
    },
    {
      "cell_type": "markdown",
      "metadata": {
        "id": "PQ1w4chdwsr4",
        "colab_type": "text"
      },
      "source": [
        "### Question: code the training of the network. Use the autograd mechanism and the optimizer.\n",
        "Coompute the running loss, i.e., i.e. the average of the loss over N=2000 mini-batches processes."
      ]
    },
    {
      "cell_type": "code",
      "metadata": {
        "id": "kSVsCRB8mwPi",
        "colab_type": "code",
        "outputId": "a40ba405-f31d-44ad-8296-2397fde378ba",
        "colab": {
          "base_uri": "https://localhost:8080/",
          "height": 238
        }
      },
      "source": [
        "for epoch in range(2):  # loop over the dataset multiple times\n",
        "\n",
        "    running_loss = 0.0\n",
        "    for i, data in enumerate(trainloader, 0):\n",
        "        # get the inputs; data is a list of [inputs, labels]\n",
        "        inputs, labels = data\n",
        "\n",
        "        # COMPLETE THE CELL FROM HERE\n",
        "        # ... https://pytorch.org/tutorials/beginner/blitz/cifar10_tutorial.html\n",
        "        \n",
        "        # zero the parameter gradients\n",
        "        optimizer.zero_grad()\n",
        "\n",
        "        # forward + backward + optimize\n",
        "        outputs = net(inputs)\n",
        "        loss = criterion(outputs, labels)\n",
        "        loss.backward()\n",
        "        optimizer.step()\n",
        "\n",
        "        # print statistics\n",
        "        running_loss += loss.item()\n",
        "        if i % 2000 == 1999:    # print every 2000 mini-batches\n",
        "            print('[%d, %5d] loss: %.3f' %\n",
        "                  (epoch + 1, i + 1, running_loss / 2000))\n",
        "            running_loss = 0.0\n",
        "\n",
        "print('Finished Training')"
      ],
      "execution_count": 0,
      "outputs": [
        {
          "output_type": "stream",
          "text": [
            "[1,  2000] loss: 1.711\n",
            "[1,  4000] loss: 1.632\n",
            "[1,  6000] loss: 1.599\n",
            "[1,  8000] loss: 1.550\n",
            "[1, 10000] loss: 1.531\n",
            "[1, 12000] loss: 1.506\n",
            "[2,  2000] loss: 1.447\n",
            "[2,  4000] loss: 1.441\n",
            "[2,  6000] loss: 1.409\n",
            "[2,  8000] loss: 1.390\n",
            "[2, 10000] loss: 1.393\n",
            "[2, 12000] loss: 1.379\n",
            "Finished Training\n"
          ],
          "name": "stdout"
        }
      ]
    },
    {
      "cell_type": "markdown",
      "metadata": {
        "id": "gBrU407tmwPj",
        "colab_type": "text"
      },
      "source": [
        "## 5- Test the network on the test data\n",
        "\n",
        "\n",
        "\n",
        "We have trained the network for 2 passes over the training dataset.\n",
        "But we need to check if the network has learnt anything at all.\n",
        "\n",
        "We will check this by predicting the class label that the neural network\n",
        "outputs, and checking it against the ground-truth. If the prediction is\n",
        "correct, we add the sample to the list of correct predictions.\n",
        "\n",
        "Okay, first step. Let us display an image from the test set to get familiar.\n",
        "\n"
      ]
    },
    {
      "cell_type": "code",
      "metadata": {
        "id": "JgiIuVnamwPk",
        "colab_type": "code",
        "outputId": "6013c5a2-b092-454b-d957-aa763932a709",
        "colab": {
          "base_uri": "https://localhost:8080/",
          "height": 155
        }
      },
      "source": [
        "dataiter = iter(testloader)\n",
        "images, labels = dataiter.next()\n",
        "\n",
        "# print images\n",
        "imshow(torchvision.utils.make_grid(images))\n",
        "print('GroundTruth: ', ' '.join('%5s' % classes[labels[j]] for j in range(4)))"
      ],
      "execution_count": 0,
      "outputs": [
        {
          "output_type": "display_data",
          "data": {
            "image/png": "[encoded data removed]",
            "text/plain": [
              "<Figure size 432x288 with 1 Axes>"
            ]
          },
          "metadata": {
            "tags": []
          }
        },
        {
          "output_type": "stream",
          "text": [
            "GroundTruth:    cat  ship  ship plane\n"
          ],
          "name": "stdout"
        }
      ]
    },
    {
      "cell_type": "markdown",
      "metadata": {
        "id": "S_bykMMbmwPm",
        "colab_type": "text"
      },
      "source": [
        "Okay, now let us see what the neural network thinks these examples above are:\n",
        "\n"
      ]
    },
    {
      "cell_type": "code",
      "metadata": {
        "id": "N-YZvLwVmwPm",
        "colab_type": "code",
        "outputId": "e1e7fa96-eef8-45ed-8557-2fd65b0de8e3",
        "colab": {
          "base_uri": "https://localhost:8080/",
          "height": 153
        }
      },
      "source": [
        "outputs = net(images)\n",
        "print(outputs)"
      ],
      "execution_count": 0,
      "outputs": [
        {
          "output_type": "stream",
          "text": [
            "tensor([[-0.9888, -0.3774,  0.0552,  1.5488, -0.3676,  0.4803,  0.1260, -0.5181,\n",
            "          0.3202, -0.5518],\n",
            "        [ 5.3847,  6.8997, -1.0084, -3.3860, -3.5671, -5.8661, -5.6568, -3.4850,\n",
            "          5.0068,  3.0582],\n",
            "        [ 2.6164,  1.0047,  0.5073, -0.5254, -1.2489, -2.3551, -2.2213, -1.5779,\n",
            "          3.8942,  0.3272],\n",
            "        [ 2.7645,  0.1372,  0.3528, -0.4496, -1.5744, -3.4398, -2.0663, -1.8098,\n",
            "          5.6581,  1.1659]], grad_fn=<AddmmBackward>)\n"
          ],
          "name": "stdout"
        }
      ]
    },
    {
      "cell_type": "markdown",
      "metadata": {
        "id": "d5I85BB3mwPo",
        "colab_type": "text"
      },
      "source": [
        "The outputs are energies for the 10 classes.\n",
        "The higher the energy for a class, the more the network\n",
        "thinks that the image is of the particular class.\n",
        "So, let's get the index of the highest energy:\n",
        "\n"
      ]
    },
    {
      "cell_type": "markdown",
      "metadata": {
        "id": "LETtlXhsxPpZ",
        "colab_type": "text"
      },
      "source": [
        "### Question: give the decision for all the images in the code cell above. The decision should be a label belonging to the object \"classes\""
      ]
    },
    {
      "cell_type": "code",
      "metadata": {
        "id": "DLlWRQqDmwPp",
        "colab_type": "code",
        "outputId": "5fff7217-082c-458f-a031-4d4616869a70",
        "colab": {
          "base_uri": "https://localhost:8080/",
          "height": 34
        }
      },
      "source": [
        "# COMPLETE THE CELL FROM HERE\n",
        "# ...\n",
        "_, predicted = torch.max(outputs, 1)\n",
        "\n",
        "print('Predicted: ', ' '.join('%5s' % classes[predicted[j]] for j in range(4)))"
      ],
      "execution_count": 0,
      "outputs": [
        {
          "output_type": "stream",
          "text": [
            "Predicted:    cat   car  ship  ship\n"
          ],
          "name": "stdout"
        }
      ]
    },
    {
      "cell_type": "code",
      "metadata": {
        "id": "4ztDG5tqx0P0",
        "colab_type": "code",
        "outputId": "c99e5418-6ce7-457b-a144-d18575f846a7",
        "colab": {
          "base_uri": "https://localhost:8080/",
          "height": 187
        }
      },
      "source": [
        "classes"
      ],
      "execution_count": 0,
      "outputs": [
        {
          "output_type": "execute_result",
          "data": {
            "text/plain": [
              "('plane',\n",
              " 'car',\n",
              " 'bird',\n",
              " 'cat',\n",
              " 'deer',\n",
              " 'dog',\n",
              " 'frog',\n",
              " 'horse',\n",
              " 'ship',\n",
              " 'truck')"
            ]
          },
          "metadata": {
            "tags": []
          },
          "execution_count": 44
        }
      ]
    },
    {
      "cell_type": "markdown",
      "metadata": {
        "id": "KSLIcznFmwPq",
        "colab_type": "text"
      },
      "source": [
        "The results seem pretty good.\n",
        "\n",
        "Let us look at how the network performs on the whole dataset.\n",
        "\n"
      ]
    },
    {
      "cell_type": "markdown",
      "metadata": {
        "id": "lk52bUGOx5GB",
        "colab_type": "text"
      },
      "source": [
        "### Question: compute the average accuracy over all the testset"
      ]
    },
    {
      "cell_type": "code",
      "metadata": {
        "id": "kbk8PG89mwPr",
        "colab_type": "code",
        "outputId": "6534f2ca-bb60-4ef5-d194-27a8ba027db0",
        "colab": {
          "base_uri": "https://localhost:8080/",
          "height": 34
        }
      },
      "source": [
        "correct = 0\n",
        "total = 0\n",
        "# deactivate possibility to calculate gradient as not needed any more\n",
        "# saves memory\n",
        "with torch.no_grad(): \n",
        "    for data in testloader:\n",
        "        images, labels = data\n",
        "        outputs = net(images)\n",
        "        # COMPLETE THE CELL FROM HERE\n",
        "        # ...\n",
        "        _, predicted = torch.max(outputs.data, 1)\n",
        "        total += labels.size(0)\n",
        "        correct += (predicted == labels).sum().item()\n",
        "\n",
        "print('Accuracy of the network on the 10000 test images: %d %%' % (\n",
        "    100 * correct / total))"
      ],
      "execution_count": 0,
      "outputs": [
        {
          "output_type": "stream",
          "text": [
            "Accuracy of the network on the 10000 test images: 50 %\n"
          ],
          "name": "stdout"
        }
      ]
    },
    {
      "cell_type": "markdown",
      "metadata": {
        "id": "RP083W6ZmwPs",
        "colab_type": "text"
      },
      "source": [
        "That looks way better than chance, which is 10% accuracy (randomly picking\n",
        "a class out of 10 classes).\n",
        "Seems like the network learnt something.\n",
        "\n",
        "What are the classes that performed well, and the classes that did\n",
        "not perform well\n",
        "\n",
        "\n"
      ]
    },
    {
      "cell_type": "markdown",
      "metadata": {
        "id": "NHdyJ2Q5swe8",
        "colab_type": "text"
      },
      "source": [
        "### Question: Compute the average accuracy per class (there are 10 classes)"
      ]
    },
    {
      "cell_type": "code",
      "metadata": {
        "id": "5iKkeOUvmwPs",
        "colab_type": "code",
        "outputId": "541f51b6-ff5a-4ca1-d804-74bdd7263500",
        "colab": {
          "base_uri": "https://localhost:8080/",
          "height": 187
        }
      },
      "source": [
        "class_correct = list(0. for i in range(10))\n",
        "class_total = list(0. for i in range(10))\n",
        "with torch.no_grad():\n",
        "    for data in testloader:\n",
        "        images, labels = data\n",
        "        outputs = net(images)\n",
        "        # COMPLETE THE CELL FROM HERE\n",
        "        # ...\n",
        "        _, predicted = torch.max(outputs, 1)\n",
        "        c = (predicted == labels).squeeze()\n",
        "        for i in range(4):\n",
        "            label = labels[i]\n",
        "            class_correct[label] += c[i].item()\n",
        "            class_total[label] += 1\n",
        "\n",
        "for i in range(10):\n",
        "    print('Accuracy of %5s : %2d %%' % (\n",
        "        classes[i], 100 * class_correct[i] / class_total[i]))"
      ],
      "execution_count": 0,
      "outputs": [
        {
          "output_type": "stream",
          "text": [
            "Accuracy of plane : 61 %\n",
            "Accuracy of   car : 72 %\n",
            "Accuracy of  bird : 46 %\n",
            "Accuracy of   cat : 22 %\n",
            "Accuracy of  deer : 57 %\n",
            "Accuracy of   dog : 66 %\n",
            "Accuracy of  frog : 43 %\n",
            "Accuracy of horse : 62 %\n",
            "Accuracy of  ship : 68 %\n",
            "Accuracy of truck : 57 %\n"
          ],
          "name": "stdout"
        }
      ]
    }
  ]
}